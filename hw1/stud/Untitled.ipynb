{
 "cells": [
  {
   "cell_type": "code",
   "execution_count": 21,
   "metadata": {},
   "outputs": [],
   "source": [
    "import torch\n",
    "import jsonlines\n",
    "import nltk\n",
    "from nltk.corpus import stopwords\n",
    "\n",
    "from typing import *\n",
    "import re\n",
    "\n",
    "set_stopwords = set(stopwords.words())"
   ]
  },
  {
   "cell_type": "code",
   "execution_count": 11,
   "metadata": {},
   "outputs": [],
   "source": [
    "def custom_tokenizer(sentence: str, marker: str) -> List[str]:\n",
    "    tokens = sentence.split()\n",
    "    for i, tk in enumerate(tokens):\n",
    "        if marker in tk:\n",
    "            target_position = i\n",
    "            tokens[i] = tk[len(marker) :]\n",
    "    return tokens, target_position\n",
    "\n",
    "\n",
    "def preprocess(\n",
    "    sentence: str, target_word=None, remove_stopwords=True, remove_digits=True\n",
    ") -> str:\n",
    "    # lowercase sentence\n",
    "    sentence = sentence.lower()\n",
    "    # remove punctuation\n",
    "    sentence = re.sub(r\"[^\\w\\s]\", \" \", sentence)\n",
    "    # remove digits\n",
    "    if remove_digits:\n",
    "        sentence = re.sub(r\"\\d\", \"\", sentence).strip()\n",
    "    # replace multiple adjacent spaces with one single space\n",
    "    sentence = re.sub(\" +\", \" \", sentence).strip()\n",
    "\n",
    "    # remove stopwords\n",
    "    if remove_stopwords:\n",
    "        tokens = sentence.split()\n",
    "        tokens = [\n",
    "            word\n",
    "            for word in tokens\n",
    "            if (not word in set_stopwords or word == target_word)\n",
    "        ]\n",
    "        sentence = \" \".join(tokens)\n",
    "\n",
    "    return sentence\n",
    "\n",
    "\n",
    "def get_neighbourhood(\n",
    "    tokens: List[str], target_position: int, width: int = 2\n",
    ") -> Tuple[List[str], int]:\n",
    "    neighbourhood = []\n",
    "    new_position = width\n",
    "\n",
    "    for pos in range(target_position - width, target_position + width + 1):\n",
    "        if pos < 0:\n",
    "            new_position -= 1\n",
    "            continue\n",
    "        if pos >= len(tokens):\n",
    "            continue\n",
    "        neighbourhood.append(tokens[pos])\n",
    "\n",
    "    return neighbourhood, new_position\n",
    "\n",
    "\n",
    "def tokens2indices(word_index, tokens: List[str]) -> torch.Tensor:\n",
    "    return torch.tensor([word_index[word] for word in tokens], dtype=torch.long)\n",
    "\n",
    "\n",
    "def compute_pos_tag_indexes(tokens: List[str]) -> torch.Tensor:\n",
    "    tks_tags = nltk.pos_tag(tokens)\n",
    "    indexes = torch.tensor([pos_indexes[tk_tag[1]] for tk_tag in tks_tags])\n",
    "    return indexes"
   ]
  },
  {
   "cell_type": "code",
   "execution_count": 12,
   "metadata": {},
   "outputs": [],
   "source": [
    "def read_data(dataset_path):\n",
    "    data = []\n",
    "    with jsonlines.open(dataset_path, \"r\") as f:\n",
    "        for line in f.iter():\n",
    "            data.append(line)\n",
    "    return data"
   ]
  },
  {
   "cell_type": "code",
   "execution_count": 13,
   "metadata": {},
   "outputs": [],
   "source": [
    "train_path = '../../data/train.jsonl'"
   ]
  },
  {
   "cell_type": "code",
   "execution_count": 14,
   "metadata": {},
   "outputs": [],
   "source": [
    "data = read_data(train_path)"
   ]
  },
  {
   "cell_type": "code",
   "execution_count": 26,
   "metadata": {},
   "outputs": [],
   "source": [
    "from collections import Counter\n",
    "import string\n",
    "import random\n",
    "\n",
    "\n",
    "counter = Counter()\n",
    "marker = \"\".join(random.choices(string.ascii_lowercase, k=20))\n",
    "for line in data:\n",
    "    s1 = line['sentence1']\n",
    "    s2 = line['sentence2']\n",
    "    start1 = int(line[\"start1\"])\n",
    "    start2 = int(line[\"start2\"])\n",
    "    end1 = int(line[\"end1\"])\n",
    "    end2 = int(line[\"end2\"])\n",
    "    target_word1 = s1[start1:end1]\n",
    "    target_word2 = s2[start2:end2]\n",
    "    s1 = s1[:start1] + marker + s1[start1:]\n",
    "    s2 = s2[:start2] + marker + s2[start2:]\n",
    "    \n",
    "    s1 = preprocess(s1, target_word1)\n",
    "    s2 = preprocess(s2, target_word2)\n",
    "    \n",
    "    t1, target_position1 = custom_tokenizer(s1, marker)\n",
    "    t2, target_position2 = custom_tokenizer(s2, marker)\n",
    "    counter.update(t1 + t2)"
   ]
  },
  {
   "cell_type": "code",
   "execution_count": 30,
   "metadata": {},
   "outputs": [
    {
     "data": {
      "text/plain": [
       "26119"
      ]
     },
     "execution_count": 30,
     "metadata": {},
     "output_type": "execute_result"
    }
   ],
   "source": [
    "len(counter)"
   ]
  }
 ],
 "metadata": {
  "kernelspec": {
   "display_name": "Python 3",
   "language": "python",
   "name": "python3"
  },
  "language_info": {
   "codemirror_mode": {
    "name": "ipython",
    "version": 3
   },
   "file_extension": ".py",
   "mimetype": "text/x-python",
   "name": "python",
   "nbconvert_exporter": "python",
   "pygments_lexer": "ipython3",
   "version": "3.8.5"
  }
 },
 "nbformat": 4,
 "nbformat_minor": 4
}
