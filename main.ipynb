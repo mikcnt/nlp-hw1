{
 "cells": [
  {
   "cell_type": "code",
   "execution_count": 1,
   "id": "ae9a0a96",
   "metadata": {
    "execution": {
     "iopub.execute_input": "2021-04-08T21:25:57.021542Z",
     "iopub.status.busy": "2021-04-08T21:25:57.021242Z",
     "iopub.status.idle": "2021-04-08T21:25:57.536109Z",
     "shell.execute_reply": "2021-04-08T21:25:57.535415Z",
     "shell.execute_reply.started": "2021-04-08T21:25:57.021465Z"
    },
    "tags": []
   },
   "outputs": [],
   "source": [
    "import json\n",
    "import pandas as pd\n",
    "import numpy as np\n",
    "import torch\n",
    "from torch import nn\n",
    "from pprint import pprint\n",
    "import jsonlines\n",
    "import os\n",
    "import re\n",
    "from tqdm.notebook import tqdm\n",
    "import pickle\n",
    "\n",
    "from typing import *"
   ]
  },
  {
   "cell_type": "code",
   "execution_count": 2,
   "id": "57b1cada",
   "metadata": {
    "execution": {
     "iopub.execute_input": "2021-04-08T21:25:57.537571Z",
     "iopub.status.busy": "2021-04-08T21:25:57.537137Z",
     "iopub.status.idle": "2021-04-08T21:25:57.540318Z",
     "shell.execute_reply": "2021-04-08T21:25:57.539489Z",
     "shell.execute_reply.started": "2021-04-08T21:25:57.537549Z"
    },
    "tags": []
   },
   "outputs": [],
   "source": [
    "train_path = 'data/train.jsonl'\n",
    "dev_path = 'data/dev.jsonl'"
   ]
  },
  {
   "cell_type": "markdown",
   "id": "17d4b991",
   "metadata": {},
   "source": [
    "# Utils"
   ]
  },
  {
   "cell_type": "code",
   "execution_count": 3,
   "id": "371340a2",
   "metadata": {
    "execution": {
     "iopub.execute_input": "2021-04-08T21:25:57.541513Z",
     "iopub.status.busy": "2021-04-08T21:25:57.541302Z",
     "iopub.status.idle": "2021-04-08T21:25:57.583064Z",
     "shell.execute_reply": "2021-04-08T21:25:57.581089Z",
     "shell.execute_reply.started": "2021-04-08T21:25:57.541479Z"
    },
    "tags": []
   },
   "outputs": [],
   "source": [
    "def save_dictionary(dictionary, path):\n",
    "    with open(path, 'wb') as f:\n",
    "        pickle.dump(dictionary, f, protocol=pickle.HIGHEST_PROTOCOL)\n",
    "\n",
    "def load_dictionary(path):\n",
    "    with open(path, 'rb') as f:\n",
    "        return pickle.load(f)"
   ]
  },
  {
   "cell_type": "markdown",
   "id": "ff580f31",
   "metadata": {},
   "source": [
    "# Create word embedding with GloVe"
   ]
  },
  {
   "cell_type": "code",
   "execution_count": 4,
   "id": "8bbd9bc4",
   "metadata": {
    "execution": {
     "iopub.execute_input": "2021-04-08T21:25:57.586447Z",
     "iopub.status.busy": "2021-04-08T21:25:57.585462Z",
     "iopub.status.idle": "2021-04-08T21:25:57.596661Z",
     "shell.execute_reply": "2021-04-08T21:25:57.595342Z",
     "shell.execute_reply.started": "2021-04-08T21:25:57.586321Z"
    },
    "tags": []
   },
   "outputs": [],
   "source": [
    "def sentence2vector(sentence: str) -> Optional[torch.Tensor]:\n",
    "    sentences_word_vector = [word_vectors[w] for w in sentence.split(' ') if w in word_vectors]\n",
    "    \n",
    "    if len(sentences_word_vector) == 0:\n",
    "        return None\n",
    "\n",
    "    sentences_word_vector = torch.stack(sentences_word_vector)  # tensor shape: (#words X #features)\n",
    "    return torch.mean(sentences_word_vector, dim=0)"
   ]
  },
  {
   "cell_type": "code",
   "execution_count": 5,
   "id": "3dd9884e",
   "metadata": {
    "execution": {
     "iopub.execute_input": "2021-04-08T21:25:57.598342Z",
     "iopub.status.busy": "2021-04-08T21:25:57.598083Z",
     "iopub.status.idle": "2021-04-08T21:25:57.607104Z",
     "shell.execute_reply": "2021-04-08T21:25:57.606316Z",
     "shell.execute_reply.started": "2021-04-08T21:25:57.598309Z"
    },
    "tags": []
   },
   "outputs": [],
   "source": [
    "def cosine_similarity(v1: torch.Tensor, v2: torch.Tensor) -> float:\n",
    "    num = torch.sum(v1 * v2)\n",
    "    den = torch.linalg.norm(v1) * torch.linalg.norm(v2)\n",
    "    return (num / den).item()"
   ]
  },
  {
   "cell_type": "code",
   "execution_count": 6,
   "id": "3bf98488",
   "metadata": {
    "execution": {
     "iopub.execute_input": "2021-04-08T21:25:57.608461Z",
     "iopub.status.busy": "2021-04-08T21:25:57.608217Z",
     "iopub.status.idle": "2021-04-08T21:26:29.320533Z",
     "shell.execute_reply": "2021-04-08T21:26:29.319978Z",
     "shell.execute_reply.started": "2021-04-08T21:25:57.608427Z"
    },
    "tags": []
   },
   "outputs": [
    {
     "data": {
      "application/vnd.jupyter.widget-view+json": {
       "model_id": "e7ce78692eef484ea147316553d22e11",
       "version_major": 2,
       "version_minor": 0
      },
      "text/plain": [
       "  0%|          | 0/400000 [00:00<?, ?it/s]"
      ]
     },
     "metadata": {},
     "output_type": "display_data"
    }
   ],
   "source": [
    "word_vectors = dict()\n",
    "n_words = 400_000\n",
    "with open('embeddings/glove.6B.300d.txt') as f:\n",
    "    for i, line in tqdm(enumerate(f), total=n_words):\n",
    "\n",
    "        word, *vector = line.strip().split(' ')\n",
    "        vector = torch.tensor([float(c) for c in vector])\n",
    "        \n",
    "        word_vectors[word] = vector"
   ]
  },
  {
   "cell_type": "markdown",
   "id": "a584d75e",
   "metadata": {},
   "source": [
    "# Dataset class using GloVe"
   ]
  },
  {
   "cell_type": "code",
   "execution_count": 7,
   "id": "f3d63c8d",
   "metadata": {
    "execution": {
     "iopub.execute_input": "2021-04-08T21:26:29.321956Z",
     "iopub.status.busy": "2021-04-08T21:26:29.321807Z",
     "iopub.status.idle": "2021-04-08T21:26:29.327318Z",
     "shell.execute_reply": "2021-04-08T21:26:29.326658Z",
     "shell.execute_reply.started": "2021-04-08T21:26:29.321936Z"
    },
    "tags": []
   },
   "outputs": [],
   "source": [
    "class WiCDataset(torch.utils.data.Dataset):\n",
    "    def __init__(self, dataset_path: str):\n",
    "        self.data = []\n",
    "        self.create_dataset(dataset_path)\n",
    "    \n",
    "    def create_dataset(self, dataset_path: str) -> None:\n",
    "        with jsonlines.open(dataset_path, 'r') as f:\n",
    "            for i, line in enumerate(f.iter()):\n",
    "                # s1 = sentence2vector(line['sentence1'])\n",
    "                # s2 = sentence2vector(line['sentence2'])\n",
    "                sentence = f\"{line['sentence1']} {line['sentence2']}\"\n",
    "                sentence_vector = sentence2vector(sentence)\n",
    "                \n",
    "                label = torch.tensor(1, dtype=torch.float32) if line['label'] == 'True' else torch.tensor(0, dtype=torch.float32)\n",
    "                self.data.append((sentence_vector, label))\n",
    "\n",
    "\n",
    "    def __len__(self) -> int:\n",
    "        return len(self.data)\n",
    "\n",
    "    def __getitem__(self, idx: int) -> torch.Tensor:\n",
    "        return self.data[idx]"
   ]
  },
  {
   "cell_type": "markdown",
   "id": "cf75948a",
   "metadata": {},
   "source": [
    "# Model Class"
   ]
  },
  {
   "cell_type": "code",
   "execution_count": 8,
   "id": "98af98fd",
   "metadata": {
    "execution": {
     "iopub.execute_input": "2021-04-08T21:26:29.328249Z",
     "iopub.status.busy": "2021-04-08T21:26:29.328113Z",
     "iopub.status.idle": "2021-04-08T21:26:29.371223Z",
     "shell.execute_reply": "2021-04-08T21:26:29.369036Z",
     "shell.execute_reply.started": "2021-04-08T21:26:29.328230Z"
    },
    "tags": []
   },
   "outputs": [],
   "source": [
    "class MLP(nn.Module):\n",
    "    def __init__(\n",
    "        self,\n",
    "        n_features: int,\n",
    "        num_layers: int,\n",
    "        hidden_dim: int,\n",
    "        activation: Callable[[torch.Tensor], torch.Tensor],\n",
    "    ) -> None:\n",
    "        super().__init__()\n",
    "\n",
    "        self.first_layer = nn.Linear(in_features=n_features, out_features=hidden_dim)\n",
    "\n",
    "        self.layers = (\n",
    "            nn.ModuleList()\n",
    "        )\n",
    "\n",
    "        for i in range(num_layers):\n",
    "            self.layers.append(\n",
    "                nn.Linear(in_features=hidden_dim, out_features=hidden_dim)\n",
    "            )\n",
    "        self.activation = activation\n",
    "\n",
    "        self.last_layer = nn.Linear(in_features=hidden_dim, out_features=1)\n",
    "        \n",
    "        self.sigmoid = nn.Sigmoid()\n",
    "\n",
    "    def forward(self, meshgrid: torch.Tensor) -> torch.Tensor:\n",
    "        \"\"\"\n",
    "        Applies transformations to each (x, y) independently\n",
    "\n",
    "        :param meshgrid: tensor of dimensions [..., 2], where ... means any number of dims\n",
    "        \"\"\"\n",
    "        out = meshgrid\n",
    "\n",
    "        out = self.first_layer(\n",
    "            out\n",
    "        )  # First linear layer, transforms the hidden dimensions from `n_features` (embedding dimension) to `hidden_dim`\n",
    "        for layer in self.layers:  # Apply `k` (linear, activation) layer\n",
    "            out = layer(out)\n",
    "            out = self.activation(out)\n",
    "        out = self.last_layer(\n",
    "            out\n",
    "        )  # Last linear layer to bring the `hiddem_dim` features to a binary space (`True`/`False`)\n",
    "        \n",
    "        out = self.sigmoid(out)\n",
    "        return out.squeeze(-1)\n"
   ]
  },
  {
   "cell_type": "markdown",
   "id": "4e4caf81",
   "metadata": {},
   "source": [
    "# Training process"
   ]
  },
  {
   "cell_type": "code",
   "execution_count": 14,
   "id": "e6aa5159",
   "metadata": {
    "execution": {
     "iopub.execute_input": "2021-04-08T21:27:48.101391Z",
     "iopub.status.busy": "2021-04-08T21:27:48.100754Z",
     "iopub.status.idle": "2021-04-08T21:27:48.110614Z",
     "shell.execute_reply": "2021-04-08T21:27:48.110104Z",
     "shell.execute_reply.started": "2021-04-08T21:27:48.101311Z"
    },
    "tags": []
   },
   "outputs": [],
   "source": [
    "def correctly_predicted(predicted, gt):\n",
    "    predicted_labels = (predicted > 0.5).float()\n",
    "\n",
    "    return (predicted_labels == gt).sum().item(), gt.shape[0]\n",
    "\n",
    "def step(model, criterion, xb, yb, opt=None):\n",
    "    loss = criterion(model(xb), yb)\n",
    "\n",
    "    if opt is not None:\n",
    "        loss.backward()\n",
    "        opt.step()\n",
    "        opt.zero_grad()\n",
    "\n",
    "    return loss.item(), len(xb)\n",
    "\n",
    "\n",
    "def fit(epochs, model, criterion, opt, train_dl, valid_dl):\n",
    "    for epoch in tqdm(range(epochs)):\n",
    "        model.train()\n",
    "        for xb, yb in train_dl:\n",
    "            xb = xb#.to(device)\n",
    "            yb = yb#.to(device)\n",
    "            step(model, criterion, xb, yb, opt)\n",
    "\n",
    "        model.eval()\n",
    "        with torch.no_grad():\n",
    "            # losses, nums = zip(*[step(model, criterion, xb, yb) for xb, yb in valid_dl])\n",
    "            losses = []\n",
    "            nums = []\n",
    "            corrects = []\n",
    "            for xb, yb in valid_dl:\n",
    "                loss, num = step(model, criterion, xb, yb)\n",
    "                correct, _ = correctly_predicted(model(xb), yb)\n",
    "                losses.append(loss)\n",
    "                nums.append(num)\n",
    "                corrects.append(correct)\n",
    "                \n",
    "\n",
    "        val_loss = np.sum(np.multiply(losses, nums)) / np.sum(nums)\n",
    "        val_acc = np.sum(corrects) / np.sum(nums)\n",
    "\n",
    "        print(f\"{epoch} \\t {val_loss} \\t {val_acc}\")\n"
   ]
  },
  {
   "cell_type": "code",
   "execution_count": null,
   "id": "f5497dec",
   "metadata": {},
   "outputs": [],
   "source": [
    "train_dataset = WiCDataset(train_path)\n",
    "val_dataset = WiCDataset(dev_path)\n",
    "\n",
    "train_loader = torch.utils.data.DataLoader(train_dataset, batch_size=16, shuffle=True)\n",
    "val_loader = torch.utils.data.DataLoader(val_dataset, batch_size=16, shuffle=False)"
   ]
  },
  {
   "cell_type": "code",
   "execution_count": 20,
   "id": "a12bbe76",
   "metadata": {
    "execution": {
     "iopub.execute_input": "2021-04-08T21:33:06.294571Z",
     "iopub.status.busy": "2021-04-08T21:33:06.294393Z",
     "iopub.status.idle": "2021-04-08T21:33:06.298688Z",
     "shell.execute_reply": "2021-04-08T21:33:06.298107Z",
     "shell.execute_reply.started": "2021-04-08T21:33:06.294552Z"
    },
    "tags": []
   },
   "outputs": [],
   "source": [
    "device = 'cuda' if torch.cuda.is_available() else 'cpu'\n",
    "criterion = nn.BCELoss()#.to(device)\n",
    "model = MLP(n_features=300,\n",
    "            num_layers=3, \n",
    "            hidden_dim=30, \n",
    "            activation=torch.nn.functional.relu)\n",
    "optimizer = torch.optim.Adam(model.parameters(), lr=0.001)"
   ]
  },
  {
   "cell_type": "code",
   "execution_count": 21,
   "id": "581b069c",
   "metadata": {
    "execution": {
     "iopub.execute_input": "2021-04-08T21:33:07.829384Z",
     "iopub.status.busy": "2021-04-08T21:33:07.829195Z",
     "iopub.status.idle": "2021-04-08T21:33:50.742143Z",
     "shell.execute_reply": "2021-04-08T21:33:50.741644Z",
     "shell.execute_reply.started": "2021-04-08T21:33:07.829367Z"
    },
    "tags": []
   },
   "outputs": [
    {
     "data": {
      "application/vnd.jupyter.widget-view+json": {
       "model_id": "35efeddfbfc744f296264dd95191b268",
       "version_major": 2,
       "version_minor": 0
      },
      "text/plain": [
       "  0%|          | 0/50 [00:00<?, ?it/s]"
      ]
     },
     "metadata": {},
     "output_type": "display_data"
    },
    {
     "name": "stdout",
     "output_type": "stream",
     "text": [
      "0 \t 0.6933204913139344 \t 0.5\n",
      "1 \t 0.6870300517082214 \t 0.553\n",
      "2 \t 0.6791563992500305 \t 0.579\n",
      "3 \t 0.6789726295471191 \t 0.577\n",
      "4 \t 0.6777903146743774 \t 0.571\n",
      "5 \t 0.6719452929496765 \t 0.585\n",
      "6 \t 0.681974398612976 \t 0.559\n",
      "7 \t 0.6650348825454712 \t 0.599\n",
      "8 \t 0.6677598247528076 \t 0.595\n",
      "9 \t 0.6697707805633545 \t 0.588\n",
      "10 \t 0.6627034282684326 \t 0.612\n",
      "11 \t 0.675067795753479 \t 0.581\n",
      "12 \t 0.6737104334831238 \t 0.585\n",
      "13 \t 0.6685144004821777 \t 0.615\n",
      "14 \t 0.6694449524879456 \t 0.603\n",
      "15 \t 0.6813583598136902 \t 0.579\n",
      "16 \t 0.6789848222732544 \t 0.58\n",
      "17 \t 0.6840828213691711 \t 0.58\n",
      "18 \t 0.6755523300170898 \t 0.611\n",
      "19 \t 0.6998516340255737 \t 0.592\n",
      "20 \t 0.7067382183074952 \t 0.581\n",
      "21 \t 0.7074954133033753 \t 0.57\n",
      "22 \t 0.694884271144867 \t 0.588\n",
      "23 \t 0.6757417006492614 \t 0.601\n",
      "24 \t 0.6978282237052917 \t 0.588\n",
      "25 \t 0.6946180810928345 \t 0.602\n",
      "26 \t 0.7257387251853943 \t 0.603\n",
      "27 \t 0.7149130010604858 \t 0.592\n",
      "28 \t 0.707258373260498 \t 0.602\n",
      "29 \t 0.7276634707450866 \t 0.594\n",
      "30 \t 0.7384644708633423 \t 0.573\n",
      "31 \t 0.7264115376472473 \t 0.6\n",
      "32 \t 0.7481110997200012 \t 0.588\n",
      "33 \t 0.792276876449585 \t 0.551\n",
      "34 \t 0.7741464593410492 \t 0.573\n",
      "35 \t 0.7642960915565491 \t 0.592\n",
      "36 \t 0.8110002746582031 \t 0.583\n",
      "37 \t 0.8109287385940551 \t 0.599\n",
      "38 \t 0.8603174333572388 \t 0.57\n",
      "39 \t 0.8186795878410339 \t 0.573\n",
      "40 \t 0.8118447899818421 \t 0.567\n",
      "41 \t 0.8839670798778534 \t 0.586\n",
      "42 \t 0.8738214001655579 \t 0.58\n",
      "43 \t 0.805186863899231 \t 0.556\n",
      "44 \t 0.8580323143005371 \t 0.563\n",
      "45 \t 0.9087008337974548 \t 0.564\n",
      "46 \t 1.0439120872020722 \t 0.57\n",
      "47 \t 1.0010664389133452 \t 0.564\n",
      "48 \t 1.0176649847030639 \t 0.561\n",
      "49 \t 1.1151446287631988 \t 0.57\n"
     ]
    }
   ],
   "source": [
    "fit(50, model, criterion, optimizer, train_loader, val_loader)"
   ]
  }
 ],
 "metadata": {
  "kernelspec": {
   "display_name": "Python 3",
   "language": "python",
   "name": "python3"
  },
  "language_info": {
   "codemirror_mode": {
    "name": "ipython",
    "version": 3
   },
   "file_extension": ".py",
   "mimetype": "text/x-python",
   "name": "python",
   "nbconvert_exporter": "python",
   "pygments_lexer": "ipython3",
   "version": "3.7.10"
  }
 },
 "nbformat": 4,
 "nbformat_minor": 5
}
