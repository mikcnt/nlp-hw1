{
 "cells": [
  {
   "cell_type": "code",
   "execution_count": 40,
   "id": "99616cf1",
   "metadata": {
    "execution": {
     "iopub.execute_input": "2021-04-11T15:16:51.262689Z",
     "iopub.status.busy": "2021-04-11T15:16:51.262043Z",
     "iopub.status.idle": "2021-04-11T15:16:51.268852Z",
     "shell.execute_reply": "2021-04-11T15:16:51.268343Z",
     "shell.execute_reply.started": "2021-04-11T15:16:51.262606Z"
    },
    "tags": []
   },
   "outputs": [],
   "source": [
    "import json\n",
    "import pandas as pd\n",
    "import numpy as np\n",
    "import torch\n",
    "from torch import nn\n",
    "from pprint import pprint\n",
    "import jsonlines\n",
    "import os\n",
    "import re\n",
    "from tqdm.notebook import tqdm\n",
    "import pickle\n",
    "import string\n",
    "import random\n",
    "\n",
    "import nltk\n",
    "from nltk.stem.porter import PorterStemmer\n",
    "\n",
    "from typing import *"
   ]
  },
  {
   "cell_type": "code",
   "execution_count": 2,
   "id": "1ef22248",
   "metadata": {
    "execution": {
     "iopub.execute_input": "2021-04-11T14:33:11.684307Z",
     "iopub.status.busy": "2021-04-11T14:33:11.684185Z",
     "iopub.status.idle": "2021-04-11T14:33:11.687152Z",
     "shell.execute_reply": "2021-04-11T14:33:11.686529Z",
     "shell.execute_reply.started": "2021-04-11T14:33:11.684291Z"
    },
    "tags": []
   },
   "outputs": [],
   "source": [
    "train_path = 'data/train.jsonl'\n",
    "dev_path = 'data/dev.jsonl'"
   ]
  },
  {
   "cell_type": "markdown",
   "id": "1bce9b59",
   "metadata": {},
   "source": [
    "# Utils"
   ]
  },
  {
   "cell_type": "code",
   "execution_count": 4,
   "id": "be3e34f0",
   "metadata": {
    "execution": {
     "iopub.execute_input": "2021-04-11T14:33:34.626531Z",
     "iopub.status.busy": "2021-04-11T14:33:34.626342Z",
     "iopub.status.idle": "2021-04-11T14:33:34.662276Z",
     "shell.execute_reply": "2021-04-11T14:33:34.661601Z",
     "shell.execute_reply.started": "2021-04-11T14:33:34.626513Z"
    },
    "tags": []
   },
   "outputs": [],
   "source": [
    "# https://stackoverflow.com/questions/49239941/what-is-unk-in-the-pretrained-glove-vector-files-e-g-glove-6b-50d-txt\n",
    "\n",
    "unk_embedding = '0.22418134 -0.28881392 0.13854356 0.00365387 -0.12870757 0.10243822 0.061626635 0.07318011 -0.061350107 -1.3477012 0.42037755 -0.063593924 -0.09683349 0.18086134 0.23704372 0.014126852 0.170096 -1.1491593 0.31497982 0.06622181 0.024687296 0.076693475 0.13851812 0.021302193 -0.06640582 -0.010336159 0.13523154 -0.042144544 -0.11938788 0.006948221 0.13333307 -0.18276379 0.052385733 0.008943111 -0.23957317 0.08500333 -0.006894406 0.0015864656 0.063391194 0.19177166 -0.13113557 -0.11295479 -0.14276934 0.03413971 -0.034278486 -0.051366422 0.18891625 -0.16673574 -0.057783455 0.036823478 0.08078679 0.022949161 0.033298038 0.011784158 0.05643189 -0.042776518 0.011959623 0.011552498 -0.0007971594 0.11300405 -0.031369694 -0.0061559738 -0.009043574 -0.415336 -0.18870236 0.13708843 0.005911723 -0.113035575 -0.030096142 -0.23908928 -0.05354085 -0.044904727 -0.20228513 0.0065645403 -0.09578946 -0.07391877 -0.06487607 0.111740574 -0.048649278 -0.16565254 -0.052037314 -0.078968436 0.13684988 0.0757494 -0.006275573 0.28693774 0.52017444 -0.0877165 -0.33010918 -0.1359622 0.114895485 -0.09744406 0.06269521 0.12118575 -0.08026362 0.35256687 -0.060017522 -0.04889904 -0.06828978 0.088740796 0.003964443 -0.0766291 0.1263925 0.07809314 -0.023164088 -0.5680669 -0.037892066 -0.1350967 -0.11351585 -0.111434504 -0.0905027 0.25174105 -0.14841858 0.034635577 -0.07334565 0.06320108 -0.038343467 -0.05413284 0.042197507 -0.090380974 -0.070528865 -0.009174437 0.009069661 0.1405178 0.02958134 -0.036431845 -0.08625681 0.042951006 0.08230793 0.0903314 -0.12279937 -0.013899368 0.048119213 0.08678239 -0.14450377 -0.04424887 0.018319942 0.015026873 -0.100526 0.06021201 0.74059093 -0.0016333034 -0.24960588 -0.023739101 0.016396184 0.11928964 0.13950661 -0.031624354 -0.01645025 0.14079992 -0.0002824564 -0.08052984 -0.0021310581 -0.025350995 0.086938225 0.14308536 0.17146006 -0.13943303 0.048792403 0.09274929 -0.053167373 0.031103406 0.012354865 0.21057427 0.32618305 0.18015954 -0.15881181 0.15322933 -0.22558987 -0.04200665 0.0084689725 0.038156632 0.15188617 0.13274793 0.113756925 -0.095273495 -0.049490947 -0.10265804 -0.27064866 -0.034567792 -0.018810693 -0.0010360252 0.10340131 0.13883452 0.21131058 -0.01981019 0.1833468 -0.10751636 -0.03128868 0.02518242 0.23232952 0.042052146 0.11731903 -0.15506615 0.0063580726 -0.15429358 0.1511722 0.12745973 0.2576985 -0.25486213 -0.0709463 0.17983761 0.054027 -0.09884228 -0.24595179 -0.093028545 -0.028203879 0.094398156 0.09233813 0.029291354 0.13110267 0.15682974 -0.016919162 0.23927948 -0.1343307 -0.22422817 0.14634751 -0.064993896 0.4703685 -0.027190214 0.06224946 -0.091360025 0.21490277 -0.19562101 -0.10032754 -0.09056772 -0.06203493 -0.18876675 -0.10963594 -0.27734384 0.12616494 -0.02217992 -0.16058226 -0.080475815 0.026953284 0.110732645 0.014894041 0.09416802 0.14299914 -0.1594008 -0.066080004 -0.007995227 -0.11668856 -0.13081996 -0.09237365 0.14741232 0.09180138 0.081735 0.3211204 -0.0036552632 -0.047030564 -0.02311798 0.048961394 0.08669574 -0.06766279 -0.50028914 -0.048515294 0.14144728 -0.032994404 -0.11954345 -0.14929578 -0.2388355 -0.019883996 -0.15917352 -0.052084364 0.2801028 -0.0029121689 -0.054581646 -0.47385484 0.17112483 -0.12066923 -0.042173345 0.1395337 0.26115036 0.012869649 0.009291686 -0.0026459037 -0.075331464 0.017840583 -0.26869613 -0.21820338 -0.17084768 -0.1022808 -0.055290595 0.13513643 0.12362477 -0.10980586 0.13980341 -0.20233242 0.08813751 0.3849736 -0.10653763 -0.06199595 0.028849555 0.03230154 0.023856193 0.069950655 0.19310954 -0.077677034 -0.144811'\n",
    "unk_embedding = unk_embedding.strip().split(' ')\n",
    "unk_embedding = torch.tensor([float(c) for c in unk_embedding])"
   ]
  },
  {
   "cell_type": "code",
   "execution_count": 5,
   "id": "bbc02c8b",
   "metadata": {
    "execution": {
     "iopub.execute_input": "2021-04-11T14:33:34.738205Z",
     "iopub.status.busy": "2021-04-11T14:33:34.738039Z",
     "iopub.status.idle": "2021-04-11T14:33:34.741314Z",
     "shell.execute_reply": "2021-04-11T14:33:34.740924Z",
     "shell.execute_reply.started": "2021-04-11T14:33:34.738186Z"
    },
    "tags": []
   },
   "outputs": [],
   "source": [
    "def save_dictionary(dictionary, path):\n",
    "    with open(path, 'wb') as f:\n",
    "        pickle.dump(dictionary, f, protocol=pickle.HIGHEST_PROTOCOL)\n",
    "\n",
    "def load_dictionary(path):\n",
    "    with open(path, 'rb') as f:\n",
    "        return pickle.load(f)"
   ]
  },
  {
   "cell_type": "code",
   "execution_count": 6,
   "id": "1ad7b1d0",
   "metadata": {
    "execution": {
     "iopub.execute_input": "2021-04-11T14:33:38.539780Z",
     "iopub.status.busy": "2021-04-11T14:33:38.539616Z",
     "iopub.status.idle": "2021-04-11T14:33:38.548038Z",
     "shell.execute_reply": "2021-04-11T14:33:38.547291Z",
     "shell.execute_reply.started": "2021-04-11T14:33:38.539761Z"
    },
    "tags": []
   },
   "outputs": [],
   "source": [
    "# Saving / loading models\n",
    "class Checkpoint:\n",
    "    def __init__(self, path, resume=False):\n",
    "        self.path = path\n",
    "        os.makedirs(path, exist_ok=True)\n",
    "        self.resume = resume\n",
    "\n",
    "    def load(self, model, optimizer, id_path=\"\"):\n",
    "        if (not self.resume) and id_path == \"\":\n",
    "            raise RuntimeError()\n",
    "        if self.resume:\n",
    "            id_path = sorted(os.listdir(self.path))[-1]\n",
    "        self.checkpoint = torch.load(\n",
    "            os.path.join(self.path, id_path), map_location=lambda storage, loc: storage\n",
    "        )\n",
    "        if self.checkpoint == None:\n",
    "            raise RuntimeError(\"Checkpoint empty.\")\n",
    "        epoch = self.checkpoint[\"epoch\"]\n",
    "        model.load_state_dict(self.checkpoint[\"model_state_dict\"])\n",
    "        optimizer.load_state_dict(self.checkpoint[\"optimizer_state_dict\"])\n",
    "        loss = self.checkpoint[\"loss\"]\n",
    "        return (model, optimizer, epoch, loss)\n",
    "\n",
    "    def save(self, model, optimizer, epoch, loss, accuracy):\n",
    "        model_checkpoint = {\n",
    "            \"model_state_dict\": model.state_dict(),\n",
    "            \"optimizer_state_dict\": optimizer.state_dict(),\n",
    "            \"epoch\": epoch,\n",
    "            \"loss\": loss,\n",
    "            \"accuracy\": accuracy\n",
    "        }\n",
    "        checkpoint_name = \"{}.pth\".format(str(epoch).zfill(3))\n",
    "        complete_path = os.path.join(self.path, checkpoint_name)\n",
    "        torch.save(model_checkpoint, complete_path)\n",
    "        return checkpoint_name\n",
    "\n",
    "    def load_just_model(self, model, id_path=\"\"):\n",
    "        if self.resume:\n",
    "            id_path = sorted(os.listdir(self.path))[-1]\n",
    "        self.checkpoint = torch.load(\n",
    "            os.path.join(self.path, id_path), map_location=lambda storage, loc: storage\n",
    "        )\n",
    "        if self.checkpoint == None:\n",
    "            raise RuntimeError(\"Checkpoint empty.\")\n",
    "        model.load_state_dict(self.checkpoint[\"model_state_dict\"])\n",
    "        return model"
   ]
  },
  {
   "cell_type": "code",
   "execution_count": 7,
   "id": "e3bef206",
   "metadata": {
    "execution": {
     "iopub.execute_input": "2021-04-11T14:33:42.680273Z",
     "iopub.status.busy": "2021-04-11T14:33:42.680080Z",
     "iopub.status.idle": "2021-04-11T14:33:42.683613Z",
     "shell.execute_reply": "2021-04-11T14:33:42.683085Z",
     "shell.execute_reply.started": "2021-04-11T14:33:42.680251Z"
    },
    "tags": []
   },
   "outputs": [],
   "source": [
    "def preprocess(sentence):\n",
    "    # lowercase sentence\n",
    "    sentence = sentence.lower()\n",
    "    # remove punctuation\n",
    "    # sentence = sentence.translate(str.maketrans('', '', string.punctuation))\n",
    "    sentence = re.sub('[^\\w\\s]', ' ', sentence)\n",
    "    sentence = re.sub(' +', ' ', sentence).strip()\n",
    "    return sentence"
   ]
  },
  {
   "cell_type": "code",
   "execution_count": 25,
   "id": "63fd9250",
   "metadata": {
    "execution": {
     "iopub.execute_input": "2021-04-11T15:09:23.802638Z",
     "iopub.status.busy": "2021-04-11T15:09:23.802109Z",
     "iopub.status.idle": "2021-04-11T15:09:23.809438Z",
     "shell.execute_reply": "2021-04-11T15:09:23.808386Z",
     "shell.execute_reply.started": "2021-04-11T15:09:23.802569Z"
    },
    "tags": []
   },
   "outputs": [],
   "source": [
    "def find_position(sentence: str, start: int):\n",
    "    return len(re.findall(\" +\", sentence[:start]))"
   ]
  },
  {
   "cell_type": "markdown",
   "id": "b59a3e96",
   "metadata": {},
   "source": [
    "# Create word embedding with GloVe"
   ]
  },
  {
   "cell_type": "code",
   "execution_count": 10,
   "id": "cde48e51",
   "metadata": {
    "execution": {
     "iopub.execute_input": "2021-04-11T14:33:47.759187Z",
     "iopub.status.busy": "2021-04-11T14:33:47.758525Z",
     "iopub.status.idle": "2021-04-11T14:33:47.769254Z",
     "shell.execute_reply": "2021-04-11T14:33:47.767970Z",
     "shell.execute_reply.started": "2021-04-11T14:33:47.759106Z"
    },
    "tags": []
   },
   "outputs": [],
   "source": [
    "def sentence2vector(sentence: str) -> Optional[torch.Tensor]:\n",
    "    sentences_word_vector = []\n",
    "    for w in re.split(\" +\", sentence):\n",
    "        word_embedding = word_vectors[w] if w in word_vectors else unk_embedding\n",
    "        sentences_word_vector.append(word_embedding)\n",
    "    # sentences_word_vector = [word_vectors[w] for w in re.split(\" +\", sentence) if w in word_vectors]\n",
    "    \n",
    "    if len(sentences_word_vector) == 0:\n",
    "        return None\n",
    "\n",
    "    sentences_word_vector = torch.stack(sentences_word_vector)  # tensor shape: (#words X #features)\n",
    "    return torch.mean(sentences_word_vector, dim=0)"
   ]
  },
  {
   "cell_type": "code",
   "execution_count": 70,
   "id": "63b41e82",
   "metadata": {
    "execution": {
     "iopub.execute_input": "2021-04-11T15:53:58.853055Z",
     "iopub.status.busy": "2021-04-11T15:53:58.852886Z",
     "iopub.status.idle": "2021-04-11T15:53:58.857772Z",
     "shell.execute_reply": "2021-04-11T15:53:58.857372Z",
     "shell.execute_reply.started": "2021-04-11T15:53:58.853036Z"
    },
    "tags": []
   },
   "outputs": [],
   "source": [
    "def tokens2vector(tokens: str, target_position: int) -> Optional[torch.Tensor]:\n",
    "    # get embedding for each word in the sentence\n",
    "    sentences_word_vector = []\n",
    "    for w in tokens:\n",
    "        word_embedding = word_vectors[w] if w in word_vectors else unk_embedding\n",
    "        sentences_word_vector.append(word_embedding)\n",
    "    \n",
    "    sentences_word_vector = torch.stack(sentences_word_vector)\n",
    "    \n",
    "    # weights from 1 to 0\n",
    "    weights = torch.linspace(1, 0.1, len(sentences_word_vector)).unsqueeze(1)\n",
    "    \n",
    "    # weighted vector\n",
    "    new_vectors = sentences_word_vector\n",
    "    \n",
    "    t = target_position\n",
    "    n = len(sentences_word_vector)\n",
    "    # right of the target word\n",
    "    new_vectors[t:] = new_vectors[t:] * weights[:n - t]\n",
    "    # left of the target word\n",
    "    new_vectors[:t] = new_vectors[:t] * reversed(weights[1:t + 1])\n",
    "    \n",
    "    # denominator (sum of the weights)\n",
    "    weights_sum = weights[:n - t].sum() + weights[1:t + 1].sum()\n",
    "\n",
    "    return new_vectors.sum(dim=0) / weights_sum"
   ]
  },
  {
   "cell_type": "code",
   "execution_count": 12,
   "id": "e0cb8b23",
   "metadata": {
    "execution": {
     "iopub.execute_input": "2021-04-11T14:33:50.417489Z",
     "iopub.status.busy": "2021-04-11T14:33:50.416668Z",
     "iopub.status.idle": "2021-04-11T14:33:50.430451Z",
     "shell.execute_reply": "2021-04-11T14:33:50.427948Z",
     "shell.execute_reply.started": "2021-04-11T14:33:50.417405Z"
    },
    "tags": []
   },
   "outputs": [],
   "source": [
    "def cosine_similarity(v1: torch.Tensor, v2: torch.Tensor) -> float:\n",
    "    num = torch.sum(v1 * v2)\n",
    "    den = torch.linalg.norm(v1) * torch.linalg.norm(v2)\n",
    "    return (num / den).item()"
   ]
  },
  {
   "cell_type": "code",
   "execution_count": 73,
   "id": "17d21cad",
   "metadata": {
    "execution": {
     "iopub.execute_input": "2021-04-11T15:59:52.975089Z",
     "iopub.status.busy": "2021-04-11T15:59:52.974585Z",
     "iopub.status.idle": "2021-04-11T16:00:25.602211Z",
     "shell.execute_reply": "2021-04-11T16:00:25.601738Z",
     "shell.execute_reply.started": "2021-04-11T15:59:52.975027Z"
    },
    "tags": []
   },
   "outputs": [
    {
     "data": {
      "application/vnd.jupyter.widget-view+json": {
       "model_id": "0a71c391476744fd9d2b2e1cab6e846c",
       "version_major": 2,
       "version_minor": 0
      },
      "text/plain": [
       "  0%|          | 0/400000 [00:00<?, ?it/s]"
      ]
     },
     "metadata": {},
     "output_type": "display_data"
    }
   ],
   "source": [
    "word_vectors = dict()\n",
    "n_words = 400_000\n",
    "with open('embeddings/glove.6B.300d.txt') as f:\n",
    "    for i, line in tqdm(enumerate(f), total=n_words):\n",
    "\n",
    "        word, *vector = line.strip().split(' ')\n",
    "        vector = torch.tensor([float(c) for c in vector])\n",
    "        \n",
    "        word_vectors[word] = vector"
   ]
  },
  {
   "cell_type": "code",
   "execution_count": 34,
   "id": "c594094c",
   "metadata": {
    "execution": {
     "iopub.execute_input": "2021-04-09T13:23:58.035928Z",
     "iopub.status.busy": "2021-04-09T13:23:58.035659Z",
     "iopub.status.idle": "2021-04-09T13:24:17.643624Z",
     "shell.execute_reply": "2021-04-09T13:24:17.643100Z",
     "shell.execute_reply.started": "2021-04-09T13:23:58.035895Z"
    },
    "tags": []
   },
   "outputs": [],
   "source": [
    "# save_dictionary(word_vectors, 'model/vocabulary.pkl')"
   ]
  },
  {
   "cell_type": "code",
   "execution_count": 74,
   "id": "18939cfa",
   "metadata": {
    "execution": {
     "iopub.execute_input": "2021-04-11T16:00:25.603105Z",
     "iopub.status.busy": "2021-04-11T16:00:25.602959Z",
     "iopub.status.idle": "2021-04-11T16:00:25.605925Z",
     "shell.execute_reply": "2021-04-11T16:00:25.605391Z",
     "shell.execute_reply.started": "2021-04-11T16:00:25.603086Z"
    },
    "tags": []
   },
   "outputs": [],
   "source": [
    "random.seed(42)\n",
    "marker = ''.join(random.choices(string.ascii_lowercase, k=20))"
   ]
  },
  {
   "cell_type": "code",
   "execution_count": 57,
   "id": "fd04ac57",
   "metadata": {
    "execution": {
     "iopub.execute_input": "2021-04-11T15:28:41.152221Z",
     "iopub.status.busy": "2021-04-11T15:28:41.151156Z",
     "iopub.status.idle": "2021-04-11T15:28:41.172602Z",
     "shell.execute_reply": "2021-04-11T15:28:41.172024Z",
     "shell.execute_reply.started": "2021-04-11T15:28:41.152085Z"
    },
    "tags": []
   },
   "outputs": [],
   "source": [
    "with jsonlines.open(train_path, 'r') as f:\n",
    "    for i, line in enumerate(f.iter()):\n",
    "        start1 = int(line['start1'])\n",
    "        start2 = int(line['start2'])\n",
    "        end1 = int(line['end1'])\n",
    "        end2 = int(line['end2'])\n",
    "        s1 = line['sentence1']\n",
    "        s2 = line['sentence2']\n",
    "        lemma1 = s1[start1:end1]\n",
    "        lemma2 = s2[start2:end2]\n",
    "        \n",
    "        s1_special = s1[:start1] + special_chars + s1[start1:]\n",
    "        break"
   ]
  },
  {
   "cell_type": "code",
   "execution_count": 78,
   "id": "6703ca03",
   "metadata": {
    "execution": {
     "iopub.execute_input": "2021-04-11T16:00:30.986453Z",
     "iopub.status.busy": "2021-04-11T16:00:30.986283Z",
     "iopub.status.idle": "2021-04-11T16:00:30.989556Z",
     "shell.execute_reply": "2021-04-11T16:00:30.989031Z",
     "shell.execute_reply.started": "2021-04-11T16:00:30.986432Z"
    },
    "tags": []
   },
   "outputs": [],
   "source": [
    "def custom_tokenizer(sentence, marker):\n",
    "    tokens = sentence.split()\n",
    "    for i, tk in enumerate(tokens):\n",
    "        if marker in tk:\n",
    "            target_position = i\n",
    "            tokens[i] = tk[20:]\n",
    "    return tokens, target_position"
   ]
  },
  {
   "cell_type": "markdown",
   "id": "a6a1075c",
   "metadata": {},
   "source": [
    "# Dataset class using GloVe"
   ]
  },
  {
   "cell_type": "code",
   "execution_count": 86,
   "id": "0667c250",
   "metadata": {
    "execution": {
     "iopub.execute_input": "2021-04-11T16:02:04.194393Z",
     "iopub.status.busy": "2021-04-11T16:02:04.193719Z",
     "iopub.status.idle": "2021-04-11T16:02:04.212549Z",
     "shell.execute_reply": "2021-04-11T16:02:04.211972Z",
     "shell.execute_reply.started": "2021-04-11T16:02:04.194310Z"
    },
    "tags": []
   },
   "outputs": [],
   "source": [
    "class WiCDataset(torch.utils.data.Dataset):\n",
    "    def __init__(self, dataset_path: str, marker: str):\n",
    "        self.data = []\n",
    "        self.marker = marker\n",
    "        self.create_dataset(dataset_path)\n",
    "        \n",
    "    \n",
    "    def create_dataset(self, dataset_path: str) -> None:\n",
    "        with jsonlines.open(dataset_path, 'r') as f:\n",
    "            for i, line in enumerate(f.iter()):\n",
    "                # load sentences\n",
    "                start1 = int(line['start1'])\n",
    "                start2 = int(line['start2'])\n",
    "                s1 = line['sentence1']\n",
    "                s2 = line['sentence2']\n",
    "                # insert special characters to locate target word after preprocessing\n",
    "                s1 = s1[:start1] + self.marker + s1[start1:]\n",
    "                s2 = s2[:start1] + self.marker + s2[start1:]\n",
    "                \n",
    "                # preprocessing\n",
    "                s1 = preprocess(s1)\n",
    "                s2 = preprocess(s2)\n",
    "                \n",
    "                # tokenization\n",
    "                t1, target_position1 = custom_tokenizer(s1, self.marker)\n",
    "                t2, target_position2 = custom_tokenizer(s2, self.marker)\n",
    "                \n",
    "                # convert tokens to embeddings and aggregate\n",
    "                v1 = tokens2vector(t1, target_position1)\n",
    "                v2 = tokens2vector(t2, target_position2)\n",
    "                \n",
    "                # concatenate vectors\n",
    "                sentence_vector = torch.cat((v1, v2))\n",
    "                \n",
    "                label = torch.tensor(1, dtype=torch.float32) if line['label'] == 'True' else torch.tensor(0, dtype=torch.float32)\n",
    "                self.data.append((sentence_vector, label))\n",
    "\n",
    "\n",
    "    def __len__(self) -> int:\n",
    "        return len(self.data)\n",
    "\n",
    "    def __getitem__(self, idx: int) -> torch.Tensor:\n",
    "        return self.data[idx]"
   ]
  },
  {
   "cell_type": "markdown",
   "id": "8126a5d2",
   "metadata": {},
   "source": [
    "# Model Class"
   ]
  },
  {
   "cell_type": "code",
   "execution_count": 81,
   "id": "06998760",
   "metadata": {
    "execution": {
     "iopub.execute_input": "2021-04-11T16:00:54.244841Z",
     "iopub.status.busy": "2021-04-11T16:00:54.244652Z",
     "iopub.status.idle": "2021-04-11T16:00:54.250422Z",
     "shell.execute_reply": "2021-04-11T16:00:54.249868Z",
     "shell.execute_reply.started": "2021-04-11T16:00:54.244824Z"
    },
    "tags": []
   },
   "outputs": [],
   "source": [
    "class MLP(nn.Module):\n",
    "    def __init__(\n",
    "        self,\n",
    "        n_features: int,\n",
    "        num_layers: int,\n",
    "        hidden_dim: int,\n",
    "        activation: Callable[[torch.Tensor], torch.Tensor],\n",
    "    ) -> None:\n",
    "        super().__init__()\n",
    "\n",
    "        self.first_layer = nn.Linear(in_features=n_features, out_features=hidden_dim)\n",
    "\n",
    "        self.layers = (\n",
    "            nn.ModuleList()\n",
    "        )\n",
    "\n",
    "        for i in range(num_layers):\n",
    "            self.layers.append(\n",
    "                nn.Linear(in_features=hidden_dim, out_features=hidden_dim)\n",
    "            )\n",
    "        self.activation = activation\n",
    "        \n",
    "        self.batchnorm = nn.BatchNorm1d(hidden_dim)\n",
    "\n",
    "        self.last_layer = nn.Linear(in_features=hidden_dim, out_features=1)\n",
    "        \n",
    "        self.sigmoid = nn.Sigmoid()\n",
    "\n",
    "    def forward(self, meshgrid: torch.Tensor) -> torch.Tensor:\n",
    "        \"\"\"\n",
    "        Applies transformations to each (x, y) independently\n",
    "\n",
    "        :param meshgrid: tensor of dimensions [..., 2], where ... means any number of dims\n",
    "        \"\"\"\n",
    "        out = meshgrid\n",
    "\n",
    "        out = self.first_layer(\n",
    "            out\n",
    "        )  # First linear layer, transforms the hidden dimensions from `n_features` (embedding dimension) to `hidden_dim`\n",
    "        for layer in self.layers:  # Apply `k` (linear, activation) layer\n",
    "            out = layer(out)\n",
    "            out = self.activation(out)\n",
    "            # out = self.batchnorm(out)\n",
    "            # out = nn.Dropout(p=0.2)(out)\n",
    "        out = self.last_layer(\n",
    "            out\n",
    "        )  # Last linear layer to bring the `hiddem_dim` features to a binary space (`True`/`False`)\n",
    "        \n",
    "        out = self.sigmoid(out)\n",
    "        return out.squeeze(-1)\n"
   ]
  },
  {
   "cell_type": "markdown",
   "id": "7abacd6d",
   "metadata": {},
   "source": [
    "# Training process"
   ]
  },
  {
   "cell_type": "code",
   "execution_count": 77,
   "id": "00bc9e6a",
   "metadata": {
    "execution": {
     "iopub.execute_input": "2021-04-11T16:00:25.635655Z",
     "iopub.status.busy": "2021-04-11T16:00:25.635470Z",
     "iopub.status.idle": "2021-04-11T16:00:25.648940Z",
     "shell.execute_reply": "2021-04-11T16:00:25.648418Z",
     "shell.execute_reply.started": "2021-04-11T16:00:25.635636Z"
    },
    "tags": []
   },
   "outputs": [],
   "source": [
    "def correctly_predicted(predicted, gt):\n",
    "    predicted_labels = (predicted > 0.5).float()\n",
    "\n",
    "    return (predicted_labels == gt).sum().item(), gt.shape[0]\n",
    "\n",
    "def step(model, criterion, xb, yb, opt=None):\n",
    "    loss = criterion(model(xb), yb)\n",
    "\n",
    "    if opt is not None:\n",
    "        loss.backward()\n",
    "        opt.step()\n",
    "        opt.zero_grad()\n",
    "\n",
    "    return loss.item(), len(xb)\n",
    "\n",
    "\n",
    "def fit(epochs, model, criterion, opt, train_dl, valid_dl, checkpoint=None):\n",
    "    for epoch in tqdm(range(epochs)):\n",
    "        model.train()\n",
    "        for xb, yb in train_dl:\n",
    "            xb = xb.to(device)\n",
    "            yb = yb.to(device)\n",
    "            step(model, criterion, xb, yb, opt)\n",
    "\n",
    "        model.eval()\n",
    "        with torch.no_grad():\n",
    "            # losses, nums = zip(*[step(model, criterion, xb, yb) for xb, yb in valid_dl])\n",
    "            losses = []\n",
    "            nums = []\n",
    "            corrects = []\n",
    "            for xb, yb in valid_dl:\n",
    "                xb = xb.to(device)\n",
    "                yb = yb.to(device)\n",
    "                \n",
    "                loss, num = step(model, criterion, xb, yb)\n",
    "                correct, _ = correctly_predicted(model(xb), yb)\n",
    "                losses.append(loss)\n",
    "                nums.append(num)\n",
    "                corrects.append(correct)\n",
    "                \n",
    "        val_loss = np.sum(np.multiply(losses, nums)) / np.sum(nums)\n",
    "        val_acc = np.sum(corrects) / np.sum(nums)\n",
    "\n",
    "        if checkpoint:\n",
    "            checkpoint.save(model, opt, epoch, val_loss, val_acc)\n",
    "\n",
    "        print(f\"{epoch} \\t {val_loss:.2f} \\t {val_acc}\")\n"
   ]
  },
  {
   "cell_type": "code",
   "execution_count": 87,
   "id": "4a374dbd",
   "metadata": {
    "execution": {
     "iopub.execute_input": "2021-04-11T16:02:07.487294Z",
     "iopub.status.busy": "2021-04-11T16:02:07.486810Z",
     "iopub.status.idle": "2021-04-11T16:02:10.366440Z",
     "shell.execute_reply": "2021-04-11T16:02:10.365951Z",
     "shell.execute_reply.started": "2021-04-11T16:02:07.487236Z"
    },
    "tags": []
   },
   "outputs": [],
   "source": [
    "train_dataset = WiCDataset(train_path, marker)\n",
    "val_dataset = WiCDataset(dev_path, marker)\n",
    "\n",
    "train_loader = torch.utils.data.DataLoader(train_dataset, batch_size=128, shuffle=True)\n",
    "val_loader = torch.utils.data.DataLoader(val_dataset, batch_size=128, shuffle=False)"
   ]
  },
  {
   "cell_type": "code",
   "execution_count": 91,
   "id": "ae72cb38",
   "metadata": {
    "execution": {
     "iopub.execute_input": "2021-04-11T16:03:11.478197Z",
     "iopub.status.busy": "2021-04-11T16:03:11.478024Z",
     "iopub.status.idle": "2021-04-11T16:03:11.487526Z",
     "shell.execute_reply": "2021-04-11T16:03:11.487031Z",
     "shell.execute_reply.started": "2021-04-11T16:03:11.478177Z"
    },
    "tags": []
   },
   "outputs": [],
   "source": [
    "device = 'cuda' if torch.cuda.is_available() else 'cpu'\n",
    "criterion = nn.BCELoss()#.to(device)\n",
    "model = MLP(n_features=600,\n",
    "            num_layers=5, \n",
    "            hidden_dim=150, \n",
    "            activation=torch.nn.functional.relu).to(device)\n",
    "optimizer = torch.optim.Adam(model.parameters(), lr=0.0001, weight_decay=0.00001)\n",
    "\n",
    "checkpoint = Checkpoint(path='checkpoints')"
   ]
  },
  {
   "cell_type": "code",
   "execution_count": 92,
   "id": "b646c169",
   "metadata": {
    "execution": {
     "iopub.execute_input": "2021-04-11T16:03:11.570587Z",
     "iopub.status.busy": "2021-04-11T16:03:11.570427Z",
     "iopub.status.idle": "2021-04-11T16:03:22.604030Z",
     "shell.execute_reply": "2021-04-11T16:03:22.603317Z",
     "shell.execute_reply.started": "2021-04-11T16:03:11.570569Z"
    },
    "tags": []
   },
   "outputs": [
    {
     "data": {
      "application/vnd.jupyter.widget-view+json": {
       "model_id": "f9c4bc137dc9463883baa153f6619e13",
       "version_major": 2,
       "version_minor": 0
      },
      "text/plain": [
       "  0%|          | 0/50 [00:00<?, ?it/s]"
      ]
     },
     "metadata": {},
     "output_type": "display_data"
    },
    {
     "name": "stdout",
     "output_type": "stream",
     "text": [
      "0 \t 0.69 \t 0.5\n",
      "1 \t 0.69 \t 0.5\n",
      "2 \t 0.69 \t 0.52\n",
      "3 \t 0.69 \t 0.568\n",
      "4 \t 0.68 \t 0.576\n",
      "5 \t 0.68 \t 0.56\n",
      "6 \t 0.68 \t 0.581\n",
      "7 \t 0.67 \t 0.589\n",
      "8 \t 0.66 \t 0.61\n",
      "9 \t 0.66 \t 0.615\n",
      "10 \t 0.65 \t 0.622\n",
      "11 \t 0.65 \t 0.612\n",
      "12 \t 0.65 \t 0.62\n",
      "13 \t 0.68 \t 0.609\n",
      "14 \t 0.65 \t 0.646\n",
      "15 \t 0.74 \t 0.59\n",
      "16 \t 0.67 \t 0.63\n",
      "17 \t 0.68 \t 0.628\n",
      "18 \t 0.71 \t 0.63\n",
      "19 \t 0.71 \t 0.636\n",
      "20 \t 0.74 \t 0.625\n",
      "21 \t 0.78 \t 0.614\n",
      "22 \t 0.80 \t 0.637\n",
      "23 \t 0.82 \t 0.644\n",
      "24 \t 0.87 \t 0.632\n",
      "25 \t 0.90 \t 0.646\n",
      "26 \t 0.94 \t 0.626\n",
      "27 \t 0.98 \t 0.635\n",
      "28 \t 1.03 \t 0.64\n",
      "29 \t 1.10 \t 0.632\n",
      "30 \t 1.16 \t 0.628\n",
      "31 \t 1.21 \t 0.636\n",
      "32 \t 1.27 \t 0.632\n",
      "33 \t 1.35 \t 0.629\n",
      "34 \t 1.40 \t 0.627\n",
      "35 \t 1.46 \t 0.629\n",
      "36 \t 1.49 \t 0.625\n",
      "37 \t 1.58 \t 0.63\n",
      "38 \t 1.63 \t 0.631\n",
      "39 \t 1.66 \t 0.633\n",
      "40 \t 1.66 \t 0.632\n",
      "41 \t 1.81 \t 0.632\n",
      "42 \t 1.94 \t 0.621\n",
      "43 \t 2.01 \t 0.626\n",
      "44 \t 2.06 \t 0.618\n",
      "45 \t 2.29 \t 0.623\n",
      "46 \t 2.34 \t 0.624\n",
      "47 \t 2.23 \t 0.632\n",
      "48 \t 2.24 \t 0.629\n",
      "49 \t 2.37 \t 0.621\n"
     ]
    }
   ],
   "source": [
    "fit(50, model, criterion, optimizer, train_loader, val_loader, checkpoint)"
   ]
  },
  {
   "cell_type": "code",
   "execution_count": 28,
   "id": "8c0f5a33",
   "metadata": {
    "execution": {
     "iopub.execute_input": "2021-04-09T22:47:48.050612Z",
     "iopub.status.busy": "2021-04-09T22:47:48.050443Z",
     "iopub.status.idle": "2021-04-09T22:47:59.327396Z",
     "shell.execute_reply": "2021-04-09T22:47:59.326771Z",
     "shell.execute_reply.started": "2021-04-09T22:47:48.050592Z"
    },
    "tags": []
   },
   "outputs": [
    {
     "data": {
      "application/vnd.jupyter.widget-view+json": {
       "model_id": "65fc8c5c9f504330b28a4719ecd74a95",
       "version_major": 2,
       "version_minor": 0
      },
      "text/plain": [
       "  0%|          | 0/50 [00:00<?, ?it/s]"
      ]
     },
     "metadata": {},
     "output_type": "display_data"
    },
    {
     "name": "stdout",
     "output_type": "stream",
     "text": [
      "0 \t 0.69 \t 0.5\n",
      "1 \t 0.69 \t 0.5\n",
      "2 \t 0.69 \t 0.5\n",
      "3 \t 0.69 \t 0.521\n",
      "4 \t 0.69 \t 0.551\n",
      "5 \t 0.68 \t 0.552\n",
      "6 \t 0.68 \t 0.552\n",
      "7 \t 0.68 \t 0.546\n",
      "8 \t 0.68 \t 0.559\n",
      "9 \t 0.69 \t 0.563\n",
      "10 \t 0.68 \t 0.573\n",
      "11 \t 0.68 \t 0.58\n",
      "12 \t 0.68 \t 0.569\n",
      "13 \t 0.67 \t 0.584\n",
      "14 \t 0.69 \t 0.59\n",
      "15 \t 0.67 \t 0.598\n",
      "16 \t 0.67 \t 0.591\n",
      "17 \t 0.67 \t 0.602\n",
      "18 \t 0.68 \t 0.604\n",
      "19 \t 0.70 \t 0.595\n",
      "20 \t 0.71 \t 0.606\n",
      "21 \t 0.72 \t 0.609\n",
      "22 \t 0.73 \t 0.607\n",
      "23 \t 0.79 \t 0.585\n",
      "24 \t 0.77 \t 0.608\n",
      "25 \t 0.82 \t 0.596\n",
      "26 \t 0.85 \t 0.609\n",
      "27 \t 0.88 \t 0.583\n",
      "28 \t 0.91 \t 0.597\n",
      "29 \t 0.97 \t 0.586\n",
      "30 \t 1.00 \t 0.589\n",
      "31 \t 1.09 \t 0.589\n",
      "32 \t 1.14 \t 0.605\n",
      "33 \t 1.19 \t 0.614\n",
      "34 \t 1.26 \t 0.596\n",
      "35 \t 1.32 \t 0.602\n",
      "36 \t 1.42 \t 0.608\n",
      "37 \t 1.48 \t 0.589\n",
      "38 \t 1.62 \t 0.597\n",
      "39 \t 1.68 \t 0.594\n",
      "40 \t 1.75 \t 0.596\n",
      "41 \t 1.81 \t 0.603\n",
      "42 \t 1.90 \t 0.596\n",
      "43 \t 1.98 \t 0.594\n",
      "44 \t 2.04 \t 0.596\n",
      "45 \t 2.11 \t 0.601\n",
      "46 \t 2.23 \t 0.596\n",
      "47 \t 2.37 \t 0.6\n",
      "48 \t 2.44 \t 0.601\n",
      "49 \t 2.58 \t 0.602\n"
     ]
    }
   ],
   "source": [
    "fit(50, model, criterion, optimizer, train_loader, val_loader, checkpoint)"
   ]
  }
 ],
 "metadata": {
  "kernelspec": {
   "display_name": "Python 3",
   "language": "python",
   "name": "python3"
  },
  "language_info": {
   "codemirror_mode": {
    "name": "ipython",
    "version": 3
   },
   "file_extension": ".py",
   "mimetype": "text/x-python",
   "name": "python",
   "nbconvert_exporter": "python",
   "pygments_lexer": "ipython3",
   "version": "3.7.10"
  }
 },
 "nbformat": 4,
 "nbformat_minor": 5
}
