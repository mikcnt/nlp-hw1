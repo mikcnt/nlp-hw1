{
 "cells": [
  {
   "cell_type": "code",
   "execution_count": 40,
   "id": "6917f29b",
   "metadata": {
    "execution": {
     "iopub.execute_input": "2021-04-11T15:16:51.262689Z",
     "iopub.status.busy": "2021-04-11T15:16:51.262043Z",
     "iopub.status.idle": "2021-04-11T15:16:51.268852Z",
     "shell.execute_reply": "2021-04-11T15:16:51.268343Z",
     "shell.execute_reply.started": "2021-04-11T15:16:51.262606Z"
    },
    "tags": []
   },
   "outputs": [],
   "source": [
    "import json\n",
    "import pandas as pd\n",
    "import numpy as np\n",
    "import torch\n",
    "from torch import nn\n",
    "from pprint import pprint\n",
    "import jsonlines\n",
    "import os\n",
    "import re\n",
    "from tqdm.notebook import tqdm\n",
    "import pickle\n",
    "import string\n",
    "import random\n",
    "\n",
    "import nltk\n",
    "from nltk.stem.porter import PorterStemmer\n",
    "\n",
    "from typing import *"
   ]
  },
  {
   "cell_type": "code",
   "execution_count": 2,
   "id": "f7500e88",
   "metadata": {
    "execution": {
     "iopub.execute_input": "2021-04-11T14:33:11.684307Z",
     "iopub.status.busy": "2021-04-11T14:33:11.684185Z",
     "iopub.status.idle": "2021-04-11T14:33:11.687152Z",
     "shell.execute_reply": "2021-04-11T14:33:11.686529Z",
     "shell.execute_reply.started": "2021-04-11T14:33:11.684291Z"
    },
    "tags": []
   },
   "outputs": [],
   "source": [
    "train_path = 'data/train.jsonl'\n",
    "dev_path = 'data/dev.jsonl'"
   ]
  },
  {
   "cell_type": "markdown",
   "id": "b255ec60",
   "metadata": {},
   "source": [
    "# Utils"
   ]
  },
  {
   "cell_type": "code",
   "execution_count": 4,
   "id": "357f38bd",
   "metadata": {
    "execution": {
     "iopub.execute_input": "2021-04-11T14:33:34.626531Z",
     "iopub.status.busy": "2021-04-11T14:33:34.626342Z",
     "iopub.status.idle": "2021-04-11T14:33:34.662276Z",
     "shell.execute_reply": "2021-04-11T14:33:34.661601Z",
     "shell.execute_reply.started": "2021-04-11T14:33:34.626513Z"
    },
    "tags": []
   },
   "outputs": [],
   "source": [
    "# https://stackoverflow.com/questions/49239941/what-is-unk-in-the-pretrained-glove-vector-files-e-g-glove-6b-50d-txt\n",
    "\n",
    "unk_embedding = '0.22418134 -0.28881392 0.13854356 0.00365387 -0.12870757 0.10243822 0.061626635 0.07318011 -0.061350107 -1.3477012 0.42037755 -0.063593924 -0.09683349 0.18086134 0.23704372 0.014126852 0.170096 -1.1491593 0.31497982 0.06622181 0.024687296 0.076693475 0.13851812 0.021302193 -0.06640582 -0.010336159 0.13523154 -0.042144544 -0.11938788 0.006948221 0.13333307 -0.18276379 0.052385733 0.008943111 -0.23957317 0.08500333 -0.006894406 0.0015864656 0.063391194 0.19177166 -0.13113557 -0.11295479 -0.14276934 0.03413971 -0.034278486 -0.051366422 0.18891625 -0.16673574 -0.057783455 0.036823478 0.08078679 0.022949161 0.033298038 0.011784158 0.05643189 -0.042776518 0.011959623 0.011552498 -0.0007971594 0.11300405 -0.031369694 -0.0061559738 -0.009043574 -0.415336 -0.18870236 0.13708843 0.005911723 -0.113035575 -0.030096142 -0.23908928 -0.05354085 -0.044904727 -0.20228513 0.0065645403 -0.09578946 -0.07391877 -0.06487607 0.111740574 -0.048649278 -0.16565254 -0.052037314 -0.078968436 0.13684988 0.0757494 -0.006275573 0.28693774 0.52017444 -0.0877165 -0.33010918 -0.1359622 0.114895485 -0.09744406 0.06269521 0.12118575 -0.08026362 0.35256687 -0.060017522 -0.04889904 -0.06828978 0.088740796 0.003964443 -0.0766291 0.1263925 0.07809314 -0.023164088 -0.5680669 -0.037892066 -0.1350967 -0.11351585 -0.111434504 -0.0905027 0.25174105 -0.14841858 0.034635577 -0.07334565 0.06320108 -0.038343467 -0.05413284 0.042197507 -0.090380974 -0.070528865 -0.009174437 0.009069661 0.1405178 0.02958134 -0.036431845 -0.08625681 0.042951006 0.08230793 0.0903314 -0.12279937 -0.013899368 0.048119213 0.08678239 -0.14450377 -0.04424887 0.018319942 0.015026873 -0.100526 0.06021201 0.74059093 -0.0016333034 -0.24960588 -0.023739101 0.016396184 0.11928964 0.13950661 -0.031624354 -0.01645025 0.14079992 -0.0002824564 -0.08052984 -0.0021310581 -0.025350995 0.086938225 0.14308536 0.17146006 -0.13943303 0.048792403 0.09274929 -0.053167373 0.031103406 0.012354865 0.21057427 0.32618305 0.18015954 -0.15881181 0.15322933 -0.22558987 -0.04200665 0.0084689725 0.038156632 0.15188617 0.13274793 0.113756925 -0.095273495 -0.049490947 -0.10265804 -0.27064866 -0.034567792 -0.018810693 -0.0010360252 0.10340131 0.13883452 0.21131058 -0.01981019 0.1833468 -0.10751636 -0.03128868 0.02518242 0.23232952 0.042052146 0.11731903 -0.15506615 0.0063580726 -0.15429358 0.1511722 0.12745973 0.2576985 -0.25486213 -0.0709463 0.17983761 0.054027 -0.09884228 -0.24595179 -0.093028545 -0.028203879 0.094398156 0.09233813 0.029291354 0.13110267 0.15682974 -0.016919162 0.23927948 -0.1343307 -0.22422817 0.14634751 -0.064993896 0.4703685 -0.027190214 0.06224946 -0.091360025 0.21490277 -0.19562101 -0.10032754 -0.09056772 -0.06203493 -0.18876675 -0.10963594 -0.27734384 0.12616494 -0.02217992 -0.16058226 -0.080475815 0.026953284 0.110732645 0.014894041 0.09416802 0.14299914 -0.1594008 -0.066080004 -0.007995227 -0.11668856 -0.13081996 -0.09237365 0.14741232 0.09180138 0.081735 0.3211204 -0.0036552632 -0.047030564 -0.02311798 0.048961394 0.08669574 -0.06766279 -0.50028914 -0.048515294 0.14144728 -0.032994404 -0.11954345 -0.14929578 -0.2388355 -0.019883996 -0.15917352 -0.052084364 0.2801028 -0.0029121689 -0.054581646 -0.47385484 0.17112483 -0.12066923 -0.042173345 0.1395337 0.26115036 0.012869649 0.009291686 -0.0026459037 -0.075331464 0.017840583 -0.26869613 -0.21820338 -0.17084768 -0.1022808 -0.055290595 0.13513643 0.12362477 -0.10980586 0.13980341 -0.20233242 0.08813751 0.3849736 -0.10653763 -0.06199595 0.028849555 0.03230154 0.023856193 0.069950655 0.19310954 -0.077677034 -0.144811'\n",
    "unk_embedding = unk_embedding.strip().split(' ')\n",
    "unk_embedding = torch.tensor([float(c) for c in unk_embedding])"
   ]
  },
  {
   "cell_type": "code",
   "execution_count": 5,
   "id": "b7a414cf",
   "metadata": {
    "execution": {
     "iopub.execute_input": "2021-04-11T14:33:34.738205Z",
     "iopub.status.busy": "2021-04-11T14:33:34.738039Z",
     "iopub.status.idle": "2021-04-11T14:33:34.741314Z",
     "shell.execute_reply": "2021-04-11T14:33:34.740924Z",
     "shell.execute_reply.started": "2021-04-11T14:33:34.738186Z"
    },
    "tags": []
   },
   "outputs": [],
   "source": [
    "def save_dictionary(dictionary, path):\n",
    "    with open(path, 'wb') as f:\n",
    "        pickle.dump(dictionary, f, protocol=pickle.HIGHEST_PROTOCOL)\n",
    "\n",
    "def load_dictionary(path):\n",
    "    with open(path, 'rb') as f:\n",
    "        return pickle.load(f)"
   ]
  },
  {
   "cell_type": "code",
   "execution_count": 6,
   "id": "95fea523",
   "metadata": {
    "execution": {
     "iopub.execute_input": "2021-04-11T14:33:38.539780Z",
     "iopub.status.busy": "2021-04-11T14:33:38.539616Z",
     "iopub.status.idle": "2021-04-11T14:33:38.548038Z",
     "shell.execute_reply": "2021-04-11T14:33:38.547291Z",
     "shell.execute_reply.started": "2021-04-11T14:33:38.539761Z"
    },
    "tags": []
   },
   "outputs": [],
   "source": [
    "# Saving / loading models\n",
    "class Checkpoint:\n",
    "    def __init__(self, path, resume=False):\n",
    "        self.path = path\n",
    "        os.makedirs(path, exist_ok=True)\n",
    "        self.resume = resume\n",
    "\n",
    "    def load(self, model, optimizer, id_path=\"\"):\n",
    "        if (not self.resume) and id_path == \"\":\n",
    "            raise RuntimeError()\n",
    "        if self.resume:\n",
    "            id_path = sorted(os.listdir(self.path))[-1]\n",
    "        self.checkpoint = torch.load(\n",
    "            os.path.join(self.path, id_path), map_location=lambda storage, loc: storage\n",
    "        )\n",
    "        if self.checkpoint == None:\n",
    "            raise RuntimeError(\"Checkpoint empty.\")\n",
    "        epoch = self.checkpoint[\"epoch\"]\n",
    "        model.load_state_dict(self.checkpoint[\"model_state_dict\"])\n",
    "        optimizer.load_state_dict(self.checkpoint[\"optimizer_state_dict\"])\n",
    "        loss = self.checkpoint[\"loss\"]\n",
    "        return (model, optimizer, epoch, loss)\n",
    "\n",
    "    def save(self, model, optimizer, epoch, loss, accuracy):\n",
    "        model_checkpoint = {\n",
    "            \"model_state_dict\": model.state_dict(),\n",
    "            \"optimizer_state_dict\": optimizer.state_dict(),\n",
    "            \"epoch\": epoch,\n",
    "            \"loss\": loss,\n",
    "            \"accuracy\": accuracy\n",
    "        }\n",
    "        checkpoint_name = \"{}.pth\".format(str(epoch).zfill(3))\n",
    "        complete_path = os.path.join(self.path, checkpoint_name)\n",
    "        torch.save(model_checkpoint, complete_path)\n",
    "        return checkpoint_name\n",
    "\n",
    "    def load_just_model(self, model, id_path=\"\"):\n",
    "        if self.resume:\n",
    "            id_path = sorted(os.listdir(self.path))[-1]\n",
    "        self.checkpoint = torch.load(\n",
    "            os.path.join(self.path, id_path), map_location=lambda storage, loc: storage\n",
    "        )\n",
    "        if self.checkpoint == None:\n",
    "            raise RuntimeError(\"Checkpoint empty.\")\n",
    "        model.load_state_dict(self.checkpoint[\"model_state_dict\"])\n",
    "        return model"
   ]
  },
  {
   "cell_type": "code",
   "execution_count": 7,
   "id": "d2a12318",
   "metadata": {
    "execution": {
     "iopub.execute_input": "2021-04-11T14:33:42.680273Z",
     "iopub.status.busy": "2021-04-11T14:33:42.680080Z",
     "iopub.status.idle": "2021-04-11T14:33:42.683613Z",
     "shell.execute_reply": "2021-04-11T14:33:42.683085Z",
     "shell.execute_reply.started": "2021-04-11T14:33:42.680251Z"
    },
    "tags": []
   },
   "outputs": [],
   "source": [
    "def preprocess(sentence):\n",
    "    # lowercase sentence\n",
    "    sentence = sentence.lower()\n",
    "    # remove punctuation\n",
    "    # sentence = sentence.translate(str.maketrans('', '', string.punctuation))\n",
    "    sentence = re.sub('[^\\w\\s]', ' ', sentence)\n",
    "    sentence = re.sub(' +', ' ', sentence).strip()\n",
    "    return sentence"
   ]
  },
  {
   "cell_type": "markdown",
   "id": "8592aa42",
   "metadata": {},
   "source": [
    "# Create word embedding with GloVe"
   ]
  },
  {
   "cell_type": "code",
   "execution_count": 78,
   "id": "c5287d42",
   "metadata": {
    "execution": {
     "iopub.execute_input": "2021-04-11T16:00:30.986453Z",
     "iopub.status.busy": "2021-04-11T16:00:30.986283Z",
     "iopub.status.idle": "2021-04-11T16:00:30.989556Z",
     "shell.execute_reply": "2021-04-11T16:00:30.989031Z",
     "shell.execute_reply.started": "2021-04-11T16:00:30.986432Z"
    },
    "tags": []
   },
   "outputs": [],
   "source": [
    "def custom_tokenizer(sentence, marker):\n",
    "    tokens = sentence.split()\n",
    "    for i, tk in enumerate(tokens):\n",
    "        if marker in tk:\n",
    "            target_position = i\n",
    "            tokens[i] = tk[20:]\n",
    "    return tokens, target_position"
   ]
  },
  {
   "cell_type": "code",
   "execution_count": 153,
   "id": "71483179",
   "metadata": {
    "execution": {
     "iopub.execute_input": "2021-04-11T17:35:59.988043Z",
     "iopub.status.busy": "2021-04-11T17:35:59.987531Z",
     "iopub.status.idle": "2021-04-11T17:35:59.997054Z",
     "shell.execute_reply": "2021-04-11T17:35:59.996563Z",
     "shell.execute_reply.started": "2021-04-11T17:35:59.987985Z"
    },
    "tags": []
   },
   "outputs": [],
   "source": [
    "class TokensEmbedder(object):\n",
    "    def __init__(self, word_vectors):\n",
    "        self.word_vectors = word_vectors\n",
    "    \n",
    "    def compute_embeddings(self, tokens):\n",
    "        word_embeddings = []\n",
    "        for w in tokens:\n",
    "            word_embeddings.append(self.word_vectors[w] if w in self.word_vectors else self.word_vectors['<unk>'])\n",
    "        \n",
    "        return word_embeddings\n",
    "    \n",
    "    def aggregate_embeddings(self, tokens, target_position):\n",
    "        pass\n",
    "    \n",
    "    def __call__(self, tokens, target_position):\n",
    "        return self.aggregate_embeddings(tokens, target_position)\n",
    "\n",
    "class AverageEmbedder(TokensEmbedder):\n",
    "    def __init__(self, word_vectors):\n",
    "        self.word_vectors = word_vectors\n",
    "    \n",
    "    def aggregate_embeddings(self, tokens, target_position):\n",
    "        embeddings = torch.stack(self.compute_embeddings(tokens))\n",
    "        return torch.mean(embeddings, dim=0)\n",
    "\n",
    "class WeightedAverageEmbedder(TokensEmbedder):\n",
    "    def __init__(self, word_vectors):\n",
    "        self.word_vectors = word_vectors\n",
    "    \n",
    "    def aggregate_embeddings(self, tokens, target_position):\n",
    "        embeddings = torch.stack(self.compute_embeddings(tokens))\n",
    "        # aliases for readibility\n",
    "        n = len(embeddings)\n",
    "        t = target_position\n",
    "\n",
    "        # weights from 1 to 0\n",
    "        weights = torch.linspace(1, 0.1, n).unsqueeze(1)\n",
    "\n",
    "        # weighted vector\n",
    "        new_vectors = embeddings\n",
    "\n",
    "        # weighted average\n",
    "\n",
    "        # right of the target word\n",
    "        new_vectors[t:] = new_vectors[t:] * weights[:n - t]\n",
    "        # left of the target word\n",
    "        new_vectors[:t] = new_vectors[:t] * reversed(weights[1:t + 1])\n",
    "\n",
    "        # denominator (sum of the weights)\n",
    "        weights_sum = weights[:n - t].sum() + weights[1:t + 1].sum()\n",
    "\n",
    "        return new_vectors.sum(dim=0) / weights_sum"
   ]
  },
  {
   "cell_type": "code",
   "execution_count": 73,
   "id": "514811b4",
   "metadata": {
    "execution": {
     "iopub.execute_input": "2021-04-11T15:59:52.975089Z",
     "iopub.status.busy": "2021-04-11T15:59:52.974585Z",
     "iopub.status.idle": "2021-04-11T16:00:25.602211Z",
     "shell.execute_reply": "2021-04-11T16:00:25.601738Z",
     "shell.execute_reply.started": "2021-04-11T15:59:52.975027Z"
    },
    "tags": []
   },
   "outputs": [
    {
     "data": {
      "application/vnd.jupyter.widget-view+json": {
       "model_id": "0a71c391476744fd9d2b2e1cab6e846c",
       "version_major": 2,
       "version_minor": 0
      },
      "text/plain": [
       "  0%|          | 0/400000 [00:00<?, ?it/s]"
      ]
     },
     "metadata": {},
     "output_type": "display_data"
    }
   ],
   "source": [
    "word_vectors = dict()\n",
    "n_words = 400_000\n",
    "with open('embeddings/glove.6B.300d.txt') as f:\n",
    "    for i, line in tqdm(enumerate(f), total=n_words):\n",
    "\n",
    "        word, *vector = line.strip().split(' ')\n",
    "        vector = torch.tensor([float(c) for c in vector])\n",
    "        \n",
    "        word_vectors[word] = vector\n",
    "        \n",
    "# https://stackoverflow.com/questions/49239941/what-is-unk-in-the-pretrained-glove-vector-files-e-g-glove-6b-50d-txt\n",
    "\n",
    "unk_embedding = '0.22418134 -0.28881392 0.13854356 0.00365387 -0.12870757 0.10243822 0.061626635 0.07318011 -0.061350107 -1.3477012 0.42037755 -0.063593924 -0.09683349 0.18086134 0.23704372 0.014126852 0.170096 -1.1491593 0.31497982 0.06622181 0.024687296 0.076693475 0.13851812 0.021302193 -0.06640582 -0.010336159 0.13523154 -0.042144544 -0.11938788 0.006948221 0.13333307 -0.18276379 0.052385733 0.008943111 -0.23957317 0.08500333 -0.006894406 0.0015864656 0.063391194 0.19177166 -0.13113557 -0.11295479 -0.14276934 0.03413971 -0.034278486 -0.051366422 0.18891625 -0.16673574 -0.057783455 0.036823478 0.08078679 0.022949161 0.033298038 0.011784158 0.05643189 -0.042776518 0.011959623 0.011552498 -0.0007971594 0.11300405 -0.031369694 -0.0061559738 -0.009043574 -0.415336 -0.18870236 0.13708843 0.005911723 -0.113035575 -0.030096142 -0.23908928 -0.05354085 -0.044904727 -0.20228513 0.0065645403 -0.09578946 -0.07391877 -0.06487607 0.111740574 -0.048649278 -0.16565254 -0.052037314 -0.078968436 0.13684988 0.0757494 -0.006275573 0.28693774 0.52017444 -0.0877165 -0.33010918 -0.1359622 0.114895485 -0.09744406 0.06269521 0.12118575 -0.08026362 0.35256687 -0.060017522 -0.04889904 -0.06828978 0.088740796 0.003964443 -0.0766291 0.1263925 0.07809314 -0.023164088 -0.5680669 -0.037892066 -0.1350967 -0.11351585 -0.111434504 -0.0905027 0.25174105 -0.14841858 0.034635577 -0.07334565 0.06320108 -0.038343467 -0.05413284 0.042197507 -0.090380974 -0.070528865 -0.009174437 0.009069661 0.1405178 0.02958134 -0.036431845 -0.08625681 0.042951006 0.08230793 0.0903314 -0.12279937 -0.013899368 0.048119213 0.08678239 -0.14450377 -0.04424887 0.018319942 0.015026873 -0.100526 0.06021201 0.74059093 -0.0016333034 -0.24960588 -0.023739101 0.016396184 0.11928964 0.13950661 -0.031624354 -0.01645025 0.14079992 -0.0002824564 -0.08052984 -0.0021310581 -0.025350995 0.086938225 0.14308536 0.17146006 -0.13943303 0.048792403 0.09274929 -0.053167373 0.031103406 0.012354865 0.21057427 0.32618305 0.18015954 -0.15881181 0.15322933 -0.22558987 -0.04200665 0.0084689725 0.038156632 0.15188617 0.13274793 0.113756925 -0.095273495 -0.049490947 -0.10265804 -0.27064866 -0.034567792 -0.018810693 -0.0010360252 0.10340131 0.13883452 0.21131058 -0.01981019 0.1833468 -0.10751636 -0.03128868 0.02518242 0.23232952 0.042052146 0.11731903 -0.15506615 0.0063580726 -0.15429358 0.1511722 0.12745973 0.2576985 -0.25486213 -0.0709463 0.17983761 0.054027 -0.09884228 -0.24595179 -0.093028545 -0.028203879 0.094398156 0.09233813 0.029291354 0.13110267 0.15682974 -0.016919162 0.23927948 -0.1343307 -0.22422817 0.14634751 -0.064993896 0.4703685 -0.027190214 0.06224946 -0.091360025 0.21490277 -0.19562101 -0.10032754 -0.09056772 -0.06203493 -0.18876675 -0.10963594 -0.27734384 0.12616494 -0.02217992 -0.16058226 -0.080475815 0.026953284 0.110732645 0.014894041 0.09416802 0.14299914 -0.1594008 -0.066080004 -0.007995227 -0.11668856 -0.13081996 -0.09237365 0.14741232 0.09180138 0.081735 0.3211204 -0.0036552632 -0.047030564 -0.02311798 0.048961394 0.08669574 -0.06766279 -0.50028914 -0.048515294 0.14144728 -0.032994404 -0.11954345 -0.14929578 -0.2388355 -0.019883996 -0.15917352 -0.052084364 0.2801028 -0.0029121689 -0.054581646 -0.47385484 0.17112483 -0.12066923 -0.042173345 0.1395337 0.26115036 0.012869649 0.009291686 -0.0026459037 -0.075331464 0.017840583 -0.26869613 -0.21820338 -0.17084768 -0.1022808 -0.055290595 0.13513643 0.12362477 -0.10980586 0.13980341 -0.20233242 0.08813751 0.3849736 -0.10653763 -0.06199595 0.028849555 0.03230154 0.023856193 0.069950655 0.19310954 -0.077677034 -0.144811'\n",
    "unk_embedding = unk_embedding.strip().split(' ')\n",
    "word_vectors['<unk>'] = torch.tensor([float(c) for c in unk_embedding])"
   ]
  },
  {
   "cell_type": "code",
   "execution_count": 34,
   "id": "90bddeff",
   "metadata": {
    "execution": {
     "iopub.execute_input": "2021-04-09T13:23:58.035928Z",
     "iopub.status.busy": "2021-04-09T13:23:58.035659Z",
     "iopub.status.idle": "2021-04-09T13:24:17.643624Z",
     "shell.execute_reply": "2021-04-09T13:24:17.643100Z",
     "shell.execute_reply.started": "2021-04-09T13:23:58.035895Z"
    },
    "tags": []
   },
   "outputs": [],
   "source": [
    "# save_dictionary(word_vectors, 'model/vocabulary.pkl')"
   ]
  },
  {
   "cell_type": "markdown",
   "id": "19007434",
   "metadata": {},
   "source": [
    "# Dataset class using GloVe"
   ]
  },
  {
   "cell_type": "code",
   "execution_count": 167,
   "id": "25b0a574",
   "metadata": {
    "execution": {
     "iopub.execute_input": "2021-04-11T17:42:23.871689Z",
     "iopub.status.busy": "2021-04-11T17:42:23.871043Z",
     "iopub.status.idle": "2021-04-11T17:42:23.881185Z",
     "shell.execute_reply": "2021-04-11T17:42:23.880618Z",
     "shell.execute_reply.started": "2021-04-11T17:42:23.871609Z"
    },
    "tags": []
   },
   "outputs": [],
   "source": [
    "class WiCDataset(torch.utils.data.Dataset):\n",
    "    def __init__(self, dataset_path: str, marker: str, embedder: TokensEmbedder):\n",
    "        self.data = []\n",
    "        self.marker = marker\n",
    "        self.embedder = embedder\n",
    "\n",
    "        self.create_dataset(dataset_path)\n",
    "        \n",
    "    \n",
    "    def create_dataset(self, dataset_path: str) -> None:\n",
    "        with jsonlines.open(dataset_path, 'r') as f:\n",
    "            for i, line in enumerate(f.iter()):\n",
    "                # load sentences\n",
    "                start1 = int(line['start1'])\n",
    "                start2 = int(line['start2'])\n",
    "                s1 = line['sentence1']\n",
    "                s2 = line['sentence2']\n",
    "                # insert special characters to locate target word after preprocessing\n",
    "                s1 = s1[:start1] + self.marker + s1[start1:]\n",
    "                s2 = s2[:start1] + self.marker + s2[start1:]\n",
    "                \n",
    "                # preprocessing\n",
    "                s1 = preprocess(s1)\n",
    "                s2 = preprocess(s2)\n",
    "                \n",
    "                # tokenization\n",
    "                t1, target_position1 = custom_tokenizer(s1, self.marker)\n",
    "                t2, target_position2 = custom_tokenizer(s2, self.marker)\n",
    "                \n",
    "                # convert tokens to embeddings and aggregate\n",
    "                v1 = self.embedder(t1, target_position1)\n",
    "                v2 = self.embedder(t2, target_position2)\n",
    "                \n",
    "                # concatenate vectors\n",
    "                sentence_vector = torch.cat((v1, v2))\n",
    "                \n",
    "                label = torch.tensor(1, dtype=torch.float32) if line['label'] == 'True' else torch.tensor(0, dtype=torch.float32)\n",
    "                self.data.append((sentence_vector, label))\n",
    "\n",
    "\n",
    "    def __len__(self) -> int:\n",
    "        return len(self.data)\n",
    "\n",
    "    def __getitem__(self, idx: int) -> torch.Tensor:\n",
    "        return self.data[idx]"
   ]
  },
  {
   "cell_type": "markdown",
   "id": "cb52a973",
   "metadata": {},
   "source": [
    "# Model Class"
   ]
  },
  {
   "cell_type": "code",
   "execution_count": 81,
   "id": "9eebbd22",
   "metadata": {
    "execution": {
     "iopub.execute_input": "2021-04-11T16:00:54.244841Z",
     "iopub.status.busy": "2021-04-11T16:00:54.244652Z",
     "iopub.status.idle": "2021-04-11T16:00:54.250422Z",
     "shell.execute_reply": "2021-04-11T16:00:54.249868Z",
     "shell.execute_reply.started": "2021-04-11T16:00:54.244824Z"
    },
    "tags": []
   },
   "outputs": [],
   "source": [
    "class MLP(nn.Module):\n",
    "    def __init__(\n",
    "        self,\n",
    "        n_features: int,\n",
    "        num_layers: int,\n",
    "        hidden_dim: int,\n",
    "        activation: Callable[[torch.Tensor], torch.Tensor],\n",
    "    ) -> None:\n",
    "        super().__init__()\n",
    "\n",
    "        self.first_layer = nn.Linear(in_features=n_features, out_features=hidden_dim)\n",
    "\n",
    "        self.layers = (\n",
    "            nn.ModuleList()\n",
    "        )\n",
    "\n",
    "        for i in range(num_layers):\n",
    "            self.layers.append(\n",
    "                nn.Linear(in_features=hidden_dim, out_features=hidden_dim)\n",
    "            )\n",
    "        self.activation = activation\n",
    "        \n",
    "        self.batchnorm = nn.BatchNorm1d(hidden_dim)\n",
    "\n",
    "        self.last_layer = nn.Linear(in_features=hidden_dim, out_features=1)\n",
    "        \n",
    "        self.sigmoid = nn.Sigmoid()\n",
    "\n",
    "    def forward(self, meshgrid: torch.Tensor) -> torch.Tensor:\n",
    "        \"\"\"\n",
    "        Applies transformations to each (x, y) independently\n",
    "\n",
    "        :param meshgrid: tensor of dimensions [..., 2], where ... means any number of dims\n",
    "        \"\"\"\n",
    "        out = meshgrid\n",
    "\n",
    "        out = self.first_layer(\n",
    "            out\n",
    "        )  # First linear layer, transforms the hidden dimensions from `n_features` (embedding dimension) to `hidden_dim`\n",
    "        for layer in self.layers:  # Apply `k` (linear, activation) layer\n",
    "            out = layer(out)\n",
    "            out = self.activation(out)\n",
    "            # out = self.batchnorm(out)\n",
    "            # out = nn.Dropout(p=0.2)(out)\n",
    "        out = self.last_layer(\n",
    "            out\n",
    "        )  # Last linear layer to bring the `hiddem_dim` features to a binary space (`True`/`False`)\n",
    "        \n",
    "        out = self.sigmoid(out)\n",
    "        return out.squeeze(-1)\n"
   ]
  },
  {
   "cell_type": "markdown",
   "id": "765f7c05",
   "metadata": {},
   "source": [
    "# Training process"
   ]
  },
  {
   "cell_type": "code",
   "execution_count": 114,
   "id": "3dfb6ae3",
   "metadata": {
    "execution": {
     "iopub.execute_input": "2021-04-11T16:49:18.579762Z",
     "iopub.status.busy": "2021-04-11T16:49:18.579125Z",
     "iopub.status.idle": "2021-04-11T16:49:18.601493Z",
     "shell.execute_reply": "2021-04-11T16:49:18.600988Z",
     "shell.execute_reply.started": "2021-04-11T16:49:18.579681Z"
    },
    "tags": []
   },
   "outputs": [],
   "source": [
    "def fit(epochs, model, criterion, opt, train_dl, valid_dl, checkpoint=None):\n",
    "    losses = {'train': [], 'val': []}\n",
    "    accuracies = {'train': [], 'val': []}\n",
    "    for epoch in tqdm(range(epochs)):\n",
    "        losses_train = 0\n",
    "        d_train, n_train = 0, 0\n",
    "\n",
    "        model.train()\n",
    "        for xb, yb in train_dl:\n",
    "            xb = xb.to(device)\n",
    "            yb = yb.to(device)\n",
    "            \n",
    "            pred = model(xb)\n",
    "            \n",
    "            loss_train = criterion(pred, yb)\n",
    "            loss_train.backward()\n",
    "            opt.step()\n",
    "            opt.zero_grad()\n",
    "            losses_train += loss_train.item()\n",
    "            \n",
    "            pred = torch.round(pred)\n",
    "            # number of predictions\n",
    "            d_train += pred.shape[0]\n",
    "            # number of correct predictions\n",
    "            n_train += (yb == pred).int().sum()\n",
    "            \n",
    "            \n",
    "            \n",
    "        model.eval()\n",
    "        with torch.no_grad():\n",
    "            losses_val = 0\n",
    "            d_val, n_val = 0, 0\n",
    "            for xb, yb in valid_dl:\n",
    "                xb = xb.to(device)\n",
    "                yb = yb.to(device)\n",
    "                \n",
    "                pred = model(xb)\n",
    "\n",
    "                loss_val = criterion(pred, yb)\n",
    "                losses_val += loss_val.item()\n",
    "                \n",
    "\n",
    "                pred = torch.round(pred)\n",
    "                # number of predictions\n",
    "                d_val += pred.shape[0]\n",
    "                # number of correct predictions\n",
    "                n_val += (yb == pred).int().sum().item()\n",
    "                \n",
    "        loss_train = losses_train / d_train\n",
    "        loss_val = losses_val / d_val\n",
    "        \n",
    "        acc_train = n_train / d_train\n",
    "        acc_val = n_val / d_val\n",
    "        \n",
    "        losses['train'].append(loss_train)\n",
    "        losses['val'].append(loss_val)\n",
    "\n",
    "        if checkpoint:\n",
    "            checkpoint.save(model, opt, epoch, loss_val, acc_val)\n",
    "\n",
    "        print(\n",
    "            f\"Epoch {epoch} \\t T. Loss = {loss_train:.2f}, V. Loss = {loss_val:.2f}, T. Accuracy {acc_train:.2f}, V. Accuracy {acc_val:.4f}.\"\n",
    "        )"
   ]
  },
  {
   "cell_type": "code",
   "execution_count": 168,
   "id": "e2c93bb1",
   "metadata": {
    "execution": {
     "iopub.execute_input": "2021-04-11T17:42:28.778945Z",
     "iopub.status.busy": "2021-04-11T17:42:28.778294Z",
     "iopub.status.idle": "2021-04-11T17:42:31.535705Z",
     "shell.execute_reply": "2021-04-11T17:42:31.535207Z",
     "shell.execute_reply.started": "2021-04-11T17:42:28.778864Z"
    },
    "tags": []
   },
   "outputs": [],
   "source": [
    "random.seed(42)\n",
    "marker = ''.join(random.choices(string.ascii_lowercase, k=20))\n",
    "\n",
    "embedder = WeightedAverageEmbedder(word_vectors)\n",
    "\n",
    "train_dataset = WiCDataset(train_path, marker, embedder)\n",
    "val_dataset = WiCDataset(dev_path, marker, embedder)\n",
    "\n",
    "train_loader = torch.utils.data.DataLoader(train_dataset, batch_size=128, shuffle=True)\n",
    "val_loader = torch.utils.data.DataLoader(val_dataset, batch_size=128, shuffle=False)"
   ]
  },
  {
   "cell_type": "code",
   "execution_count": 169,
   "id": "18cc498d",
   "metadata": {
    "execution": {
     "iopub.execute_input": "2021-04-11T17:42:33.484870Z",
     "iopub.status.busy": "2021-04-11T17:42:33.484596Z",
     "iopub.status.idle": "2021-04-11T17:42:33.497016Z",
     "shell.execute_reply": "2021-04-11T17:42:33.496400Z",
     "shell.execute_reply.started": "2021-04-11T17:42:33.484837Z"
    },
    "tags": []
   },
   "outputs": [],
   "source": [
    "device = 'cuda' if torch.cuda.is_available() else 'cpu'\n",
    "criterion = nn.BCELoss()#.to(device)\n",
    "model = MLP(n_features=600,\n",
    "            num_layers=5, \n",
    "            hidden_dim=150, \n",
    "            activation=torch.nn.functional.relu).to(device)\n",
    "optimizer = torch.optim.Adam(model.parameters(), lr=0.0001, weight_decay=0.00001)\n",
    "\n",
    "checkpoint = Checkpoint(path='checkpoints')"
   ]
  },
  {
   "cell_type": "code",
   "execution_count": 170,
   "id": "adab4086",
   "metadata": {
    "execution": {
     "iopub.execute_input": "2021-04-11T17:42:33.633989Z",
     "iopub.status.busy": "2021-04-11T17:42:33.633743Z",
     "iopub.status.idle": "2021-04-11T17:42:44.629510Z",
     "shell.execute_reply": "2021-04-11T17:42:44.629046Z",
     "shell.execute_reply.started": "2021-04-11T17:42:33.633959Z"
    },
    "tags": []
   },
   "outputs": [
    {
     "data": {
      "application/vnd.jupyter.widget-view+json": {
       "model_id": "27818d89f7554d2b8107be428b2e21e7",
       "version_major": 2,
       "version_minor": 0
      },
      "text/plain": [
       "  0%|          | 0/50 [00:00<?, ?it/s]"
      ]
     },
     "metadata": {},
     "output_type": "display_data"
    },
    {
     "name": "stdout",
     "output_type": "stream",
     "text": [
      "Epoch 0 \t T. Loss = 0.01, V. Loss = 0.01, T. Accuracy 0.50, V. Accuracy 0.5000.\n",
      "Epoch 1 \t T. Loss = 0.01, V. Loss = 0.01, T. Accuracy 0.50, V. Accuracy 0.5790.\n",
      "Epoch 2 \t T. Loss = 0.01, V. Loss = 0.01, T. Accuracy 0.51, V. Accuracy 0.5310.\n",
      "Epoch 3 \t T. Loss = 0.01, V. Loss = 0.01, T. Accuracy 0.54, V. Accuracy 0.5740.\n",
      "Epoch 4 \t T. Loss = 0.01, V. Loss = 0.01, T. Accuracy 0.56, V. Accuracy 0.5660.\n",
      "Epoch 5 \t T. Loss = 0.01, V. Loss = 0.01, T. Accuracy 0.57, V. Accuracy 0.6020.\n",
      "Epoch 6 \t T. Loss = 0.01, V. Loss = 0.01, T. Accuracy 0.60, V. Accuracy 0.5720.\n",
      "Epoch 7 \t T. Loss = 0.01, V. Loss = 0.01, T. Accuracy 0.62, V. Accuracy 0.6000.\n",
      "Epoch 8 \t T. Loss = 0.01, V. Loss = 0.01, T. Accuracy 0.63, V. Accuracy 0.5940.\n",
      "Epoch 9 \t T. Loss = 0.00, V. Loss = 0.01, T. Accuracy 0.66, V. Accuracy 0.6120.\n",
      "Epoch 10 \t T. Loss = 0.00, V. Loss = 0.01, T. Accuracy 0.67, V. Accuracy 0.6110.\n",
      "Epoch 11 \t T. Loss = 0.00, V. Loss = 0.01, T. Accuracy 0.68, V. Accuracy 0.6100.\n",
      "Epoch 12 \t T. Loss = 0.00, V. Loss = 0.01, T. Accuracy 0.70, V. Accuracy 0.6340.\n",
      "Epoch 13 \t T. Loss = 0.00, V. Loss = 0.01, T. Accuracy 0.71, V. Accuracy 0.6320.\n",
      "Epoch 14 \t T. Loss = 0.00, V. Loss = 0.01, T. Accuracy 0.72, V. Accuracy 0.6560.\n",
      "Epoch 15 \t T. Loss = 0.00, V. Loss = 0.01, T. Accuracy 0.73, V. Accuracy 0.6610.\n",
      "Epoch 16 \t T. Loss = 0.00, V. Loss = 0.01, T. Accuracy 0.75, V. Accuracy 0.6540.\n",
      "Epoch 17 \t T. Loss = 0.00, V. Loss = 0.01, T. Accuracy 0.76, V. Accuracy 0.6410.\n",
      "Epoch 18 \t T. Loss = 0.00, V. Loss = 0.01, T. Accuracy 0.77, V. Accuracy 0.6540.\n",
      "Epoch 19 \t T. Loss = 0.00, V. Loss = 0.01, T. Accuracy 0.78, V. Accuracy 0.6380.\n",
      "Epoch 20 \t T. Loss = 0.00, V. Loss = 0.01, T. Accuracy 0.80, V. Accuracy 0.6320.\n",
      "Epoch 21 \t T. Loss = 0.00, V. Loss = 0.01, T. Accuracy 0.81, V. Accuracy 0.6350.\n",
      "Epoch 22 \t T. Loss = 0.00, V. Loss = 0.01, T. Accuracy 0.82, V. Accuracy 0.6460.\n",
      "Epoch 23 \t T. Loss = 0.00, V. Loss = 0.01, T. Accuracy 0.83, V. Accuracy 0.6370.\n",
      "Epoch 24 \t T. Loss = 0.00, V. Loss = 0.01, T. Accuracy 0.85, V. Accuracy 0.6460.\n",
      "Epoch 25 \t T. Loss = 0.00, V. Loss = 0.01, T. Accuracy 0.86, V. Accuracy 0.6350.\n",
      "Epoch 26 \t T. Loss = 0.00, V. Loss = 0.01, T. Accuracy 0.87, V. Accuracy 0.6430.\n",
      "Epoch 27 \t T. Loss = 0.00, V. Loss = 0.01, T. Accuracy 0.89, V. Accuracy 0.6360.\n",
      "Epoch 28 \t T. Loss = 0.00, V. Loss = 0.01, T. Accuracy 0.90, V. Accuracy 0.6410.\n",
      "Epoch 29 \t T. Loss = 0.00, V. Loss = 0.01, T. Accuracy 0.91, V. Accuracy 0.6340.\n",
      "Epoch 30 \t T. Loss = 0.00, V. Loss = 0.01, T. Accuracy 0.92, V. Accuracy 0.6440.\n",
      "Epoch 31 \t T. Loss = 0.00, V. Loss = 0.01, T. Accuracy 0.93, V. Accuracy 0.6410.\n",
      "Epoch 32 \t T. Loss = 0.00, V. Loss = 0.01, T. Accuracy 0.95, V. Accuracy 0.6390.\n",
      "Epoch 33 \t T. Loss = 0.00, V. Loss = 0.01, T. Accuracy 0.95, V. Accuracy 0.6360.\n",
      "Epoch 34 \t T. Loss = 0.00, V. Loss = 0.01, T. Accuracy 0.96, V. Accuracy 0.6410.\n",
      "Epoch 35 \t T. Loss = 0.00, V. Loss = 0.01, T. Accuracy 0.97, V. Accuracy 0.6360.\n",
      "Epoch 36 \t T. Loss = 0.00, V. Loss = 0.01, T. Accuracy 0.97, V. Accuracy 0.6280.\n",
      "Epoch 37 \t T. Loss = 0.00, V. Loss = 0.01, T. Accuracy 0.98, V. Accuracy 0.6270.\n",
      "Epoch 38 \t T. Loss = 0.00, V. Loss = 0.01, T. Accuracy 0.99, V. Accuracy 0.6230.\n",
      "Epoch 39 \t T. Loss = 0.00, V. Loss = 0.01, T. Accuracy 0.99, V. Accuracy 0.6180.\n",
      "Epoch 40 \t T. Loss = 0.00, V. Loss = 0.01, T. Accuracy 0.99, V. Accuracy 0.6220.\n",
      "Epoch 41 \t T. Loss = 0.00, V. Loss = 0.01, T. Accuracy 1.00, V. Accuracy 0.6180.\n",
      "Epoch 42 \t T. Loss = 0.00, V. Loss = 0.02, T. Accuracy 1.00, V. Accuracy 0.6190.\n",
      "Epoch 43 \t T. Loss = 0.00, V. Loss = 0.02, T. Accuracy 1.00, V. Accuracy 0.6150.\n",
      "Epoch 44 \t T. Loss = 0.00, V. Loss = 0.02, T. Accuracy 1.00, V. Accuracy 0.6200.\n",
      "Epoch 45 \t T. Loss = 0.00, V. Loss = 0.02, T. Accuracy 1.00, V. Accuracy 0.6220.\n",
      "Epoch 46 \t T. Loss = 0.00, V. Loss = 0.02, T. Accuracy 1.00, V. Accuracy 0.6150.\n",
      "Epoch 47 \t T. Loss = 0.00, V. Loss = 0.02, T. Accuracy 1.00, V. Accuracy 0.6120.\n",
      "Epoch 48 \t T. Loss = 0.00, V. Loss = 0.02, T. Accuracy 1.00, V. Accuracy 0.6180.\n",
      "Epoch 49 \t T. Loss = 0.00, V. Loss = 0.02, T. Accuracy 1.00, V. Accuracy 0.6110.\n"
     ]
    }
   ],
   "source": [
    "fit(50, model, criterion, optimizer, train_loader, val_loader, checkpoint)"
   ]
  }
 ],
 "metadata": {
  "kernelspec": {
   "display_name": "Python 3",
   "language": "python",
   "name": "python3"
  },
  "language_info": {
   "codemirror_mode": {
    "name": "ipython",
    "version": 3
   },
   "file_extension": ".py",
   "mimetype": "text/x-python",
   "name": "python",
   "nbconvert_exporter": "python",
   "pygments_lexer": "ipython3",
   "version": "3.7.10"
  }
 },
 "nbformat": 4,
 "nbformat_minor": 5
}
