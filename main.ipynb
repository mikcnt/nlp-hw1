{
 "cells": [
  {
   "cell_type": "code",
   "execution_count": 1,
   "id": "2826cb2a",
   "metadata": {
    "execution": {
     "iopub.execute_input": "2021-04-11T21:06:16.178408Z",
     "iopub.status.busy": "2021-04-11T21:06:16.178153Z",
     "iopub.status.idle": "2021-04-11T21:06:17.139091Z",
     "shell.execute_reply": "2021-04-11T21:06:17.138544Z",
     "shell.execute_reply.started": "2021-04-11T21:06:16.178318Z"
    },
    "tags": []
   },
   "outputs": [],
   "source": [
    "import json\n",
    "import pandas as pd\n",
    "import numpy as np\n",
    "import torch\n",
    "from torch import nn\n",
    "from pprint import pprint\n",
    "import jsonlines\n",
    "import os\n",
    "import re\n",
    "from tqdm.notebook import tqdm\n",
    "import pickle\n",
    "import string\n",
    "import random\n",
    "\n",
    "import nltk\n",
    "from nltk.stem.porter import PorterStemmer\n",
    "\n",
    "from typing import *"
   ]
  },
  {
   "cell_type": "markdown",
   "id": "be8265c5",
   "metadata": {},
   "source": [
    "# Utils"
   ]
  },
  {
   "cell_type": "code",
   "execution_count": 3,
   "id": "0ccc3a61",
   "metadata": {
    "execution": {
     "iopub.execute_input": "2021-04-11T21:06:17.146138Z",
     "iopub.status.busy": "2021-04-11T21:06:17.145905Z",
     "iopub.status.idle": "2021-04-11T21:06:17.189948Z",
     "shell.execute_reply": "2021-04-11T21:06:17.187998Z",
     "shell.execute_reply.started": "2021-04-11T21:06:17.146106Z"
    },
    "tags": []
   },
   "outputs": [],
   "source": [
    "def save_pickle(data: dict, path: str) -> None:\n",
    "    with open(path, 'wb') as f:\n",
    "        pickle.dump(data, f, protocol=pickle.HIGHEST_PROTOCOL)\n",
    "\n",
    "def load_pickle(path: str) -> dict:\n",
    "    with open(path, 'rb') as f:\n",
    "        return pickle.load(f)"
   ]
  },
  {
   "cell_type": "code",
   "execution_count": 19,
   "id": "50d0a107",
   "metadata": {
    "execution": {
     "iopub.execute_input": "2021-04-11T21:20:10.629538Z",
     "iopub.status.busy": "2021-04-11T21:20:10.629248Z",
     "iopub.status.idle": "2021-04-11T21:20:10.638911Z",
     "shell.execute_reply": "2021-04-11T21:20:10.638326Z",
     "shell.execute_reply.started": "2021-04-11T21:20:10.629503Z"
    },
    "tags": []
   },
   "outputs": [],
   "source": [
    "# Saving / loading models\n",
    "class Checkpoint:\n",
    "    def __init__(self, path: str, resume=False):\n",
    "        self.path = path\n",
    "        os.makedirs(path, exist_ok=True)\n",
    "        self.resume = resume\n",
    "\n",
    "    def load(self, model, optimizer, id_path=\"\"):\n",
    "        if (not self.resume) and id_path == \"\":\n",
    "            raise RuntimeError()\n",
    "        if self.resume:\n",
    "            id_path = sorted(os.listdir(self.path))[-1]\n",
    "        self.checkpoint = torch.load(\n",
    "            os.path.join(self.path, id_path), map_location=lambda storage, loc: storage\n",
    "        )\n",
    "        if self.checkpoint == None:\n",
    "            raise RuntimeError(\"Checkpoint empty.\")\n",
    "        epoch = self.checkpoint[\"epoch\"]\n",
    "        model.load_state_dict(self.checkpoint[\"model_state_dict\"])\n",
    "        optimizer.load_state_dict(self.checkpoint[\"optimizer_state_dict\"])\n",
    "        losses = self.checkpoint[\"losses\"]\n",
    "        accuracies = self.checkpoint[\"accuracies\"]\n",
    "        return (model, optimizer, epoch, losses, accuracies)\n",
    "\n",
    "    def save(self, model, optimizer, epoch, losses, accuracies):\n",
    "        model_checkpoint = {\n",
    "            \"model_state_dict\": model.state_dict(),\n",
    "            \"optimizer_state_dict\": optimizer.state_dict(),\n",
    "            \"epoch\": epoch,\n",
    "            \"losses\": losses,\n",
    "            \"accuracies\": accuracies\n",
    "        }\n",
    "        checkpoint_name = \"{}.pth\".format(str(epoch).zfill(3))\n",
    "        complete_path = os.path.join(self.path, checkpoint_name)\n",
    "        torch.save(model_checkpoint, complete_path)\n",
    "        return\n",
    "\n",
    "    def load_just_model(self, model, id_path=\"\"):\n",
    "        if self.resume:\n",
    "            id_path = sorted(os.listdir(self.path))[-1]\n",
    "        self.checkpoint = torch.load(\n",
    "            os.path.join(self.path, id_path), map_location=lambda storage, loc: storage\n",
    "        )\n",
    "        if self.checkpoint == None:\n",
    "            raise RuntimeError(\"Checkpoint empty.\")\n",
    "        model.load_state_dict(self.checkpoint[\"model_state_dict\"])\n",
    "        return model"
   ]
  },
  {
   "cell_type": "code",
   "execution_count": 5,
   "id": "873bce01",
   "metadata": {
    "execution": {
     "iopub.execute_input": "2021-04-11T21:06:17.225620Z",
     "iopub.status.busy": "2021-04-11T21:06:17.225445Z",
     "iopub.status.idle": "2021-04-11T21:06:17.237321Z",
     "shell.execute_reply": "2021-04-11T21:06:17.236704Z",
     "shell.execute_reply.started": "2021-04-11T21:06:17.225597Z"
    },
    "tags": []
   },
   "outputs": [],
   "source": [
    "def preprocess(sentence: str) -> str:\n",
    "    # lowercase sentence\n",
    "    sentence = sentence.lower()\n",
    "    # remove punctuation\n",
    "    sentence = re.sub('[^\\w\\s]', ' ', sentence)\n",
    "    # replace multiple adjacent spaces with one single space\n",
    "    sentence = re.sub(' +', ' ', sentence).strip()\n",
    "    return sentence"
   ]
  },
  {
   "cell_type": "code",
   "execution_count": 48,
   "id": "f1e12f84",
   "metadata": {
    "execution": {
     "iopub.execute_input": "2021-04-11T22:22:18.610976Z",
     "iopub.status.busy": "2021-04-11T22:22:18.610259Z",
     "iopub.status.idle": "2021-04-11T22:22:18.617032Z",
     "shell.execute_reply": "2021-04-11T22:22:18.616411Z",
     "shell.execute_reply.started": "2021-04-11T22:22:18.610890Z"
    },
    "tags": []
   },
   "outputs": [],
   "source": [
    "def embeddings_dictionary(path: str) -> Dict[str, torch.Tensor]:\n",
    "    word_vectors = dict()\n",
    "    with open(path) as f:\n",
    "        for i, line in tqdm(enumerate(f)):\n",
    "\n",
    "            word, *vector = line.strip().split(' ')\n",
    "            vector = torch.tensor([float(c) for c in vector])\n",
    "\n",
    "            word_vectors[word] = vector\n",
    "    return word_vectors"
   ]
  },
  {
   "cell_type": "markdown",
   "id": "0cc66bb6",
   "metadata": {},
   "source": [
    "# Create word embedding with GloVe"
   ]
  },
  {
   "cell_type": "code",
   "execution_count": 6,
   "id": "6d5e3a4e",
   "metadata": {
    "execution": {
     "iopub.execute_input": "2021-04-11T21:06:17.238241Z",
     "iopub.status.busy": "2021-04-11T21:06:17.238079Z",
     "iopub.status.idle": "2021-04-11T21:06:17.253903Z",
     "shell.execute_reply": "2021-04-11T21:06:17.253395Z",
     "shell.execute_reply.started": "2021-04-11T21:06:17.238214Z"
    },
    "tags": []
   },
   "outputs": [],
   "source": [
    "def custom_tokenizer(sentence: str, marker: str) -> List[str]:\n",
    "    tokens = sentence.split()\n",
    "    for i, tk in enumerate(tokens):\n",
    "        if marker in tk:\n",
    "            target_position = i\n",
    "            tokens[i] = tk[20:]\n",
    "    return tokens, target_position"
   ]
  },
  {
   "cell_type": "code",
   "execution_count": 69,
   "id": "666a4ad4",
   "metadata": {
    "execution": {
     "iopub.execute_input": "2021-04-11T23:04:06.078264Z",
     "iopub.status.busy": "2021-04-11T23:04:06.078079Z",
     "iopub.status.idle": "2021-04-11T23:04:06.086136Z",
     "shell.execute_reply": "2021-04-11T23:04:06.085665Z",
     "shell.execute_reply.started": "2021-04-11T23:04:06.078241Z"
    },
    "tags": []
   },
   "outputs": [],
   "source": [
    "class TokensEmbedder(object):\n",
    "    def __init__(self, word_vectors: Dict[str, torch.Tensor]) -> None:\n",
    "        self.word_vectors = word_vectors\n",
    "    \n",
    "    def compute_embeddings(self, tokens: List[str]) -> List[torch.Tensor]:\n",
    "        word_embeddings = []\n",
    "        for w in tokens:\n",
    "            word_embeddings.append(self.word_vectors[w] if w in self.word_vectors else self.word_vectors['<unk>'])\n",
    "        \n",
    "        return word_embeddings\n",
    "    \n",
    "    def aggregate_embeddings(self, tokens: List[str], target_position: int) -> torch.Tensor:\n",
    "        pass\n",
    "    \n",
    "    def __call__(self, tokens: List[str], target_position: int) -> torch.Tensor:\n",
    "        return self.aggregate_embeddings(tokens, target_position)\n",
    "\n",
    "class AverageEmbedder(TokensEmbedder):\n",
    "    def __init__(self, word_vectors: Dict[str, torch.Tensor]) -> None:\n",
    "        self.word_vectors = word_vectors\n",
    "    \n",
    "    def aggregate_embeddings(self, tokens: List[str], target_position: int) -> torch.Tensor:\n",
    "        embeddings = torch.stack(self.compute_embeddings(tokens))\n",
    "        return torch.mean(embeddings, dim=0)\n",
    "\n",
    "class WeightedAverageEmbedder(TokensEmbedder):\n",
    "    def __init__(self, word_vectors: Dict[str, torch.Tensor]) -> None:\n",
    "        self.word_vectors = word_vectors\n",
    "    \n",
    "    def aggregate_embeddings(self, tokens: List[str], target_position: int) -> torch.Tensor:\n",
    "        embeddings = torch.stack(self.compute_embeddings(tokens))\n",
    "        # aliases for readibility\n",
    "        n = len(embeddings)\n",
    "        t = target_position\n",
    "\n",
    "        # weights from 1 to 0\n",
    "        weights = torch.linspace(1, 0.1, n).unsqueeze(1)\n",
    "\n",
    "        # weighted vector\n",
    "        new_vectors = embeddings\n",
    "\n",
    "        # weighted average\n",
    "\n",
    "        # right of the target word\n",
    "        new_vectors[t:] = new_vectors[t:] * weights[:n - t]\n",
    "        # left of the target word\n",
    "        new_vectors[:t] = new_vectors[:t] * reversed(weights[1:t + 1])\n",
    "\n",
    "        # denominator (sum of the weights)\n",
    "        weights_sum = weights[:n - t].sum() + weights[1:t + 1].sum()\n",
    "\n",
    "        return new_vectors.sum(dim=0) / weights_sum"
   ]
  },
  {
   "cell_type": "code",
   "execution_count": 49,
   "id": "ee120fe8",
   "metadata": {
    "execution": {
     "iopub.execute_input": "2021-04-11T22:22:24.067541Z",
     "iopub.status.busy": "2021-04-11T22:22:24.067343Z",
     "iopub.status.idle": "2021-04-11T22:22:56.075685Z",
     "shell.execute_reply": "2021-04-11T22:22:56.075121Z",
     "shell.execute_reply.started": "2021-04-11T22:22:24.067523Z"
    },
    "tags": []
   },
   "outputs": [
    {
     "data": {
      "application/vnd.jupyter.widget-view+json": {
       "model_id": "011c1cb467b44a7697db6cef61be96b8",
       "version_major": 2,
       "version_minor": 0
      },
      "text/plain": [
       "0it [00:00, ?it/s]"
      ]
     },
     "metadata": {},
     "output_type": "display_data"
    }
   ],
   "source": [
    "word_vectors = embeddings_dictionary('embeddings/glove.6B.300d.txt')\n",
    "\n",
    "# <unk> token\n",
    "# https://stackoverflow.com/questions/49239941/what-is-unk-in-the-pretrained-glove-vector-files-e-g-glove-6b-50d-txt\n",
    "unk_embedding = '0.22418134 -0.28881392 0.13854356 0.00365387 -0.12870757 0.10243822 0.061626635 0.07318011 -0.061350107 -1.3477012 0.42037755 -0.063593924 -0.09683349 0.18086134 0.23704372 0.014126852 0.170096 -1.1491593 0.31497982 0.06622181 0.024687296 0.076693475 0.13851812 0.021302193 -0.06640582 -0.010336159 0.13523154 -0.042144544 -0.11938788 0.006948221 0.13333307 -0.18276379 0.052385733 0.008943111 -0.23957317 0.08500333 -0.006894406 0.0015864656 0.063391194 0.19177166 -0.13113557 -0.11295479 -0.14276934 0.03413971 -0.034278486 -0.051366422 0.18891625 -0.16673574 -0.057783455 0.036823478 0.08078679 0.022949161 0.033298038 0.011784158 0.05643189 -0.042776518 0.011959623 0.011552498 -0.0007971594 0.11300405 -0.031369694 -0.0061559738 -0.009043574 -0.415336 -0.18870236 0.13708843 0.005911723 -0.113035575 -0.030096142 -0.23908928 -0.05354085 -0.044904727 -0.20228513 0.0065645403 -0.09578946 -0.07391877 -0.06487607 0.111740574 -0.048649278 -0.16565254 -0.052037314 -0.078968436 0.13684988 0.0757494 -0.006275573 0.28693774 0.52017444 -0.0877165 -0.33010918 -0.1359622 0.114895485 -0.09744406 0.06269521 0.12118575 -0.08026362 0.35256687 -0.060017522 -0.04889904 -0.06828978 0.088740796 0.003964443 -0.0766291 0.1263925 0.07809314 -0.023164088 -0.5680669 -0.037892066 -0.1350967 -0.11351585 -0.111434504 -0.0905027 0.25174105 -0.14841858 0.034635577 -0.07334565 0.06320108 -0.038343467 -0.05413284 0.042197507 -0.090380974 -0.070528865 -0.009174437 0.009069661 0.1405178 0.02958134 -0.036431845 -0.08625681 0.042951006 0.08230793 0.0903314 -0.12279937 -0.013899368 0.048119213 0.08678239 -0.14450377 -0.04424887 0.018319942 0.015026873 -0.100526 0.06021201 0.74059093 -0.0016333034 -0.24960588 -0.023739101 0.016396184 0.11928964 0.13950661 -0.031624354 -0.01645025 0.14079992 -0.0002824564 -0.08052984 -0.0021310581 -0.025350995 0.086938225 0.14308536 0.17146006 -0.13943303 0.048792403 0.09274929 -0.053167373 0.031103406 0.012354865 0.21057427 0.32618305 0.18015954 -0.15881181 0.15322933 -0.22558987 -0.04200665 0.0084689725 0.038156632 0.15188617 0.13274793 0.113756925 -0.095273495 -0.049490947 -0.10265804 -0.27064866 -0.034567792 -0.018810693 -0.0010360252 0.10340131 0.13883452 0.21131058 -0.01981019 0.1833468 -0.10751636 -0.03128868 0.02518242 0.23232952 0.042052146 0.11731903 -0.15506615 0.0063580726 -0.15429358 0.1511722 0.12745973 0.2576985 -0.25486213 -0.0709463 0.17983761 0.054027 -0.09884228 -0.24595179 -0.093028545 -0.028203879 0.094398156 0.09233813 0.029291354 0.13110267 0.15682974 -0.016919162 0.23927948 -0.1343307 -0.22422817 0.14634751 -0.064993896 0.4703685 -0.027190214 0.06224946 -0.091360025 0.21490277 -0.19562101 -0.10032754 -0.09056772 -0.06203493 -0.18876675 -0.10963594 -0.27734384 0.12616494 -0.02217992 -0.16058226 -0.080475815 0.026953284 0.110732645 0.014894041 0.09416802 0.14299914 -0.1594008 -0.066080004 -0.007995227 -0.11668856 -0.13081996 -0.09237365 0.14741232 0.09180138 0.081735 0.3211204 -0.0036552632 -0.047030564 -0.02311798 0.048961394 0.08669574 -0.06766279 -0.50028914 -0.048515294 0.14144728 -0.032994404 -0.11954345 -0.14929578 -0.2388355 -0.019883996 -0.15917352 -0.052084364 0.2801028 -0.0029121689 -0.054581646 -0.47385484 0.17112483 -0.12066923 -0.042173345 0.1395337 0.26115036 0.012869649 0.009291686 -0.0026459037 -0.075331464 0.017840583 -0.26869613 -0.21820338 -0.17084768 -0.1022808 -0.055290595 0.13513643 0.12362477 -0.10980586 0.13980341 -0.20233242 0.08813751 0.3849736 -0.10653763 -0.06199595 0.028849555 0.03230154 0.023856193 0.069950655 0.19310954 -0.077677034 -0.144811'\n",
    "unk_embedding = unk_embedding.strip().split()\n",
    "word_vectors['<unk>'] = torch.tensor([float(c) for c in unk_embedding])"
   ]
  },
  {
   "cell_type": "code",
   "execution_count": 47,
   "id": "b10f34bd",
   "metadata": {
    "execution": {
     "iopub.execute_input": "2021-04-11T21:42:55.447711Z",
     "iopub.status.busy": "2021-04-11T21:42:55.447550Z",
     "iopub.status.idle": "2021-04-11T21:43:14.636320Z",
     "shell.execute_reply": "2021-04-11T21:43:14.634213Z",
     "shell.execute_reply.started": "2021-04-11T21:42:55.447693Z"
    },
    "tags": []
   },
   "outputs": [],
   "source": [
    "save_pickle(word_vectors, 'model/vocabulary.pkl')"
   ]
  },
  {
   "cell_type": "markdown",
   "id": "ed5b35d1",
   "metadata": {},
   "source": [
    "# Dataset class using GloVe"
   ]
  },
  {
   "cell_type": "code",
   "execution_count": 58,
   "id": "1bb8bc00",
   "metadata": {
    "execution": {
     "iopub.execute_input": "2021-04-11T23:01:07.903708Z",
     "iopub.status.busy": "2021-04-11T23:01:07.902917Z",
     "iopub.status.idle": "2021-04-11T23:01:07.923171Z",
     "shell.execute_reply": "2021-04-11T23:01:07.922576Z",
     "shell.execute_reply.started": "2021-04-11T23:01:07.903579Z"
    },
    "tags": []
   },
   "outputs": [],
   "source": [
    "class WiCDataset(torch.utils.data.Dataset):\n",
    "    def __init__(self, dataset_path: str, marker: str, embedder: TokensEmbedder):\n",
    "        self.data = []\n",
    "        self.marker = marker\n",
    "        self.embedder = embedder\n",
    "\n",
    "        self.create_dataset(dataset_path)\n",
    "        \n",
    "    \n",
    "    def create_dataset(self, dataset_path: str) -> None:\n",
    "        with jsonlines.open(dataset_path, 'r') as f:\n",
    "            for i, line in enumerate(f.iter()):\n",
    "                # load sentences\n",
    "                start1 = int(line['start1'])\n",
    "                start2 = int(line['start2'])\n",
    "                s1 = line['sentence1']\n",
    "                s2 = line['sentence2']\n",
    "                # insert special characters to locate target word after preprocessing\n",
    "                s1 = s1[:start1] + self.marker + s1[start1:]\n",
    "                s2 = s2[:start2] + self.marker + s2[start2:]\n",
    "                \n",
    "                # preprocessing\n",
    "                s1 = preprocess(s1)\n",
    "                s2 = preprocess(s2)\n",
    "                \n",
    "                # tokenization\n",
    "                t1, target_position1 = custom_tokenizer(s1, self.marker)\n",
    "                t2, target_position2 = custom_tokenizer(s2, self.marker)\n",
    "                \n",
    "                # convert tokens to embeddings and aggregate\n",
    "                v1 = self.embedder(t1, target_position1)\n",
    "                v2 = self.embedder(t2, target_position2)\n",
    "                \n",
    "                # concatenate vectors\n",
    "                sentence_vector = torch.cat((v1, v2))\n",
    "                \n",
    "                label = torch.tensor(1, dtype=torch.float32) if line['label'] == 'True' else torch.tensor(0, dtype=torch.float32)\n",
    "                self.data.append((sentence_vector, label))\n",
    "\n",
    "\n",
    "    def __len__(self) -> int:\n",
    "        return len(self.data)\n",
    "\n",
    "    def __getitem__(self, idx: int) -> torch.Tensor:\n",
    "        return self.data[idx]"
   ]
  },
  {
   "cell_type": "markdown",
   "id": "236c88ef",
   "metadata": {},
   "source": [
    "# Model Class"
   ]
  },
  {
   "cell_type": "code",
   "execution_count": 59,
   "id": "60b8b5f7",
   "metadata": {
    "execution": {
     "iopub.execute_input": "2021-04-11T23:01:21.355672Z",
     "iopub.status.busy": "2021-04-11T23:01:21.355014Z",
     "iopub.status.idle": "2021-04-11T23:01:21.361879Z",
     "shell.execute_reply": "2021-04-11T23:01:21.361172Z",
     "shell.execute_reply.started": "2021-04-11T23:01:21.355589Z"
    },
    "tags": []
   },
   "outputs": [],
   "source": [
    "class MLP(nn.Module):\n",
    "    def __init__(\n",
    "        self,\n",
    "        n_features: int,\n",
    "        num_layers: int,\n",
    "        hidden_dim: int,\n",
    "        activation: Callable[[torch.Tensor], torch.Tensor],\n",
    "    ) -> None:\n",
    "        super().__init__()\n",
    "\n",
    "        self.first_layer = nn.Linear(in_features=n_features, out_features=hidden_dim)\n",
    "\n",
    "        self.layers = (\n",
    "            nn.ModuleList()\n",
    "        )\n",
    "\n",
    "        for i in range(num_layers):\n",
    "            self.layers.append(\n",
    "                nn.Linear(in_features=hidden_dim, out_features=hidden_dim)\n",
    "            )\n",
    "            \n",
    "        self.activation = activation\n",
    "        \n",
    "        self.last_layer = nn.Linear(in_features=hidden_dim, out_features=1)\n",
    "        \n",
    "        self.sigmoid = nn.Sigmoid()\n",
    "\n",
    "    def forward(self, meshgrid: torch.Tensor) -> torch.Tensor:\n",
    "        out = meshgrid\n",
    "\n",
    "        out = self.first_layer(\n",
    "            out\n",
    "        )  # First linear layer, transforms the hidden dimensions from `n_features` (embedding dimension) to `hidden_dim`\n",
    "        for layer in self.layers:  # Apply `k` (linear, activation) layer\n",
    "            out = layer(out)\n",
    "            out = self.activation(out)\n",
    "        out = self.last_layer(\n",
    "            out\n",
    "        )  # Last linear layer to bring the `hiddem_dim` features to a binary space (`True`/`False`)\n",
    "        \n",
    "        out = self.sigmoid(out)\n",
    "        return out.squeeze(-1)\n"
   ]
  },
  {
   "cell_type": "markdown",
   "id": "1468ce5c",
   "metadata": {},
   "source": [
    "# Training process"
   ]
  },
  {
   "cell_type": "code",
   "execution_count": 60,
   "id": "31b3b586",
   "metadata": {
    "execution": {
     "iopub.execute_input": "2021-04-11T23:01:26.119451Z",
     "iopub.status.busy": "2021-04-11T23:01:26.118972Z",
     "iopub.status.idle": "2021-04-11T23:01:26.129741Z",
     "shell.execute_reply": "2021-04-11T23:01:26.129187Z",
     "shell.execute_reply.started": "2021-04-11T23:01:26.119390Z"
    },
    "tags": []
   },
   "outputs": [],
   "source": [
    "def fit(epochs: int,\n",
    "        model: nn.Module,\n",
    "        criterion: nn.Module,\n",
    "        opt: torch.optim.Optimizer,\n",
    "        train_dl: torch.utils.data.DataLoader,\n",
    "        valid_dl: torch.utils.data.DataLoader,\n",
    "        checkpoint: Checkpoint = None\n",
    "       ) -> None:\n",
    "\n",
    "    losses = {'train': [], 'val': []}\n",
    "    accuracies = {'train': [], 'val': []}\n",
    "\n",
    "    for epoch in tqdm(range(epochs)):\n",
    "        losses_train = 0\n",
    "        d_train, n_train = 0, 0\n",
    "\n",
    "        model.train()\n",
    "        for xb, yb in train_dl:\n",
    "            xb = xb.to(device)\n",
    "            yb = yb.to(device)\n",
    "            \n",
    "            pred = model(xb)\n",
    "            \n",
    "            loss_train = criterion(pred, yb)\n",
    "            loss_train.backward()\n",
    "            opt.step()\n",
    "            opt.zero_grad()\n",
    "            losses_train += loss_train.item()\n",
    "            \n",
    "            pred = torch.round(pred)\n",
    "            # number of predictions\n",
    "            d_train += pred.shape[0]\n",
    "            # number of correct predictions\n",
    "            n_train += (yb == pred).int().sum()\n",
    "            \n",
    "            \n",
    "            \n",
    "        model.eval()\n",
    "        with torch.no_grad():\n",
    "            losses_val = 0\n",
    "            d_val, n_val = 0, 0\n",
    "            for xb, yb in valid_dl:\n",
    "                xb = xb.to(device)\n",
    "                yb = yb.to(device)\n",
    "                \n",
    "                pred = model(xb)\n",
    "\n",
    "                loss_val = criterion(pred, yb)\n",
    "                losses_val += loss_val.item()\n",
    "                \n",
    "\n",
    "                pred = torch.round(pred)\n",
    "                # number of predictions\n",
    "                d_val += pred.shape[0]\n",
    "                # number of correct predictions\n",
    "                n_val += (yb == pred).int().sum().item()\n",
    "                \n",
    "        loss_train = losses_train / d_train\n",
    "        loss_val = losses_val / d_val\n",
    "        \n",
    "        acc_train = n_train / d_train\n",
    "        acc_val = n_val / d_val\n",
    "        \n",
    "        losses['train'].append(loss_train)\n",
    "        losses['val'].append(loss_val)\n",
    "        \n",
    "        accuracies['train'].append(acc_train)\n",
    "        accuracies['val'].append(acc_val)\n",
    "\n",
    "        if checkpoint:\n",
    "            checkpoint.save(model, opt, epoch, losses, accuracies)\n",
    "\n",
    "        print(\n",
    "            f\"Epoch {epoch} \\t T. Loss = {loss_train:.4f}, V. Loss = {loss_val:.4f}, T. Accuracy {acc_train:.2f}, V. Accuracy {acc_val:.2f}.\"\n",
    "        )"
   ]
  },
  {
   "cell_type": "code",
   "execution_count": 70,
   "id": "0590eeea",
   "metadata": {
    "execution": {
     "iopub.execute_input": "2021-04-11T23:04:12.243020Z",
     "iopub.status.busy": "2021-04-11T23:04:12.242725Z",
     "iopub.status.idle": "2021-04-11T23:04:13.936139Z",
     "shell.execute_reply": "2021-04-11T23:04:13.935581Z",
     "shell.execute_reply.started": "2021-04-11T23:04:12.242984Z"
    },
    "tags": []
   },
   "outputs": [],
   "source": [
    "train_path = 'data/train.jsonl'\n",
    "dev_path = 'data/dev.jsonl'\n",
    "\n",
    "random.seed(42)\n",
    "marker = ''.join(random.choices(string.ascii_lowercase, k=20))\n",
    "\n",
    "embedder = AverageEmbedder(word_vectors)\n",
    "\n",
    "train_dataset = WiCDataset(train_path, marker, embedder)\n",
    "val_dataset = WiCDataset(dev_path, marker, embedder)\n",
    "\n",
    "train_loader = torch.utils.data.DataLoader(train_dataset, batch_size=128, shuffle=True)\n",
    "val_loader = torch.utils.data.DataLoader(val_dataset, batch_size=128, shuffle=False)"
   ]
  },
  {
   "cell_type": "code",
   "execution_count": 71,
   "id": "657e0c3f",
   "metadata": {
    "execution": {
     "iopub.execute_input": "2021-04-11T23:04:13.942765Z",
     "iopub.status.busy": "2021-04-11T23:04:13.942601Z",
     "iopub.status.idle": "2021-04-11T23:04:13.952444Z",
     "shell.execute_reply": "2021-04-11T23:04:13.951872Z",
     "shell.execute_reply.started": "2021-04-11T23:04:13.942746Z"
    },
    "tags": []
   },
   "outputs": [],
   "source": [
    "device = 'cuda' if torch.cuda.is_available() else 'cpu'\n",
    "criterion = nn.BCELoss()\n",
    "model = MLP(n_features=600,\n",
    "            num_layers=5, \n",
    "            hidden_dim=150, \n",
    "            activation=torch.nn.functional.relu).to(device)\n",
    "optimizer = torch.optim.Adam(model.parameters(), lr=0.0001, weight_decay=0.00001)\n",
    "\n",
    "checkpoint = Checkpoint(path='checkpoints')"
   ]
  },
  {
   "cell_type": "code",
   "execution_count": 72,
   "id": "94b5e8a1",
   "metadata": {
    "execution": {
     "iopub.execute_input": "2021-04-11T23:04:13.953589Z",
     "iopub.status.busy": "2021-04-11T23:04:13.953389Z",
     "iopub.status.idle": "2021-04-11T23:04:25.829112Z",
     "shell.execute_reply": "2021-04-11T23:04:25.828574Z",
     "shell.execute_reply.started": "2021-04-11T23:04:13.953549Z"
    },
    "tags": []
   },
   "outputs": [
    {
     "data": {
      "application/vnd.jupyter.widget-view+json": {
       "model_id": "f4363eca8b1d4325ab4641a11be71238",
       "version_major": 2,
       "version_minor": 0
      },
      "text/plain": [
       "  0%|          | 0/50 [00:00<?, ?it/s]"
      ]
     },
     "metadata": {},
     "output_type": "display_data"
    },
    {
     "name": "stdout",
     "output_type": "stream",
     "text": [
      "Epoch 0 \t T. Loss = 0.0055, V. Loss = 0.0055, T. Accuracy 0.50, V. Accuracy 0.50.\n",
      "Epoch 1 \t T. Loss = 0.0055, V. Loss = 0.0055, T. Accuracy 0.50, V. Accuracy 0.50.\n",
      "Epoch 2 \t T. Loss = 0.0055, V. Loss = 0.0055, T. Accuracy 0.52, V. Accuracy 0.58.\n",
      "Epoch 3 \t T. Loss = 0.0055, V. Loss = 0.0055, T. Accuracy 0.54, V. Accuracy 0.57.\n",
      "Epoch 4 \t T. Loss = 0.0054, V. Loss = 0.0055, T. Accuracy 0.56, V. Accuracy 0.58.\n",
      "Epoch 5 \t T. Loss = 0.0053, V. Loss = 0.0054, T. Accuracy 0.59, V. Accuracy 0.58.\n",
      "Epoch 6 \t T. Loss = 0.0052, V. Loss = 0.0052, T. Accuracy 0.62, V. Accuracy 0.62.\n",
      "Epoch 7 \t T. Loss = 0.0050, V. Loss = 0.0051, T. Accuracy 0.64, V. Accuracy 0.64.\n",
      "Epoch 8 \t T. Loss = 0.0049, V. Loss = 0.0051, T. Accuracy 0.66, V. Accuracy 0.62.\n",
      "Epoch 9 \t T. Loss = 0.0048, V. Loss = 0.0050, T. Accuracy 0.67, V. Accuracy 0.65.\n",
      "Epoch 10 \t T. Loss = 0.0046, V. Loss = 0.0054, T. Accuracy 0.68, V. Accuracy 0.60.\n",
      "Epoch 11 \t T. Loss = 0.0046, V. Loss = 0.0050, T. Accuracy 0.69, V. Accuracy 0.64.\n",
      "Epoch 12 \t T. Loss = 0.0045, V. Loss = 0.0049, T. Accuracy 0.71, V. Accuracy 0.64.\n",
      "Epoch 13 \t T. Loss = 0.0043, V. Loss = 0.0050, T. Accuracy 0.72, V. Accuracy 0.66.\n",
      "Epoch 14 \t T. Loss = 0.0042, V. Loss = 0.0050, T. Accuracy 0.73, V. Accuracy 0.65.\n",
      "Epoch 15 \t T. Loss = 0.0041, V. Loss = 0.0051, T. Accuracy 0.74, V. Accuracy 0.65.\n",
      "Epoch 16 \t T. Loss = 0.0040, V. Loss = 0.0052, T. Accuracy 0.76, V. Accuracy 0.64.\n",
      "Epoch 17 \t T. Loss = 0.0039, V. Loss = 0.0052, T. Accuracy 0.77, V. Accuracy 0.63.\n",
      "Epoch 18 \t T. Loss = 0.0037, V. Loss = 0.0054, T. Accuracy 0.78, V. Accuracy 0.64.\n",
      "Epoch 19 \t T. Loss = 0.0036, V. Loss = 0.0056, T. Accuracy 0.79, V. Accuracy 0.63.\n",
      "Epoch 20 \t T. Loss = 0.0034, V. Loss = 0.0059, T. Accuracy 0.81, V. Accuracy 0.60.\n",
      "Epoch 21 \t T. Loss = 0.0033, V. Loss = 0.0058, T. Accuracy 0.82, V. Accuracy 0.63.\n",
      "Epoch 22 \t T. Loss = 0.0031, V. Loss = 0.0060, T. Accuracy 0.83, V. Accuracy 0.61.\n",
      "Epoch 23 \t T. Loss = 0.0029, V. Loss = 0.0062, T. Accuracy 0.85, V. Accuracy 0.62.\n",
      "Epoch 24 \t T. Loss = 0.0028, V. Loss = 0.0064, T. Accuracy 0.85, V. Accuracy 0.62.\n",
      "Epoch 25 \t T. Loss = 0.0026, V. Loss = 0.0067, T. Accuracy 0.88, V. Accuracy 0.63.\n",
      "Epoch 26 \t T. Loss = 0.0023, V. Loss = 0.0070, T. Accuracy 0.90, V. Accuracy 0.62.\n",
      "Epoch 27 \t T. Loss = 0.0022, V. Loss = 0.0072, T. Accuracy 0.90, V. Accuracy 0.62.\n",
      "Epoch 28 \t T. Loss = 0.0019, V. Loss = 0.0077, T. Accuracy 0.91, V. Accuracy 0.61.\n",
      "Epoch 29 \t T. Loss = 0.0017, V. Loss = 0.0080, T. Accuracy 0.93, V. Accuracy 0.62.\n",
      "Epoch 30 \t T. Loss = 0.0015, V. Loss = 0.0085, T. Accuracy 0.94, V. Accuracy 0.61.\n",
      "Epoch 31 \t T. Loss = 0.0014, V. Loss = 0.0089, T. Accuracy 0.95, V. Accuracy 0.62.\n",
      "Epoch 32 \t T. Loss = 0.0012, V. Loss = 0.0095, T. Accuracy 0.96, V. Accuracy 0.60.\n",
      "Epoch 33 \t T. Loss = 0.0011, V. Loss = 0.0097, T. Accuracy 0.97, V. Accuracy 0.61.\n",
      "Epoch 34 \t T. Loss = 0.0010, V. Loss = 0.0103, T. Accuracy 0.97, V. Accuracy 0.61.\n",
      "Epoch 35 \t T. Loss = 0.0009, V. Loss = 0.0109, T. Accuracy 0.97, V. Accuracy 0.61.\n",
      "Epoch 36 \t T. Loss = 0.0008, V. Loss = 0.0111, T. Accuracy 0.98, V. Accuracy 0.61.\n",
      "Epoch 37 \t T. Loss = 0.0006, V. Loss = 0.0117, T. Accuracy 0.98, V. Accuracy 0.60.\n",
      "Epoch 38 \t T. Loss = 0.0005, V. Loss = 0.0124, T. Accuracy 0.99, V. Accuracy 0.62.\n",
      "Epoch 39 \t T. Loss = 0.0005, V. Loss = 0.0129, T. Accuracy 0.99, V. Accuracy 0.61.\n",
      "Epoch 40 \t T. Loss = 0.0004, V. Loss = 0.0136, T. Accuracy 0.99, V. Accuracy 0.60.\n",
      "Epoch 41 \t T. Loss = 0.0003, V. Loss = 0.0144, T. Accuracy 0.99, V. Accuracy 0.61.\n",
      "Epoch 42 \t T. Loss = 0.0003, V. Loss = 0.0146, T. Accuracy 0.99, V. Accuracy 0.59.\n",
      "Epoch 43 \t T. Loss = 0.0003, V. Loss = 0.0147, T. Accuracy 0.99, V. Accuracy 0.60.\n",
      "Epoch 44 \t T. Loss = 0.0002, V. Loss = 0.0160, T. Accuracy 1.00, V. Accuracy 0.60.\n",
      "Epoch 45 \t T. Loss = 0.0002, V. Loss = 0.0159, T. Accuracy 1.00, V. Accuracy 0.61.\n",
      "Epoch 46 \t T. Loss = 0.0002, V. Loss = 0.0165, T. Accuracy 1.00, V. Accuracy 0.60.\n",
      "Epoch 47 \t T. Loss = 0.0002, V. Loss = 0.0170, T. Accuracy 0.99, V. Accuracy 0.60.\n",
      "Epoch 48 \t T. Loss = 0.0002, V. Loss = 0.0173, T. Accuracy 1.00, V. Accuracy 0.61.\n",
      "Epoch 49 \t T. Loss = 0.0001, V. Loss = 0.0181, T. Accuracy 1.00, V. Accuracy 0.61.\n"
     ]
    }
   ],
   "source": [
    "fit(50, model, criterion, optimizer, train_loader, val_loader, checkpoint)"
   ]
  }
 ],
 "metadata": {
  "kernelspec": {
   "display_name": "Python 3",
   "language": "python",
   "name": "python3"
  },
  "language_info": {
   "codemirror_mode": {
    "name": "ipython",
    "version": 3
   },
   "file_extension": ".py",
   "mimetype": "text/x-python",
   "name": "python",
   "nbconvert_exporter": "python",
   "pygments_lexer": "ipython3",
   "version": "3.7.10"
  }
 },
 "nbformat": 4,
 "nbformat_minor": 5
}
