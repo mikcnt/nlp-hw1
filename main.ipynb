{
 "cells": [
  {
   "cell_type": "code",
   "execution_count": 15,
   "id": "55124a8b",
   "metadata": {
    "execution": {
     "iopub.execute_input": "2021-04-08T20:26:22.253448Z",
     "iopub.status.busy": "2021-04-08T20:26:22.253154Z",
     "iopub.status.idle": "2021-04-08T20:26:22.258800Z",
     "shell.execute_reply": "2021-04-08T20:26:22.257938Z",
     "shell.execute_reply.started": "2021-04-08T20:26:22.253413Z"
    },
    "tags": []
   },
   "outputs": [],
   "source": [
    "import json\n",
    "import pandas as pd\n",
    "import numpy as np\n",
    "import torch\n",
    "from torch import nn\n",
    "from pprint import pprint\n",
    "import jsonlines\n",
    "import os\n",
    "import re\n",
    "from tqdm.notebook import tqdm\n",
    "import pickle\n",
    "\n",
    "from typing import *"
   ]
  },
  {
   "cell_type": "code",
   "execution_count": 2,
   "id": "319af109",
   "metadata": {
    "execution": {
     "iopub.execute_input": "2021-04-08T18:40:21.875563Z",
     "iopub.status.busy": "2021-04-08T18:40:21.875310Z",
     "iopub.status.idle": "2021-04-08T18:40:21.879287Z",
     "shell.execute_reply": "2021-04-08T18:40:21.878545Z",
     "shell.execute_reply.started": "2021-04-08T18:40:21.875537Z"
    },
    "tags": []
   },
   "outputs": [],
   "source": [
    "train_path = 'data/train.jsonl'\n",
    "dev_path = 'data/dev.jsonl'"
   ]
  },
  {
   "cell_type": "markdown",
   "id": "1c71fa1f",
   "metadata": {},
   "source": [
    "# Utils"
   ]
  },
  {
   "cell_type": "code",
   "execution_count": 9,
   "id": "b90532a0",
   "metadata": {
    "execution": {
     "iopub.execute_input": "2021-04-08T18:43:20.939417Z",
     "iopub.status.busy": "2021-04-08T18:43:20.939065Z",
     "iopub.status.idle": "2021-04-08T18:43:20.945492Z",
     "shell.execute_reply": "2021-04-08T18:43:20.944440Z",
     "shell.execute_reply.started": "2021-04-08T18:43:20.939374Z"
    },
    "tags": []
   },
   "outputs": [],
   "source": [
    "def save_dictionary(dictionary, path):\n",
    "    with open(path, 'wb') as f:\n",
    "        pickle.dump(dictionary, f, protocol=pickle.HIGHEST_PROTOCOL)\n",
    "\n",
    "def load_dictionary(path):\n",
    "    with open(path, 'rb') as f:\n",
    "        return pickle.load(f)"
   ]
  },
  {
   "cell_type": "markdown",
   "id": "419e5396",
   "metadata": {},
   "source": [
    "# Create word embedding with GloVe"
   ]
  },
  {
   "cell_type": "code",
   "execution_count": 5,
   "id": "ddaf2489",
   "metadata": {
    "execution": {
     "iopub.execute_input": "2021-04-08T18:40:55.185145Z",
     "iopub.status.busy": "2021-04-08T18:40:55.185008Z",
     "iopub.status.idle": "2021-04-08T18:40:55.223292Z",
     "shell.execute_reply": "2021-04-08T18:40:55.222678Z",
     "shell.execute_reply.started": "2021-04-08T18:40:55.185127Z"
    },
    "tags": []
   },
   "outputs": [],
   "source": [
    "def sentence2vector(sentence: str) -> Optional[torch.Tensor]:\n",
    "    sentences_word_vector = [word_vectors[w] for w in sentence.split(' ') if w in word_vectors]\n",
    "    \n",
    "    if len(sentences_word_vector) == 0:\n",
    "        return None\n",
    "\n",
    "    sentences_word_vector = torch.stack(sentences_word_vector)  # tensor shape: (#words X #features)\n",
    "    return torch.mean(sentences_word_vector, dim=0)"
   ]
  },
  {
   "cell_type": "code",
   "execution_count": 4,
   "id": "81695264",
   "metadata": {
    "execution": {
     "iopub.execute_input": "2021-04-08T18:40:55.181289Z",
     "iopub.status.busy": "2021-04-08T18:40:55.181151Z",
     "iopub.status.idle": "2021-04-08T18:40:55.184408Z",
     "shell.execute_reply": "2021-04-08T18:40:55.183844Z",
     "shell.execute_reply.started": "2021-04-08T18:40:55.181270Z"
    },
    "tags": []
   },
   "outputs": [],
   "source": [
    "def cosine_similarity(v1: torch.Tensor, v2: torch.Tensor) -> float:\n",
    "    num = torch.sum(v1 * v2)\n",
    "    den = torch.linalg.norm(v1) * torch.linalg.norm(v2)\n",
    "    return (num / den).item()"
   ]
  },
  {
   "cell_type": "code",
   "execution_count": 3,
   "id": "63f39efb",
   "metadata": {
    "execution": {
     "iopub.execute_input": "2021-04-08T18:40:21.880566Z",
     "iopub.status.busy": "2021-04-08T18:40:21.880378Z",
     "iopub.status.idle": "2021-04-08T18:40:55.180542Z",
     "shell.execute_reply": "2021-04-08T18:40:55.180003Z",
     "shell.execute_reply.started": "2021-04-08T18:40:21.880548Z"
    },
    "tags": []
   },
   "outputs": [
    {
     "data": {
      "application/vnd.jupyter.widget-view+json": {
       "model_id": "f8f6788de66240da9ea71aa7c88a2a60",
       "version_major": 2,
       "version_minor": 0
      },
      "text/plain": [
       "  0%|          | 0/400000 [00:00<?, ?it/s]"
      ]
     },
     "metadata": {},
     "output_type": "display_data"
    }
   ],
   "source": [
    "word_vectors = dict()\n",
    "n_words = 400_000\n",
    "with open('embeddings/glove.6B.300d.txt') as f:\n",
    "    for i, line in tqdm(enumerate(f), total=n_words):\n",
    "\n",
    "        word, *vector = line.strip().split(' ')\n",
    "        vector = torch.tensor([float(c) for c in vector])\n",
    "        \n",
    "        word_vectors[word] = vector"
   ]
  },
  {
   "cell_type": "markdown",
   "id": "104a3e21",
   "metadata": {},
   "source": [
    "# Dataset class using GloVe"
   ]
  },
  {
   "cell_type": "code",
   "execution_count": 29,
   "id": "f132864d",
   "metadata": {
    "execution": {
     "iopub.execute_input": "2021-04-08T20:32:40.690921Z",
     "iopub.status.busy": "2021-04-08T20:32:40.690697Z",
     "iopub.status.idle": "2021-04-08T20:32:40.697211Z",
     "shell.execute_reply": "2021-04-08T20:32:40.696598Z",
     "shell.execute_reply.started": "2021-04-08T20:32:40.690894Z"
    },
    "tags": []
   },
   "outputs": [],
   "source": [
    "class WiCDataset(torch.utils.data.Dataset):\n",
    "    def __init__(self, dataset_path: str):\n",
    "        self.data = []\n",
    "        self.create_dataset(dataset_path)\n",
    "    \n",
    "    def create_dataset(self, dataset_path: str) -> None:\n",
    "        with jsonlines.open(dataset_path, 'r') as f:\n",
    "            for i, line in enumerate(f.iter()):\n",
    "                # s1 = sentence2vector(line['sentence1'])\n",
    "                # s2 = sentence2vector(line['sentence2'])\n",
    "                sentence = f\"{line['sentence1']} {line['sentence2']}\"\n",
    "                sentence_vector = sentence2vector(sentence)\n",
    "                \n",
    "                label = 1 if line['label'] == 'True' else 0\n",
    "                self.data.append((sentence_vector, label))\n",
    "\n",
    "\n",
    "    def __len__(self) -> int:\n",
    "        return len(self.data)\n",
    "\n",
    "    def __getitem__(self, idx: int) -> torch.Tensor:\n",
    "        return self.data[idx]"
   ]
  },
  {
   "cell_type": "markdown",
   "id": "6bb748fb",
   "metadata": {},
   "source": [
    "# Model Class"
   ]
  },
  {
   "cell_type": "code",
   "execution_count": 16,
   "id": "d23b26a2",
   "metadata": {
    "execution": {
     "iopub.execute_input": "2021-04-08T20:28:43.294289Z",
     "iopub.status.busy": "2021-04-08T20:28:43.294105Z",
     "iopub.status.idle": "2021-04-08T20:28:43.299981Z",
     "shell.execute_reply": "2021-04-08T20:28:43.299306Z",
     "shell.execute_reply.started": "2021-04-08T20:28:43.294271Z"
    }
   },
   "outputs": [],
   "source": [
    "class MLP(nn.Module):\n",
    "    def __init__(\n",
    "        self,\n",
    "        n_features: int,\n",
    "        num_layers: int,\n",
    "        hidden_dim: int,\n",
    "        activation: Callable[[torch.Tensor], torch.Tensor],\n",
    "    ) -> None:\n",
    "        super().__init__()\n",
    "\n",
    "        self.first_layer = nn.Linear(in_features=n_features, out_features=hidden_dim)\n",
    "\n",
    "        self.layers = (\n",
    "            nn.ModuleList()\n",
    "        )\n",
    "\n",
    "        for i in range(num_layers):\n",
    "            self.layers.append(\n",
    "                nn.Linear(in_features=hidden_dim, out_features=hidden_dim)\n",
    "            )\n",
    "        self.activation = activation\n",
    "\n",
    "        self.last_layer = nn.Linear(in_features=hidden_dim, out_features=1)\n",
    "\n",
    "    def forward(self, meshgrid: torch.Tensor) -> torch.Tensor:\n",
    "        \"\"\"\n",
    "        Applies transformations to each (x, y) independently\n",
    "\n",
    "        :param meshgrid: tensor of dimensions [..., 2], where ... means any number of dims\n",
    "        \"\"\"\n",
    "        out = meshgrid\n",
    "\n",
    "        out = self.first_layer(\n",
    "            out\n",
    "        )  # First linear layer, transforms the hidden dimensions from `n_features` (embedding dimension) to `hidden_dim`\n",
    "        for layer in self.layers:  # Apply `k` (linear, activation) layer\n",
    "            out = layer(out)\n",
    "            out = self.activation(out)\n",
    "        out = self.last_layer(\n",
    "            out\n",
    "        )  # Last linear layer to bring the `hiddem_dim` features to a binary space (`True`/`False`)\n",
    "\n",
    "        return out.squeeze(-1)\n"
   ]
  },
  {
   "cell_type": "markdown",
   "id": "12ee8421",
   "metadata": {},
   "source": [
    "# Instantiate model"
   ]
  },
  {
   "cell_type": "code",
   "execution_count": 35,
   "id": "f9117a15",
   "metadata": {
    "execution": {
     "iopub.execute_input": "2021-04-08T20:34:48.347871Z",
     "iopub.status.busy": "2021-04-08T20:34:48.347214Z",
     "iopub.status.idle": "2021-04-08T20:34:48.355216Z",
     "shell.execute_reply": "2021-04-08T20:34:48.354737Z",
     "shell.execute_reply.started": "2021-04-08T20:34:48.347787Z"
    },
    "tags": []
   },
   "outputs": [
    {
     "data": {
      "text/plain": [
       "<bound method Module.parameters of MLP(\n",
       "  (first_layer): Linear(in_features=300, out_features=100, bias=True)\n",
       "  (layers): ModuleList(\n",
       "    (0): Linear(in_features=100, out_features=100, bias=True)\n",
       "    (1): Linear(in_features=100, out_features=100, bias=True)\n",
       "    (2): Linear(in_features=100, out_features=100, bias=True)\n",
       "  )\n",
       "  (last_layer): Linear(in_features=100, out_features=1, bias=True)\n",
       ")>"
      ]
     },
     "execution_count": 35,
     "metadata": {},
     "output_type": "execute_result"
    }
   ],
   "source": [
    "model = MLP(n_features=300,\n",
    "            num_layers=3,\n",
    "            hidden_dim=100,\n",
    "            activation=torch.nn.functional.relu)\n",
    "model.parameters  # Explore the parameters, i.e. the trainable tensors that require a grad in this model"
   ]
  },
  {
   "cell_type": "markdown",
   "id": "a46ae783",
   "metadata": {},
   "source": [
    "# Instantiate dataset and dataloader"
   ]
  },
  {
   "cell_type": "code",
   "execution_count": 31,
   "id": "f4c96e76",
   "metadata": {
    "execution": {
     "iopub.execute_input": "2021-04-08T20:33:46.497019Z",
     "iopub.status.busy": "2021-04-08T20:33:46.496664Z",
     "iopub.status.idle": "2021-04-08T20:33:47.181787Z",
     "shell.execute_reply": "2021-04-08T20:33:47.181286Z",
     "shell.execute_reply.started": "2021-04-08T20:33:46.496974Z"
    }
   },
   "outputs": [],
   "source": [
    "train_dataset = WiCDataset(train_path)"
   ]
  },
  {
   "cell_type": "code",
   "execution_count": 32,
   "id": "e44d752a",
   "metadata": {
    "execution": {
     "iopub.execute_input": "2021-04-08T20:33:48.915056Z",
     "iopub.status.busy": "2021-04-08T20:33:48.914848Z",
     "iopub.status.idle": "2021-04-08T20:33:48.918288Z",
     "shell.execute_reply": "2021-04-08T20:33:48.917668Z",
     "shell.execute_reply.started": "2021-04-08T20:33:48.915037Z"
    },
    "tags": []
   },
   "outputs": [],
   "source": [
    "train_loader = torch.utils.data.DataLoader(train_dataset, batch_size=16, shuffle=True)"
   ]
  },
  {
   "cell_type": "markdown",
   "id": "da36b517",
   "metadata": {},
   "source": [
    "## Test model"
   ]
  },
  {
   "cell_type": "code",
   "execution_count": 33,
   "id": "b2312799",
   "metadata": {
    "execution": {
     "iopub.execute_input": "2021-04-08T20:33:51.238591Z",
     "iopub.status.busy": "2021-04-08T20:33:51.238110Z",
     "iopub.status.idle": "2021-04-08T20:33:51.245204Z",
     "shell.execute_reply": "2021-04-08T20:33:51.244000Z",
     "shell.execute_reply.started": "2021-04-08T20:33:51.238531Z"
    },
    "tags": []
   },
   "outputs": [],
   "source": [
    "x, y = next(iter(train_loader))"
   ]
  },
  {
   "cell_type": "code",
   "execution_count": 36,
   "id": "82c73fb1",
   "metadata": {
    "execution": {
     "iopub.execute_input": "2021-04-08T20:34:51.580362Z",
     "iopub.status.busy": "2021-04-08T20:34:51.579640Z",
     "iopub.status.idle": "2021-04-08T20:34:51.589895Z",
     "shell.execute_reply": "2021-04-08T20:34:51.589355Z",
     "shell.execute_reply.started": "2021-04-08T20:34:51.580236Z"
    },
    "tags": []
   },
   "outputs": [
    {
     "data": {
      "text/plain": [
       "(tensor([0.0918, 0.0936, 0.0903, 0.0937, 0.0951, 0.0913, 0.0925, 0.0924, 0.0902,\n",
       "         0.0936, 0.0944, 0.0937, 0.0935, 0.0925, 0.0946, 0.0908],\n",
       "        grad_fn=<SqueezeBackward1>),\n",
       " tensor([1, 0, 1, 1, 1, 1, 0, 0, 1, 1, 1, 0, 0, 0, 1, 1]))"
      ]
     },
     "execution_count": 36,
     "metadata": {},
     "output_type": "execute_result"
    }
   ],
   "source": [
    "model(x), y"
   ]
  }
 ],
 "metadata": {
  "kernelspec": {
   "display_name": "Python 3",
   "language": "python",
   "name": "python3"
  },
  "language_info": {
   "codemirror_mode": {
    "name": "ipython",
    "version": 3
   },
   "file_extension": ".py",
   "mimetype": "text/x-python",
   "name": "python",
   "nbconvert_exporter": "python",
   "pygments_lexer": "ipython3",
   "version": "3.7.10"
  }
 },
 "nbformat": 4,
 "nbformat_minor": 5
}
