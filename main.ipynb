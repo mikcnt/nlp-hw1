{
 "cells": [
  {
   "cell_type": "code",
   "execution_count": 1,
   "id": "150e13c8",
   "metadata": {
    "tags": []
   },
   "outputs": [],
   "source": [
    "import os\n",
    "import re\n",
    "import pickle\n",
    "import string\n",
    "import random\n",
    "import json\n",
    "import jsonlines\n",
    "from collections import defaultdict\n",
    "from tqdm.notebook import tqdm\n",
    "import numpy as np\n",
    "import matplotlib.pyplot as plt\n",
    "import torch\n",
    "from torch import nn\n",
    "\n",
    "from typing import *"
   ]
  },
  {
   "cell_type": "code",
   "execution_count": 2,
   "id": "08ce3e81-ff7e-4ba9-ae65-ae3d787e83e7",
   "metadata": {},
   "outputs": [
    {
     "name": "stderr",
     "output_type": "stream",
     "text": [
      "[nltk_data] Downloading package stopwords to\n",
      "[nltk_data]     /home/michele/nltk_data...\n",
      "[nltk_data]   Package stopwords is already up-to-date!\n"
     ]
    },
    {
     "data": {
      "text/plain": [
       "True"
      ]
     },
     "execution_count": 2,
     "metadata": {},
     "output_type": "execute_result"
    }
   ],
   "source": [
    "import nltk\n",
    "from nltk.corpus import stopwords\n",
    "from nltk.tokenize import word_tokenize\n",
    "\n",
    "nltk.download('stopwords')"
   ]
  },
  {
   "cell_type": "code",
   "execution_count": 23,
   "id": "846bcd54-763b-46b0-8874-d5591728b6b6",
   "metadata": {},
   "outputs": [],
   "source": [
    "def set_seeds(seed=42):\n",
    "    torch.manual_seed(42)\n",
    "    torch.cuda.manual_seed_all(42)\n",
    "    torch.backends.cudnn.deterministic = True\n",
    "    torch.backends.cudnn.benchmark = False\n",
    "    random.seed(42)"
   ]
  },
  {
   "cell_type": "markdown",
   "id": "343adcff",
   "metadata": {},
   "source": [
    "# Utils"
   ]
  },
  {
   "cell_type": "code",
   "execution_count": 3,
   "id": "4cab6d68",
   "metadata": {
    "tags": []
   },
   "outputs": [],
   "source": [
    "def save_pickle(data: dict, path: str) -> None:\n",
    "    with open(path, 'wb') as f:\n",
    "        pickle.dump(data, f, protocol=pickle.HIGHEST_PROTOCOL)\n",
    "\n",
    "def load_pickle(path: str) -> dict:\n",
    "    with open(path, 'rb') as f:\n",
    "        return pickle.load(f)"
   ]
  },
  {
   "cell_type": "code",
   "execution_count": 4,
   "id": "78e69f93",
   "metadata": {
    "tags": []
   },
   "outputs": [],
   "source": [
    "# Saving / loading models\n",
    "class Checkpoint:\n",
    "    def __init__(self, path: str, resume=False):\n",
    "        self.path = path\n",
    "        os.makedirs(path, exist_ok=True)\n",
    "        self.resume = resume\n",
    "\n",
    "    def load(self, model, optimizer, id_path=\"\"):\n",
    "        if (not self.resume) and id_path == \"\":\n",
    "            raise RuntimeError()\n",
    "        if self.resume:\n",
    "            id_path = sorted(os.listdir(self.path))[-1]\n",
    "        self.checkpoint = torch.load(\n",
    "            os.path.join(self.path, id_path), map_location=lambda storage, loc: storage\n",
    "        )\n",
    "        if self.checkpoint == None:\n",
    "            raise RuntimeError(\"Checkpoint empty.\")\n",
    "        epoch = self.checkpoint[\"epoch\"]\n",
    "        model.load_state_dict(self.checkpoint[\"model_state_dict\"])\n",
    "        optimizer.load_state_dict(self.checkpoint[\"optimizer_state_dict\"])\n",
    "        losses = self.checkpoint[\"losses\"]\n",
    "        accuracies = self.checkpoint[\"accuracies\"]\n",
    "        return (model, optimizer, epoch, losses, accuracies)\n",
    "\n",
    "    def save(self, model, optimizer, epoch, losses, accuracies):\n",
    "        model_checkpoint = {\n",
    "            \"model_state_dict\": model.state_dict(),\n",
    "            \"optimizer_state_dict\": optimizer.state_dict(),\n",
    "            \"epoch\": epoch,\n",
    "            \"losses\": losses,\n",
    "            \"accuracies\": accuracies\n",
    "        }\n",
    "        checkpoint_name = \"{}.pth\".format(str(epoch).zfill(3))\n",
    "        complete_path = os.path.join(self.path, checkpoint_name)\n",
    "        torch.save(model_checkpoint, complete_path)\n",
    "        return\n",
    "\n",
    "    def load_just_model(self, model, id_path=\"\"):\n",
    "        if self.resume:\n",
    "            id_path = sorted(os.listdir(self.path))[-1]\n",
    "        self.checkpoint = torch.load(\n",
    "            os.path.join(self.path, id_path), map_location=lambda storage, loc: storage\n",
    "        )\n",
    "        if self.checkpoint == None:\n",
    "            raise RuntimeError(\"Checkpoint empty.\")\n",
    "        model.load_state_dict(self.checkpoint[\"model_state_dict\"])\n",
    "        return model"
   ]
  },
  {
   "cell_type": "code",
   "execution_count": 5,
   "id": "b86528b2",
   "metadata": {
    "tags": []
   },
   "outputs": [],
   "source": [
    "set_stopwords = set(stopwords.words())\n",
    "\n",
    "def preprocess(sentence: str, target_word=None) -> str:\n",
    "    # lowercase sentence\n",
    "    sentence = sentence.lower()\n",
    "    # remove punctuation\n",
    "    sentence = re.sub('[^\\w\\s]', ' ', sentence)\n",
    "    # replace multiple adjacent spaces with one single space\n",
    "    sentence = re.sub(' +', ' ', sentence).strip()\n",
    "    \n",
    "    tokens = sentence.split()\n",
    "    tokens_sw = [word for word in tokens if (not word in set_stopwords or word == target_word)]\n",
    "    \n",
    "    return ' '.join(tokens_sw)"
   ]
  },
  {
   "cell_type": "code",
   "execution_count": 6,
   "id": "9c10ab60-40cc-40f2-bf87-3fa488785bd7",
   "metadata": {},
   "outputs": [],
   "source": [
    "def get_neighbourhood(tokens: List[str], target_position: int, width: int = 2) -> Tuple[List[str], int]:\n",
    "    neighbourhood = []\n",
    "    new_position = width\n",
    "    \n",
    "    for pos in range(target_position - width, target_position + width + 1):\n",
    "        if pos < 0:\n",
    "            new_position -= 1\n",
    "            continue\n",
    "        if pos >= len(tokens):\n",
    "            continue\n",
    "        neighbourhood.append(tokens[pos])\n",
    "\n",
    "    return neighbourhood, new_position"
   ]
  },
  {
   "cell_type": "code",
   "execution_count": 7,
   "id": "3c3c5e57",
   "metadata": {
    "tags": []
   },
   "outputs": [],
   "source": [
    "def embeddings_dictionary(path: str, skip_first=False) -> Dict[str, torch.Tensor]:\n",
    "    word_vectors = dict()\n",
    "    with open(path) as f:\n",
    "        for i, line in tqdm(enumerate(f)):\n",
    "            \n",
    "            if i == 0 and skip_first:\n",
    "                continue\n",
    "\n",
    "            word, *vector = line.strip().split(' ')\n",
    "            vector = torch.tensor([float(c) for c in vector])\n",
    "\n",
    "            word_vectors[word] = vector\n",
    "    return word_vectors"
   ]
  },
  {
   "cell_type": "markdown",
   "id": "ceb83b37",
   "metadata": {},
   "source": [
    "# Create word embedding with GloVe"
   ]
  },
  {
   "cell_type": "code",
   "execution_count": 8,
   "id": "9eded760",
   "metadata": {
    "tags": []
   },
   "outputs": [],
   "source": [
    "def custom_tokenizer(sentence: str, marker: str) -> List[str]:\n",
    "    tokens = sentence.split()\n",
    "    for i, tk in enumerate(tokens):\n",
    "        if marker in tk:\n",
    "            target_position = i\n",
    "            tokens[i] = tk[20:]\n",
    "    return tokens, target_position"
   ]
  },
  {
   "cell_type": "code",
   "execution_count": 9,
   "id": "c335989e",
   "metadata": {
    "tags": []
   },
   "outputs": [],
   "source": [
    "class TokensEmbedder(object):\n",
    "    def __init__(self, word_vectors: Dict[str, torch.Tensor]) -> None:\n",
    "        self.word_vectors = word_vectors\n",
    "    \n",
    "    def compute_embeddings(self, tokens: List[str]) -> List[torch.Tensor]:\n",
    "        word_embeddings = []\n",
    "        for w in tokens:\n",
    "            word_embeddings.append(self.word_vectors[w] if w in self.word_vectors else self.word_vectors['<unk>'])\n",
    "        \n",
    "        return word_embeddings\n",
    "    \n",
    "    def aggregate_embeddings(self, tokens: List[str], target_position: int) -> torch.Tensor:\n",
    "        pass\n",
    "    \n",
    "    def __call__(self, tokens: List[str], target_position: int) -> torch.Tensor:\n",
    "        return self.aggregate_embeddings(tokens, target_position)\n",
    "\n",
    "class AverageEmbedder(TokensEmbedder):\n",
    "    def __init__(self, word_vectors: Dict[str, torch.Tensor]) -> None:\n",
    "        self.word_vectors = word_vectors\n",
    "    \n",
    "    def aggregate_embeddings(self, tokens: List[str], target_position: int) -> torch.Tensor:\n",
    "        embeddings = torch.stack(self.compute_embeddings(tokens))\n",
    "        return torch.mean(embeddings, dim=0)\n",
    "\n",
    "class WeightedAverageEmbedder(TokensEmbedder):\n",
    "    def __init__(self, word_vectors: Dict[str, torch.Tensor], max_weight: float = 1.0, min_weight: float = 0.0) -> None:\n",
    "        self.word_vectors = word_vectors\n",
    "        self.max_weight = max_weight\n",
    "        self.min_weight = min_weight\n",
    "    \n",
    "    def aggregate_embeddings(self, tokens: List[str], target_position: int) -> torch.Tensor:\n",
    "        embeddings = torch.stack(self.compute_embeddings(tokens))\n",
    "        # aliases for readibility\n",
    "        n = len(embeddings)\n",
    "        t = target_position\n",
    "\n",
    "        # weights from 1 to 0\n",
    "        weights = torch.linspace(self.max_weight, self.min_weight, n).unsqueeze(1)\n",
    "        # weights = torch.exp(reversed(torch.arange(n, dtype=torch.float32))).unsqueeze(1)\n",
    "\n",
    "        # weighted vector\n",
    "        new_vectors = embeddings\n",
    "\n",
    "        # weighted average\n",
    "\n",
    "        # right of the target word\n",
    "        new_vectors[t:] = new_vectors[t:] * weights[:n - t]\n",
    "        # left of the target word\n",
    "        new_vectors[:t] = new_vectors[:t] * reversed(weights[1:t + 1])\n",
    "\n",
    "        # denominator (sum of the weights)\n",
    "        weights_sum = weights[:n - t].sum() + weights[1:t + 1].sum()\n",
    "\n",
    "        return new_vectors.sum(dim=0) / weights_sum"
   ]
  },
  {
   "cell_type": "code",
   "execution_count": 10,
   "id": "aae8e0b4-4162-4ba4-b322-384393242373",
   "metadata": {},
   "outputs": [
    {
     "data": {
      "application/vnd.jupyter.widget-view+json": {
       "model_id": "4cb30978c4b448eca0ea1b28436697b8",
       "version_major": 2,
       "version_minor": 0
      },
      "text/plain": [
       "0it [00:00, ?it/s]"
      ]
     },
     "metadata": {},
     "output_type": "display_data"
    }
   ],
   "source": [
    "embedding_path = 'embeddings/glove.6B.300d.txt'\n",
    "# embedding_path = 'embeddings/GoogleNews-vectors-negative300.txt'\n",
    "\n",
    "word_vectors = embeddings_dictionary(embedding_path, skip_first=False)\n",
    "\n",
    "# <unk> token\n",
    "# https://stackoverflow.com/questions/49239941/what-is-unk-in-the-pretrained-glove-vector-files-e-g-glove-6b-50d-txt\n",
    "# unk_embedding = '0.22418134 -0.28881392 0.13854356 0.00365387 -0.12870757 0.10243822 0.061626635 0.07318011 -0.061350107 -1.3477012 0.42037755 -0.063593924 -0.09683349 0.18086134 0.23704372 0.014126852 0.170096 -1.1491593 0.31497982 0.06622181 0.024687296 0.076693475 0.13851812 0.021302193 -0.06640582 -0.010336159 0.13523154 -0.042144544 -0.11938788 0.006948221 0.13333307 -0.18276379 0.052385733 0.008943111 -0.23957317 0.08500333 -0.006894406 0.0015864656 0.063391194 0.19177166 -0.13113557 -0.11295479 -0.14276934 0.03413971 -0.034278486 -0.051366422 0.18891625 -0.16673574 -0.057783455 0.036823478 0.08078679 0.022949161 0.033298038 0.011784158 0.05643189 -0.042776518 0.011959623 0.011552498 -0.0007971594 0.11300405 -0.031369694 -0.0061559738 -0.009043574 -0.415336 -0.18870236 0.13708843 0.005911723 -0.113035575 -0.030096142 -0.23908928 -0.05354085 -0.044904727 -0.20228513 0.0065645403 -0.09578946 -0.07391877 -0.06487607 0.111740574 -0.048649278 -0.16565254 -0.052037314 -0.078968436 0.13684988 0.0757494 -0.006275573 0.28693774 0.52017444 -0.0877165 -0.33010918 -0.1359622 0.114895485 -0.09744406 0.06269521 0.12118575 -0.08026362 0.35256687 -0.060017522 -0.04889904 -0.06828978 0.088740796 0.003964443 -0.0766291 0.1263925 0.07809314 -0.023164088 -0.5680669 -0.037892066 -0.1350967 -0.11351585 -0.111434504 -0.0905027 0.25174105 -0.14841858 0.034635577 -0.07334565 0.06320108 -0.038343467 -0.05413284 0.042197507 -0.090380974 -0.070528865 -0.009174437 0.009069661 0.1405178 0.02958134 -0.036431845 -0.08625681 0.042951006 0.08230793 0.0903314 -0.12279937 -0.013899368 0.048119213 0.08678239 -0.14450377 -0.04424887 0.018319942 0.015026873 -0.100526 0.06021201 0.74059093 -0.0016333034 -0.24960588 -0.023739101 0.016396184 0.11928964 0.13950661 -0.031624354 -0.01645025 0.14079992 -0.0002824564 -0.08052984 -0.0021310581 -0.025350995 0.086938225 0.14308536 0.17146006 -0.13943303 0.048792403 0.09274929 -0.053167373 0.031103406 0.012354865 0.21057427 0.32618305 0.18015954 -0.15881181 0.15322933 -0.22558987 -0.04200665 0.0084689725 0.038156632 0.15188617 0.13274793 0.113756925 -0.095273495 -0.049490947 -0.10265804 -0.27064866 -0.034567792 -0.018810693 -0.0010360252 0.10340131 0.13883452 0.21131058 -0.01981019 0.1833468 -0.10751636 -0.03128868 0.02518242 0.23232952 0.042052146 0.11731903 -0.15506615 0.0063580726 -0.15429358 0.1511722 0.12745973 0.2576985 -0.25486213 -0.0709463 0.17983761 0.054027 -0.09884228 -0.24595179 -0.093028545 -0.028203879 0.094398156 0.09233813 0.029291354 0.13110267 0.15682974 -0.016919162 0.23927948 -0.1343307 -0.22422817 0.14634751 -0.064993896 0.4703685 -0.027190214 0.06224946 -0.091360025 0.21490277 -0.19562101 -0.10032754 -0.09056772 -0.06203493 -0.18876675 -0.10963594 -0.27734384 0.12616494 -0.02217992 -0.16058226 -0.080475815 0.026953284 0.110732645 0.014894041 0.09416802 0.14299914 -0.1594008 -0.066080004 -0.007995227 -0.11668856 -0.13081996 -0.09237365 0.14741232 0.09180138 0.081735 0.3211204 -0.0036552632 -0.047030564 -0.02311798 0.048961394 0.08669574 -0.06766279 -0.50028914 -0.048515294 0.14144728 -0.032994404 -0.11954345 -0.14929578 -0.2388355 -0.019883996 -0.15917352 -0.052084364 0.2801028 -0.0029121689 -0.054581646 -0.47385484 0.17112483 -0.12066923 -0.042173345 0.1395337 0.26115036 0.012869649 0.009291686 -0.0026459037 -0.075331464 0.017840583 -0.26869613 -0.21820338 -0.17084768 -0.1022808 -0.055290595 0.13513643 0.12362477 -0.10980586 0.13980341 -0.20233242 0.08813751 0.3849736 -0.10653763 -0.06199595 0.028849555 0.03230154 0.023856193 0.069950655 0.19310954 -0.077677034 -0.144811'\n",
    "# unk_embedding = unk_embedding.strip().split()\n",
    "# word_vectors['<unk>'] = torch.tensor([float(c) for c in unk_embedding])\n",
    "word_vectors['<unk>'] = torch.rand(300)"
   ]
  },
  {
   "cell_type": "code",
   "execution_count": 10,
   "id": "16f2da44",
   "metadata": {
    "tags": []
   },
   "outputs": [],
   "source": [
    "# save_pickle(word_vectors, 'embeddings/vocabulary_tensors.pkl')"
   ]
  },
  {
   "cell_type": "markdown",
   "id": "c08aaac3",
   "metadata": {},
   "source": [
    "# Dataset class using GloVe"
   ]
  },
  {
   "cell_type": "code",
   "execution_count": 14,
   "id": "50b29d47",
   "metadata": {
    "tags": []
   },
   "outputs": [],
   "source": [
    "class EmbeddedDataset(torch.utils.data.Dataset):\n",
    "    def __init__(self, dataset_path: str, marker: str, embedder: TokensEmbedder, neigh_width: Optional[int] = None) -> None:\n",
    "        self.data = []\n",
    "        self.marker = marker\n",
    "        self.embedder = embedder\n",
    "        self.neigh_width = neigh_width\n",
    "\n",
    "        self.create_dataset(dataset_path)\n",
    "        \n",
    "    \n",
    "    def create_dataset(self, dataset_path: str) -> None:\n",
    "        with jsonlines.open(dataset_path, 'r') as f:\n",
    "            for i, line in enumerate(f.iter()):\n",
    "                # load sentences\n",
    "                start1 = int(line['start1'])\n",
    "                start2 = int(line['start2'])\n",
    "                s1 = line['sentence1']\n",
    "                s2 = line['sentence2']\n",
    "                # insert special characters to locate target word after preprocessing\n",
    "                s1 = s1[:start1] + self.marker + s1[start1:]\n",
    "                s2 = s2[:start2] + self.marker + s2[start2:]\n",
    "                \n",
    "                # preprocessing\n",
    "                s1 = preprocess(s1)\n",
    "                s2 = preprocess(s2)\n",
    "                \n",
    "                # tokenization\n",
    "                t1, target_position1 = custom_tokenizer(s1, self.marker)\n",
    "                t2, target_position2 = custom_tokenizer(s2, self.marker)\n",
    "                \n",
    "                # if specified, get neighbourhood of target words\n",
    "                # and recompute target position\n",
    "                if self.neigh_width:\n",
    "                    t1, target_position1 = get_neighbourhood(t1, target_position1, self.neigh_width)\n",
    "                    t2, target_position2 = get_neighbourhood(t2, target_position2, self.neigh_width)\n",
    "                \n",
    "                # convert tokens to embeddings and aggregate\n",
    "                v1 = self.embedder(t1, target_position1)\n",
    "                v2 = self.embedder(t2, target_position2)\n",
    "                \n",
    "                # concatenate vectors\n",
    "                sentence_vector = torch.cat((v1, v2))\n",
    "                \n",
    "                label = torch.tensor(1, dtype=torch.float32) if line['label'] == 'True' else torch.tensor(0, dtype=torch.float32)\n",
    "                self.data.append((sentence_vector, label))\n",
    "\n",
    "\n",
    "    def __len__(self) -> int:\n",
    "        return len(self.data)\n",
    "\n",
    "    def __getitem__(self, idx: int) -> torch.Tensor:\n",
    "        return self.data[idx]"
   ]
  },
  {
   "cell_type": "markdown",
   "id": "57b3f395",
   "metadata": {},
   "source": [
    "# Model Class"
   ]
  },
  {
   "cell_type": "code",
   "execution_count": 15,
   "id": "b9fad87f",
   "metadata": {
    "tags": []
   },
   "outputs": [],
   "source": [
    "class MLP(nn.Module):\n",
    "    def __init__(\n",
    "        self,\n",
    "        n_features: int,\n",
    "        num_layers: int,\n",
    "        hidden_dim: int,\n",
    "        activation: Callable[[torch.Tensor], torch.Tensor],\n",
    "    ) -> None:\n",
    "        super().__init__()\n",
    "\n",
    "        self.first_layer = nn.Linear(in_features=n_features, out_features=hidden_dim)\n",
    "\n",
    "        self.layers = (\n",
    "            nn.ModuleList()\n",
    "        )\n",
    "\n",
    "        for i in range(num_layers):\n",
    "            self.layers.append(\n",
    "                nn.Linear(in_features=hidden_dim, out_features=hidden_dim)\n",
    "            )\n",
    "            \n",
    "        self.activation = activation\n",
    "        self.dropout = nn.Dropout(0.5)\n",
    "        \n",
    "        self.last_layer = nn.Linear(in_features=hidden_dim, out_features=1)\n",
    "        \n",
    "        self.sigmoid = nn.Sigmoid()\n",
    "        \n",
    "\n",
    "    def forward(self, x: torch.Tensor) -> torch.Tensor:\n",
    "        out = x\n",
    "\n",
    "        out = self.first_layer(\n",
    "            out\n",
    "        )  # First linear layer, transforms the hidden dimensions from `n_features` (embedding dimension) to `hidden_dim`\n",
    "        for layer in self.layers:  # Apply `k` (linear, activation) layer\n",
    "            out = layer(out)\n",
    "            out = self.activation(out)\n",
    "            out = self.dropout(out)\n",
    "        out = self.last_layer(\n",
    "            out\n",
    "        )  # Last linear layer to bring the `hiddem_dim` features to a binary space (`True`/`False`)\n",
    "        \n",
    "        out = self.sigmoid(out)\n",
    "        return out.squeeze(-1)\n"
   ]
  },
  {
   "cell_type": "markdown",
   "id": "244db1e5",
   "metadata": {},
   "source": [
    "# Training process"
   ]
  },
  {
   "cell_type": "code",
   "execution_count": 16,
   "id": "662ad2b5-21a1-41d1-94a5-f4da1f34871b",
   "metadata": {},
   "outputs": [],
   "source": [
    "def batch_to_device(batch: List[torch.Tensor], device: str) -> List[torch.Tensor]:\n",
    "    return [x.to(device) for x in batch]\n",
    "\n",
    "def fit(\n",
    "    epochs: int,\n",
    "    model: nn.Module,\n",
    "    criterion: nn.Module,\n",
    "    opt: torch.optim.Optimizer,\n",
    "    train_dl: torch.utils.data.DataLoader,\n",
    "    valid_dl: torch.utils.data.DataLoader,\n",
    "    scheduler: Optional[torch.optim.lr_scheduler._LRScheduler] = None,\n",
    "    checkpoint: Optional[Checkpoint] = None,\n",
    "    verbose: int = 2,\n",
    ") -> None:\n",
    "\n",
    "    # keep track of losses and accuracies\n",
    "    losses = {\"train\": [], \"val\": []}\n",
    "    accuracies = {\"train\": [], \"val\": []}\n",
    "    \n",
    "    if verbose > 0:\n",
    "        print(\"Starting training.\")\n",
    "\n",
    "    # training loop\n",
    "    for epoch in range(1, epochs + 1):\n",
    "        # instantiate loss and accuracy each epoch\n",
    "        losses_train = 0\n",
    "        d_train, n_train = 0, 0\n",
    "\n",
    "        model.train()\n",
    "        train_iterator = tqdm(\n",
    "            train_dl, desc=f\"Epoch {epoch}/{epochs} (TRAIN)\", leave=False\n",
    "        ) if verbose > 1 else train_dl\n",
    "        for batch in train_iterator:\n",
    "            # send batch to device\n",
    "            batch = batch_to_device(batch, device)\n",
    "            batch_x = batch[:-1]\n",
    "            batch_y = batch[-1]\n",
    "\n",
    "            pred = model(*batch_x)\n",
    "\n",
    "            # compute loss and backprop\n",
    "            loss_train = criterion(pred, batch_y)\n",
    "            loss_train.backward()\n",
    "            opt.step()\n",
    "            opt.zero_grad()\n",
    "            losses_train += loss_train.item()\n",
    "\n",
    "            pred = torch.round(pred)\n",
    "            # number of predictions\n",
    "            d_train += pred.shape[0]\n",
    "            # number of correct predictions\n",
    "            n_train += (batch_y == pred).int().sum().item()\n",
    "\n",
    "        model.eval()\n",
    "        with torch.no_grad():\n",
    "            losses_val = 0\n",
    "            d_val, n_val = 0, 0\n",
    "\n",
    "            valid_iterator = tqdm(\n",
    "                valid_dl, desc=f\"Epoch {epoch}/{epochs} (VALID)\", leave=False\n",
    "            ) if verbose > 1 else valid_dl\n",
    "            for batch in valid_iterator:\n",
    "                # send batch to device\n",
    "                batch = batch_to_device(batch, device)\n",
    "                batch_x = batch[:-1]\n",
    "                batch_y = batch[-1]\n",
    "\n",
    "                # compute predictions\n",
    "                pred_val = model(*batch_x)\n",
    "\n",
    "                # compute loss (validation step => no backprop)\n",
    "                loss_val = criterion(pred_val, batch_y)\n",
    "                losses_val += loss_val.item()\n",
    "\n",
    "                pred_val = torch.round(pred_val)\n",
    "                # number of predictions\n",
    "                d_val += pred_val.shape[0]\n",
    "                # number of correct predictions\n",
    "                n_val += (batch_y == pred_val).int().sum().item()\n",
    "\n",
    "        # compute accuracy (train + val)\n",
    "        loss_train = losses_train / d_train\n",
    "        loss_val = losses_val / d_val\n",
    "\n",
    "        acc_train = n_train / d_train\n",
    "        acc_val = n_val / d_val\n",
    "\n",
    "        # log losses and accuracies\n",
    "        losses[\"train\"].append(loss_train)\n",
    "        losses[\"val\"].append(loss_val)\n",
    "\n",
    "        accuracies[\"train\"].append(acc_train)\n",
    "        accuracies[\"val\"].append(acc_val)\n",
    "    \n",
    "        if scheduler:\n",
    "            scheduler.step()\n",
    "        \n",
    "        # store checkpoint\n",
    "        if checkpoint:\n",
    "            checkpoint.save(model, opt, epoch, losses, accuracies)\n",
    "        \n",
    "        if verbose > 1:\n",
    "            print(\n",
    "                f\"Epoch {epoch} \\t T. Loss = {loss_train:.4f}, V. Loss = {loss_val:.4f}, T. Accuracy {acc_train:.3f}, V. Accuracy {acc_val:.3f}.\"\n",
    "            )\n",
    "    \n",
    "    if verbose > 0:\n",
    "        print(\"Training finished.\")\n",
    "    return losses, accuracies"
   ]
  },
  {
   "cell_type": "code",
   "execution_count": 33,
   "id": "b843c3b7",
   "metadata": {
    "tags": []
   },
   "outputs": [
    {
     "name": "stdout",
     "output_type": "stream",
     "text": [
      "Starting training.\n"
     ]
    },
    {
     "data": {
      "application/vnd.jupyter.widget-view+json": {
       "model_id": "",
       "version_major": 2,
       "version_minor": 0
      },
      "text/plain": [
       "Epoch 1/15 (TRAIN):   0%|          | 0/63 [00:00<?, ?it/s]"
      ]
     },
     "metadata": {},
     "output_type": "display_data"
    },
    {
     "data": {
      "application/vnd.jupyter.widget-view+json": {
       "model_id": "",
       "version_major": 2,
       "version_minor": 0
      },
      "text/plain": [
       "Epoch 1/15 (VALID):   0%|          | 0/8 [00:00<?, ?it/s]"
      ]
     },
     "metadata": {},
     "output_type": "display_data"
    },
    {
     "name": "stdout",
     "output_type": "stream",
     "text": [
      "Epoch 1 \t T. Loss = 0.0055, V. Loss = 0.0055, T. Accuracy 0.509, V. Accuracy 0.563.\n"
     ]
    },
    {
     "data": {
      "application/vnd.jupyter.widget-view+json": {
       "model_id": "",
       "version_major": 2,
       "version_minor": 0
      },
      "text/plain": [
       "Epoch 2/15 (TRAIN):   0%|          | 0/63 [00:00<?, ?it/s]"
      ]
     },
     "metadata": {},
     "output_type": "display_data"
    },
    {
     "data": {
      "application/vnd.jupyter.widget-view+json": {
       "model_id": "",
       "version_major": 2,
       "version_minor": 0
      },
      "text/plain": [
       "Epoch 2/15 (VALID):   0%|          | 0/8 [00:00<?, ?it/s]"
      ]
     },
     "metadata": {},
     "output_type": "display_data"
    },
    {
     "name": "stdout",
     "output_type": "stream",
     "text": [
      "Epoch 2 \t T. Loss = 0.0054, V. Loss = 0.0054, T. Accuracy 0.544, V. Accuracy 0.583.\n"
     ]
    },
    {
     "data": {
      "application/vnd.jupyter.widget-view+json": {
       "model_id": "",
       "version_major": 2,
       "version_minor": 0
      },
      "text/plain": [
       "Epoch 3/15 (TRAIN):   0%|          | 0/63 [00:00<?, ?it/s]"
      ]
     },
     "metadata": {},
     "output_type": "display_data"
    },
    {
     "data": {
      "application/vnd.jupyter.widget-view+json": {
       "model_id": "",
       "version_major": 2,
       "version_minor": 0
      },
      "text/plain": [
       "Epoch 3/15 (VALID):   0%|          | 0/8 [00:00<?, ?it/s]"
      ]
     },
     "metadata": {},
     "output_type": "display_data"
    },
    {
     "name": "stdout",
     "output_type": "stream",
     "text": [
      "Epoch 3 \t T. Loss = 0.0052, V. Loss = 0.0052, T. Accuracy 0.596, V. Accuracy 0.625.\n"
     ]
    },
    {
     "data": {
      "application/vnd.jupyter.widget-view+json": {
       "model_id": "",
       "version_major": 2,
       "version_minor": 0
      },
      "text/plain": [
       "Epoch 4/15 (TRAIN):   0%|          | 0/63 [00:00<?, ?it/s]"
      ]
     },
     "metadata": {},
     "output_type": "display_data"
    },
    {
     "data": {
      "application/vnd.jupyter.widget-view+json": {
       "model_id": "",
       "version_major": 2,
       "version_minor": 0
      },
      "text/plain": [
       "Epoch 4/15 (VALID):   0%|          | 0/8 [00:00<?, ?it/s]"
      ]
     },
     "metadata": {},
     "output_type": "display_data"
    },
    {
     "name": "stdout",
     "output_type": "stream",
     "text": [
      "Epoch 4 \t T. Loss = 0.0049, V. Loss = 0.0050, T. Accuracy 0.656, V. Accuracy 0.637.\n"
     ]
    },
    {
     "data": {
      "application/vnd.jupyter.widget-view+json": {
       "model_id": "",
       "version_major": 2,
       "version_minor": 0
      },
      "text/plain": [
       "Epoch 5/15 (TRAIN):   0%|          | 0/63 [00:00<?, ?it/s]"
      ]
     },
     "metadata": {},
     "output_type": "display_data"
    },
    {
     "data": {
      "application/vnd.jupyter.widget-view+json": {
       "model_id": "",
       "version_major": 2,
       "version_minor": 0
      },
      "text/plain": [
       "Epoch 5/15 (VALID):   0%|          | 0/8 [00:00<?, ?it/s]"
      ]
     },
     "metadata": {},
     "output_type": "display_data"
    },
    {
     "name": "stdout",
     "output_type": "stream",
     "text": [
      "Epoch 5 \t T. Loss = 0.0045, V. Loss = 0.0050, T. Accuracy 0.703, V. Accuracy 0.663.\n"
     ]
    },
    {
     "data": {
      "application/vnd.jupyter.widget-view+json": {
       "model_id": "",
       "version_major": 2,
       "version_minor": 0
      },
      "text/plain": [
       "Epoch 6/15 (TRAIN):   0%|          | 0/63 [00:00<?, ?it/s]"
      ]
     },
     "metadata": {},
     "output_type": "display_data"
    },
    {
     "data": {
      "application/vnd.jupyter.widget-view+json": {
       "model_id": "",
       "version_major": 2,
       "version_minor": 0
      },
      "text/plain": [
       "Epoch 6/15 (VALID):   0%|          | 0/8 [00:00<?, ?it/s]"
      ]
     },
     "metadata": {},
     "output_type": "display_data"
    },
    {
     "name": "stdout",
     "output_type": "stream",
     "text": [
      "Epoch 6 \t T. Loss = 0.0040, V. Loss = 0.0051, T. Accuracy 0.759, V. Accuracy 0.666.\n"
     ]
    },
    {
     "data": {
      "application/vnd.jupyter.widget-view+json": {
       "model_id": "",
       "version_major": 2,
       "version_minor": 0
      },
      "text/plain": [
       "Epoch 7/15 (TRAIN):   0%|          | 0/63 [00:00<?, ?it/s]"
      ]
     },
     "metadata": {},
     "output_type": "display_data"
    },
    {
     "data": {
      "application/vnd.jupyter.widget-view+json": {
       "model_id": "",
       "version_major": 2,
       "version_minor": 0
      },
      "text/plain": [
       "Epoch 7/15 (VALID):   0%|          | 0/8 [00:00<?, ?it/s]"
      ]
     },
     "metadata": {},
     "output_type": "display_data"
    },
    {
     "name": "stdout",
     "output_type": "stream",
     "text": [
      "Epoch 7 \t T. Loss = 0.0034, V. Loss = 0.0056, T. Accuracy 0.806, V. Accuracy 0.649.\n"
     ]
    },
    {
     "data": {
      "application/vnd.jupyter.widget-view+json": {
       "model_id": "",
       "version_major": 2,
       "version_minor": 0
      },
      "text/plain": [
       "Epoch 8/15 (TRAIN):   0%|          | 0/63 [00:00<?, ?it/s]"
      ]
     },
     "metadata": {},
     "output_type": "display_data"
    },
    {
     "data": {
      "application/vnd.jupyter.widget-view+json": {
       "model_id": "",
       "version_major": 2,
       "version_minor": 0
      },
      "text/plain": [
       "Epoch 8/15 (VALID):   0%|          | 0/8 [00:00<?, ?it/s]"
      ]
     },
     "metadata": {},
     "output_type": "display_data"
    },
    {
     "name": "stdout",
     "output_type": "stream",
     "text": [
      "Epoch 8 \t T. Loss = 0.0028, V. Loss = 0.0059, T. Accuracy 0.852, V. Accuracy 0.656.\n"
     ]
    },
    {
     "data": {
      "application/vnd.jupyter.widget-view+json": {
       "model_id": "",
       "version_major": 2,
       "version_minor": 0
      },
      "text/plain": [
       "Epoch 9/15 (TRAIN):   0%|          | 0/63 [00:00<?, ?it/s]"
      ]
     },
     "metadata": {},
     "output_type": "display_data"
    },
    {
     "data": {
      "application/vnd.jupyter.widget-view+json": {
       "model_id": "",
       "version_major": 2,
       "version_minor": 0
      },
      "text/plain": [
       "Epoch 9/15 (VALID):   0%|          | 0/8 [00:00<?, ?it/s]"
      ]
     },
     "metadata": {},
     "output_type": "display_data"
    },
    {
     "name": "stdout",
     "output_type": "stream",
     "text": [
      "Epoch 9 \t T. Loss = 0.0022, V. Loss = 0.0065, T. Accuracy 0.883, V. Accuracy 0.652.\n"
     ]
    },
    {
     "data": {
      "application/vnd.jupyter.widget-view+json": {
       "model_id": "",
       "version_major": 2,
       "version_minor": 0
      },
      "text/plain": [
       "Epoch 10/15 (TRAIN):   0%|          | 0/63 [00:00<?, ?it/s]"
      ]
     },
     "metadata": {},
     "output_type": "display_data"
    },
    {
     "data": {
      "application/vnd.jupyter.widget-view+json": {
       "model_id": "",
       "version_major": 2,
       "version_minor": 0
      },
      "text/plain": [
       "Epoch 10/15 (VALID):   0%|          | 0/8 [00:00<?, ?it/s]"
      ]
     },
     "metadata": {},
     "output_type": "display_data"
    },
    {
     "name": "stdout",
     "output_type": "stream",
     "text": [
      "Epoch 10 \t T. Loss = 0.0016, V. Loss = 0.0075, T. Accuracy 0.918, V. Accuracy 0.652.\n"
     ]
    },
    {
     "data": {
      "application/vnd.jupyter.widget-view+json": {
       "model_id": "",
       "version_major": 2,
       "version_minor": 0
      },
      "text/plain": [
       "Epoch 11/15 (TRAIN):   0%|          | 0/63 [00:00<?, ?it/s]"
      ]
     },
     "metadata": {},
     "output_type": "display_data"
    },
    {
     "data": {
      "application/vnd.jupyter.widget-view+json": {
       "model_id": "",
       "version_major": 2,
       "version_minor": 0
      },
      "text/plain": [
       "Epoch 11/15 (VALID):   0%|          | 0/8 [00:00<?, ?it/s]"
      ]
     },
     "metadata": {},
     "output_type": "display_data"
    },
    {
     "name": "stdout",
     "output_type": "stream",
     "text": [
      "Epoch 11 \t T. Loss = 0.0014, V. Loss = 0.0078, T. Accuracy 0.931, V. Accuracy 0.673.\n"
     ]
    },
    {
     "data": {
      "application/vnd.jupyter.widget-view+json": {
       "model_id": "",
       "version_major": 2,
       "version_minor": 0
      },
      "text/plain": [
       "Epoch 12/15 (TRAIN):   0%|          | 0/63 [00:00<?, ?it/s]"
      ]
     },
     "metadata": {},
     "output_type": "display_data"
    },
    {
     "data": {
      "application/vnd.jupyter.widget-view+json": {
       "model_id": "",
       "version_major": 2,
       "version_minor": 0
      },
      "text/plain": [
       "Epoch 12/15 (VALID):   0%|          | 0/8 [00:00<?, ?it/s]"
      ]
     },
     "metadata": {},
     "output_type": "display_data"
    },
    {
     "name": "stdout",
     "output_type": "stream",
     "text": [
      "Epoch 12 \t T. Loss = 0.0010, V. Loss = 0.0095, T. Accuracy 0.956, V. Accuracy 0.649.\n"
     ]
    },
    {
     "data": {
      "application/vnd.jupyter.widget-view+json": {
       "model_id": "",
       "version_major": 2,
       "version_minor": 0
      },
      "text/plain": [
       "Epoch 13/15 (TRAIN):   0%|          | 0/63 [00:00<?, ?it/s]"
      ]
     },
     "metadata": {},
     "output_type": "display_data"
    },
    {
     "data": {
      "application/vnd.jupyter.widget-view+json": {
       "model_id": "",
       "version_major": 2,
       "version_minor": 0
      },
      "text/plain": [
       "Epoch 13/15 (VALID):   0%|          | 0/8 [00:00<?, ?it/s]"
      ]
     },
     "metadata": {},
     "output_type": "display_data"
    },
    {
     "name": "stdout",
     "output_type": "stream",
     "text": [
      "Epoch 13 \t T. Loss = 0.0008, V. Loss = 0.0093, T. Accuracy 0.964, V. Accuracy 0.677.\n"
     ]
    },
    {
     "data": {
      "application/vnd.jupyter.widget-view+json": {
       "model_id": "",
       "version_major": 2,
       "version_minor": 0
      },
      "text/plain": [
       "Epoch 14/15 (TRAIN):   0%|          | 0/63 [00:00<?, ?it/s]"
      ]
     },
     "metadata": {},
     "output_type": "display_data"
    },
    {
     "data": {
      "application/vnd.jupyter.widget-view+json": {
       "model_id": "",
       "version_major": 2,
       "version_minor": 0
      },
      "text/plain": [
       "Epoch 14/15 (VALID):   0%|          | 0/8 [00:00<?, ?it/s]"
      ]
     },
     "metadata": {},
     "output_type": "display_data"
    },
    {
     "name": "stdout",
     "output_type": "stream",
     "text": [
      "Epoch 14 \t T. Loss = 0.0007, V. Loss = 0.0105, T. Accuracy 0.970, V. Accuracy 0.655.\n"
     ]
    },
    {
     "data": {
      "application/vnd.jupyter.widget-view+json": {
       "model_id": "",
       "version_major": 2,
       "version_minor": 0
      },
      "text/plain": [
       "Epoch 15/15 (TRAIN):   0%|          | 0/63 [00:00<?, ?it/s]"
      ]
     },
     "metadata": {},
     "output_type": "display_data"
    },
    {
     "data": {
      "application/vnd.jupyter.widget-view+json": {
       "model_id": "",
       "version_major": 2,
       "version_minor": 0
      },
      "text/plain": [
       "Epoch 15/15 (VALID):   0%|          | 0/8 [00:00<?, ?it/s]"
      ]
     },
     "metadata": {},
     "output_type": "display_data"
    },
    {
     "name": "stdout",
     "output_type": "stream",
     "text": [
      "Epoch 15 \t T. Loss = 0.0005, V. Loss = 0.0115, T. Accuracy 0.976, V. Accuracy 0.651.\n",
      "Training finished.\n"
     ]
    }
   ],
   "source": [
    "train_path = 'data/train.jsonl'\n",
    "dev_path = 'data/dev.jsonl'\n",
    "\n",
    "random.seed(42)\n",
    "marker = ''.join(random.choices(string.ascii_lowercase, k=20))\n",
    "\n",
    "embedder = WeightedAverageEmbedder(word_vectors, 1, 0)\n",
    "# embedder = AverageEmbedder(word_vectors)\n",
    "\n",
    "train_dataset = EmbeddedDataset(train_path, marker, embedder, None)\n",
    "val_dataset = EmbeddedDataset(dev_path, marker, embedder, None)\n",
    "\n",
    "train_loader = torch.utils.data.DataLoader(train_dataset, batch_size=128, shuffle=True)\n",
    "val_loader = torch.utils.data.DataLoader(val_dataset, batch_size=128, shuffle=False)\n",
    "\n",
    "device = 'cuda' if torch.cuda.is_available() else 'cpu'\n",
    "criterion = nn.BCELoss()\n",
    "\n",
    "model = MLP(n_features=600,\n",
    "            num_layers=3, \n",
    "            hidden_dim=2048, \n",
    "            activation=torch.nn.functional.relu).to(device)\n",
    "\n",
    "optimizer = torch.optim.Adam(model.parameters(), lr=0.0001, weight_decay=0.00000)\n",
    "\n",
    "checkpoint = Checkpoint(path='checkpoints/mlp')\n",
    "\n",
    "epochs = 15\n",
    "\n",
    "\n",
    "set_seeds()\n",
    "losses, accuracies = fit(epochs, model, criterion, optimizer, train_loader, val_loader, checkpoint=None)"
   ]
  },
  {
   "cell_type": "code",
   "execution_count": 137,
   "id": "40063a6a-4009-4968-9165-6b6c0c160946",
   "metadata": {},
   "outputs": [
    {
     "data": {
      "text/plain": [
       "[<matplotlib.lines.Line2D at 0x7fe28c8ae6d0>]"
      ]
     },
     "execution_count": 137,
     "metadata": {},
     "output_type": "execute_result"
    },
    {
     "data": {
      "image/png": "[encoded data removed]",
      "text/plain": [
       "<Figure size 432x288 with 1 Axes>"
      ]
     },
     "metadata": {
      "needs_background": "light"
     },
     "output_type": "display_data"
    }
   ],
   "source": [
    "plt.plot(losses['val'])\n",
    "plt.plot(losses['train'])"
   ]
  },
  {
   "cell_type": "markdown",
   "id": "d4dda9b2-f257-429c-9d8a-39418ddeda39",
   "metadata": {},
   "source": [
    "# Reccurent Neural Networks"
   ]
  },
  {
   "cell_type": "code",
   "execution_count": 34,
   "id": "5f4a58ef-bf08-4ed0-b292-52acd6ae93f1",
   "metadata": {},
   "outputs": [],
   "source": [
    "def index_dictionary(word_vectors):\n",
    "    word_index = dict()\n",
    "    vectors_store = []\n",
    "\n",
    "    # pad token, index = 0\n",
    "    vectors_store.append(torch.rand(300))\n",
    "\n",
    "    # unk token, index = 1\n",
    "    vectors_store.append(torch.rand(300))\n",
    "\n",
    "    # save index for each word\n",
    "    for word, vector in word_vectors.items():\n",
    "        # skip unk token if present\n",
    "        if word == '<unk>':\n",
    "            continue\n",
    "        word_index[word] = len(vectors_store)\n",
    "        vectors_store.append(vector)\n",
    "\n",
    "    word_index = defaultdict(lambda: 1, word_index)  # default dict returns 1 (unk token) when unknown word\n",
    "    vectors_store = torch.stack(vectors_store)\n",
    "    return word_index, vectors_store"
   ]
  },
  {
   "cell_type": "code",
   "execution_count": 35,
   "id": "0d589283-ccb4-4ca4-bf8a-21ef709b79cb",
   "metadata": {},
   "outputs": [],
   "source": [
    "def tokens2indices(tokens: List[str]) -> torch.Tensor:\n",
    "    return torch.tensor([word_index[word] for word in tokens], dtype=torch.long)"
   ]
  },
  {
   "cell_type": "code",
   "execution_count": 36,
   "id": "9c0903a5-f013-4a60-ba7d-5307a3a98c83",
   "metadata": {},
   "outputs": [],
   "source": [
    "def rnn_collate_fn(\n",
    "    data_elements: List[Tuple[torch.Tensor, torch.Tensor, torch.Tensor]] # list of (x, y) pairs\n",
    ") -> Tuple[torch.Tensor, torch.Tensor, torch.Tensor]:\n",
    "\n",
    "    X1 = [el[0] for el in data_elements]  # list of index tensors\n",
    "    X2 = [el[1] for el in data_elements]  # list of index tensors\n",
    "\n",
    "    # sizes of the sentences\n",
    "    # to implement the many-to-one strategy\n",
    "    X1_lengths = torch.tensor([x.size(0) for x in X1], dtype=torch.long)\n",
    "    X2_lengths = torch.tensor([x.size(0) for x in X2], dtype=torch.long)\n",
    "\n",
    "    X1 = torch.nn.utils.rnn.pad_sequence(X1, batch_first=True, padding_value=0)  #  shape (batch_size x max_seq_len)\n",
    "    X2 = torch.nn.utils.rnn.pad_sequence(X2, batch_first=True, padding_value=0)  #  shape (batch_size x max_seq_len)\n",
    "\n",
    "    y = [el[2] for el in data_elements]\n",
    "    y = torch.tensor(y)\n",
    "\n",
    "    return X1, X1_lengths, X2, X2_lengths, y"
   ]
  },
  {
   "cell_type": "code",
   "execution_count": 40,
   "id": "228d28fe-2aeb-45cc-a8ae-e3481bc1bb7f",
   "metadata": {},
   "outputs": [],
   "source": [
    "class LSTMClassifier(nn.Module):\n",
    "    def __init__(\n",
    "        self,\n",
    "        vectors_store: torch.Tensor,\n",
    "        n_hidden: int\n",
    "    ) -> None:\n",
    "        super().__init__()\n",
    "\n",
    "        # embedding layer\n",
    "        self.embedding = torch.nn.Embedding.from_pretrained(vectors_store) # (batch_size * seq_length, emb_size)\n",
    "\n",
    "        # recurrent layer\n",
    "        self.rnn = torch.nn.LSTM(input_size=vectors_store.size(1), hidden_size=n_hidden,\n",
    "                                 num_layers=2, batch_first=True, bidirectional=True,\n",
    "                                 dropout=0.3,\n",
    "                                )\n",
    "\n",
    "        # classification head\n",
    "\n",
    "        self.lin1 = torch.nn.Linear(2 * (2 * n_hidden), 2 * (2 * n_hidden))\n",
    "        self.lin2 = torch.nn.Linear(2 * (2 * n_hidden), 1)\n",
    "\n",
    "        self.dropout = nn.Dropout(0.3)\n",
    "\n",
    "        self.sigmoid = nn.Sigmoid()\n",
    "\n",
    "        \n",
    "    def _compute_embedding(self, X, X_length):\n",
    "        # embedding words from indices\n",
    "        embedding_out = self.embedding(X)\n",
    "\n",
    "        # recurrent encoding\n",
    "        recurrent_out = self.rnn(embedding_out)[0]\n",
    "        # here we utilize the sequences length to retrieve the last token \n",
    "        # output for each sequence\n",
    "        batch_size, seq_len, hidden_size = recurrent_out.shape\n",
    "\n",
    "        # we flatten the recurrent output\n",
    "        # now I have a long sequence of (batch * seq_len) vectors \n",
    "        flattened_out = recurrent_out.reshape(-1, hidden_size)\n",
    "        \n",
    "        # and we use a simple trick to compute a tensor of the indices \n",
    "        # of the last token in each batch element\n",
    "        last_word_relative_indices = X_length - 1\n",
    "        # tensor of the start offsets of each element in the batch\n",
    "        sequences_offsets = torch.arange(batch_size, device=X.device) * seq_len\n",
    "        # e.g. (0, 5, 10, 15, ) + ( 3, 2, 1, 4 ) = ( 3, 7, 11, 19 )\n",
    "        summary_vectors_indices = sequences_offsets + last_word_relative_indices\n",
    "\n",
    "        # finally we retrieve the vectors that should summarize every review.\n",
    "        # (i.e. the last token in the sequence)\n",
    "        summary_vectors = flattened_out[summary_vectors_indices]\n",
    "        return summary_vectors\n",
    "    \n",
    "    \n",
    "    def forward(\n",
    "        self, \n",
    "        X1: torch.Tensor,\n",
    "        X1_length: torch.Tensor,\n",
    "        X2: torch.Tensor,\n",
    "        X2_length: torch.Tensor,\n",
    "    ) -> torch.Tensor:\n",
    "        \n",
    "        summary_vectors_1 = self._compute_embedding(X1, X1_length)\n",
    "        summary_vectors_2 = self._compute_embedding(X2, X2_length)\n",
    "        \n",
    "        summary_vectors = torch.cat((summary_vectors_1, summary_vectors_2), dim=1)\n",
    "        \n",
    "        # now we can classify the reviews with a feedforward pass on the summary\n",
    "        # vectors\n",
    "        out = self.lin1(summary_vectors)\n",
    "        out = torch.relu(out)\n",
    "        out = self.dropout(out)\n",
    "        \n",
    "        out = self.lin2(out).squeeze(1)\n",
    "        logits = out\n",
    "        pred = self.sigmoid(logits)\n",
    "\n",
    "        return pred"
   ]
  },
  {
   "cell_type": "code",
   "execution_count": 38,
   "id": "7299a486-47fc-40e1-8ca7-de9663b05557",
   "metadata": {},
   "outputs": [],
   "source": [
    "class IndicesDataset(torch.utils.data.Dataset):\n",
    "    def __init__(self, dataset_path: str, marker, neigh_width = None):\n",
    "        self.data = []\n",
    "        self.marker = marker\n",
    "        self.neigh_width = neigh_width\n",
    "\n",
    "        self.create_dataset(dataset_path)\n",
    "        \n",
    "    \n",
    "    def create_dataset(self, dataset_path: str) -> None:\n",
    "        with jsonlines.open(dataset_path, 'r') as f:\n",
    "            for i, line in enumerate(f.iter()):\n",
    "                # load sentences\n",
    "                start1 = int(line['start1'])\n",
    "                start2 = int(line['start2'])\n",
    "                end1 = int(line['end1'])\n",
    "                end2 = int(line['end2'])\n",
    "                s1 = line['sentence1']\n",
    "                s2 = line['sentence2']\n",
    "                lemma1 = s1[start1:end1]\n",
    "                lemma2 = s2[start2:end2]\n",
    "                \n",
    "                # insert special characters to locate target word after preprocessing\n",
    "                s1 = s1[:start1] + self.marker + s1[start1:]\n",
    "                s2 = s2[:start2] + self.marker + s2[start2:]\n",
    "                \n",
    "                # preprocessing\n",
    "                s1 = preprocess(s1)\n",
    "                s2 = preprocess(s2)\n",
    "                \n",
    "                # tokenization\n",
    "                t1, target_position1 = custom_tokenizer(s1, self.marker)\n",
    "                t2, target_position2 = custom_tokenizer(s2, self.marker)\n",
    "                \n",
    "                # get neighbourhood of words\n",
    "                if self.neigh_width:\n",
    "                    t1, target_position1 = get_neighbourhood(t1, target_position1, self.neigh_width)\n",
    "                    t2, target_position2 = get_neighbourhood(t2, target_position2, self.neigh_width)\n",
    "\n",
    "                # sentences to indices\n",
    "                i1 = tokens2indices(t1)\n",
    "                i2 = tokens2indices(t2)\n",
    "\n",
    "                label = torch.tensor(1, dtype=torch.float32) if line['label'] == 'True' else torch.tensor(0, dtype=torch.float32)\n",
    "                self.data.append((i1, i2, label))\n",
    "\n",
    "\n",
    "    def __len__(self) -> int:\n",
    "        return len(self.data)\n",
    "\n",
    "    def __getitem__(self, idx: int) -> torch.Tensor:\n",
    "        return self.data[idx]"
   ]
  },
  {
   "cell_type": "code",
   "execution_count": 42,
   "id": "7505040d-860a-4cb0-818d-111b43e5e549",
   "metadata": {
    "tags": []
   },
   "outputs": [
    {
     "name": "stdout",
     "output_type": "stream",
     "text": [
      "Starting training.\n"
     ]
    },
    {
     "data": {
      "application/vnd.jupyter.widget-view+json": {
       "model_id": "",
       "version_major": 2,
       "version_minor": 0
      },
      "text/plain": [
       "Epoch 1/20 (TRAIN):   0%|          | 0/250 [00:00<?, ?it/s]"
      ]
     },
     "metadata": {},
     "output_type": "display_data"
    },
    {
     "data": {
      "application/vnd.jupyter.widget-view+json": {
       "model_id": "",
       "version_major": 2,
       "version_minor": 0
      },
      "text/plain": [
       "Epoch 1/20 (VALID):   0%|          | 0/32 [00:00<?, ?it/s]"
      ]
     },
     "metadata": {},
     "output_type": "display_data"
    },
    {
     "name": "stdout",
     "output_type": "stream",
     "text": [
      "Epoch 1 \t T. Loss = 0.0217, V. Loss = 0.0221, T. Accuracy 0.504, V. Accuracy 0.545.\n"
     ]
    },
    {
     "data": {
      "application/vnd.jupyter.widget-view+json": {
       "model_id": "",
       "version_major": 2,
       "version_minor": 0
      },
      "text/plain": [
       "Epoch 2/20 (TRAIN):   0%|          | 0/250 [00:00<?, ?it/s]"
      ]
     },
     "metadata": {},
     "output_type": "display_data"
    },
    {
     "data": {
      "application/vnd.jupyter.widget-view+json": {
       "model_id": "",
       "version_major": 2,
       "version_minor": 0
      },
      "text/plain": [
       "Epoch 2/20 (VALID):   0%|          | 0/32 [00:00<?, ?it/s]"
      ]
     },
     "metadata": {},
     "output_type": "display_data"
    },
    {
     "name": "stdout",
     "output_type": "stream",
     "text": [
      "Epoch 2 \t T. Loss = 0.0216, V. Loss = 0.0216, T. Accuracy 0.535, V. Accuracy 0.607.\n"
     ]
    },
    {
     "data": {
      "application/vnd.jupyter.widget-view+json": {
       "model_id": "",
       "version_major": 2,
       "version_minor": 0
      },
      "text/plain": [
       "Epoch 3/20 (TRAIN):   0%|          | 0/250 [00:00<?, ?it/s]"
      ]
     },
     "metadata": {},
     "output_type": "display_data"
    },
    {
     "data": {
      "application/vnd.jupyter.widget-view+json": {
       "model_id": "",
       "version_major": 2,
       "version_minor": 0
      },
      "text/plain": [
       "Epoch 3/20 (VALID):   0%|          | 0/32 [00:00<?, ?it/s]"
      ]
     },
     "metadata": {},
     "output_type": "display_data"
    },
    {
     "name": "stdout",
     "output_type": "stream",
     "text": [
      "Epoch 3 \t T. Loss = 0.0205, V. Loss = 0.0206, T. Accuracy 0.602, V. Accuracy 0.630.\n"
     ]
    },
    {
     "data": {
      "application/vnd.jupyter.widget-view+json": {
       "model_id": "",
       "version_major": 2,
       "version_minor": 0
      },
      "text/plain": [
       "Epoch 4/20 (TRAIN):   0%|          | 0/250 [00:00<?, ?it/s]"
      ]
     },
     "metadata": {},
     "output_type": "display_data"
    },
    {
     "data": {
      "application/vnd.jupyter.widget-view+json": {
       "model_id": "",
       "version_major": 2,
       "version_minor": 0
      },
      "text/plain": [
       "Epoch 4/20 (VALID):   0%|          | 0/32 [00:00<?, ?it/s]"
      ]
     },
     "metadata": {},
     "output_type": "display_data"
    },
    {
     "name": "stdout",
     "output_type": "stream",
     "text": [
      "Epoch 4 \t T. Loss = 0.0198, V. Loss = 0.0202, T. Accuracy 0.635, V. Accuracy 0.648.\n"
     ]
    },
    {
     "data": {
      "application/vnd.jupyter.widget-view+json": {
       "model_id": "",
       "version_major": 2,
       "version_minor": 0
      },
      "text/plain": [
       "Epoch 5/20 (TRAIN):   0%|          | 0/250 [00:00<?, ?it/s]"
      ]
     },
     "metadata": {},
     "output_type": "display_data"
    },
    {
     "data": {
      "application/vnd.jupyter.widget-view+json": {
       "model_id": "",
       "version_major": 2,
       "version_minor": 0
      },
      "text/plain": [
       "Epoch 5/20 (VALID):   0%|          | 0/32 [00:00<?, ?it/s]"
      ]
     },
     "metadata": {},
     "output_type": "display_data"
    },
    {
     "name": "stdout",
     "output_type": "stream",
     "text": [
      "Epoch 5 \t T. Loss = 0.0191, V. Loss = 0.0208, T. Accuracy 0.654, V. Accuracy 0.629.\n"
     ]
    },
    {
     "data": {
      "application/vnd.jupyter.widget-view+json": {
       "model_id": "",
       "version_major": 2,
       "version_minor": 0
      },
      "text/plain": [
       "Epoch 6/20 (TRAIN):   0%|          | 0/250 [00:00<?, ?it/s]"
      ]
     },
     "metadata": {},
     "output_type": "display_data"
    },
    {
     "data": {
      "application/vnd.jupyter.widget-view+json": {
       "model_id": "",
       "version_major": 2,
       "version_minor": 0
      },
      "text/plain": [
       "Epoch 6/20 (VALID):   0%|          | 0/32 [00:00<?, ?it/s]"
      ]
     },
     "metadata": {},
     "output_type": "display_data"
    },
    {
     "name": "stdout",
     "output_type": "stream",
     "text": [
      "Epoch 6 \t T. Loss = 0.0186, V. Loss = 0.0210, T. Accuracy 0.669, V. Accuracy 0.622.\n"
     ]
    },
    {
     "data": {
      "application/vnd.jupyter.widget-view+json": {
       "model_id": "",
       "version_major": 2,
       "version_minor": 0
      },
      "text/plain": [
       "Epoch 7/20 (TRAIN):   0%|          | 0/250 [00:00<?, ?it/s]"
      ]
     },
     "metadata": {},
     "output_type": "display_data"
    },
    {
     "data": {
      "application/vnd.jupyter.widget-view+json": {
       "model_id": "",
       "version_major": 2,
       "version_minor": 0
      },
      "text/plain": [
       "Epoch 7/20 (VALID):   0%|          | 0/32 [00:00<?, ?it/s]"
      ]
     },
     "metadata": {},
     "output_type": "display_data"
    },
    {
     "name": "stdout",
     "output_type": "stream",
     "text": [
      "Epoch 7 \t T. Loss = 0.0180, V. Loss = 0.0217, T. Accuracy 0.691, V. Accuracy 0.610.\n"
     ]
    },
    {
     "data": {
      "application/vnd.jupyter.widget-view+json": {
       "model_id": "",
       "version_major": 2,
       "version_minor": 0
      },
      "text/plain": [
       "Epoch 8/20 (TRAIN):   0%|          | 0/250 [00:00<?, ?it/s]"
      ]
     },
     "metadata": {},
     "output_type": "display_data"
    },
    {
     "data": {
      "application/vnd.jupyter.widget-view+json": {
       "model_id": "",
       "version_major": 2,
       "version_minor": 0
      },
      "text/plain": [
       "Epoch 8/20 (VALID):   0%|          | 0/32 [00:00<?, ?it/s]"
      ]
     },
     "metadata": {},
     "output_type": "display_data"
    },
    {
     "name": "stdout",
     "output_type": "stream",
     "text": [
      "Epoch 8 \t T. Loss = 0.0174, V. Loss = 0.0218, T. Accuracy 0.710, V. Accuracy 0.628.\n"
     ]
    },
    {
     "data": {
      "application/vnd.jupyter.widget-view+json": {
       "model_id": "",
       "version_major": 2,
       "version_minor": 0
      },
      "text/plain": [
       "Epoch 9/20 (TRAIN):   0%|          | 0/250 [00:00<?, ?it/s]"
      ]
     },
     "metadata": {},
     "output_type": "display_data"
    },
    {
     "data": {
      "application/vnd.jupyter.widget-view+json": {
       "model_id": "",
       "version_major": 2,
       "version_minor": 0
      },
      "text/plain": [
       "Epoch 9/20 (VALID):   0%|          | 0/32 [00:00<?, ?it/s]"
      ]
     },
     "metadata": {},
     "output_type": "display_data"
    },
    {
     "name": "stdout",
     "output_type": "stream",
     "text": [
      "Epoch 9 \t T. Loss = 0.0165, V. Loss = 0.0232, T. Accuracy 0.731, V. Accuracy 0.617.\n"
     ]
    },
    {
     "data": {
      "application/vnd.jupyter.widget-view+json": {
       "model_id": "",
       "version_major": 2,
       "version_minor": 0
      },
      "text/plain": [
       "Epoch 10/20 (TRAIN):   0%|          | 0/250 [00:00<?, ?it/s]"
      ]
     },
     "metadata": {},
     "output_type": "display_data"
    },
    {
     "data": {
      "application/vnd.jupyter.widget-view+json": {
       "model_id": "",
       "version_major": 2,
       "version_minor": 0
      },
      "text/plain": [
       "Epoch 10/20 (VALID):   0%|          | 0/32 [00:00<?, ?it/s]"
      ]
     },
     "metadata": {},
     "output_type": "display_data"
    },
    {
     "name": "stdout",
     "output_type": "stream",
     "text": [
      "Epoch 10 \t T. Loss = 0.0158, V. Loss = 0.0232, T. Accuracy 0.753, V. Accuracy 0.634.\n"
     ]
    },
    {
     "data": {
      "application/vnd.jupyter.widget-view+json": {
       "model_id": "",
       "version_major": 2,
       "version_minor": 0
      },
      "text/plain": [
       "Epoch 11/20 (TRAIN):   0%|          | 0/250 [00:00<?, ?it/s]"
      ]
     },
     "metadata": {},
     "output_type": "display_data"
    },
    {
     "data": {
      "application/vnd.jupyter.widget-view+json": {
       "model_id": "",
       "version_major": 2,
       "version_minor": 0
      },
      "text/plain": [
       "Epoch 11/20 (VALID):   0%|          | 0/32 [00:00<?, ?it/s]"
      ]
     },
     "metadata": {},
     "output_type": "display_data"
    },
    {
     "name": "stdout",
     "output_type": "stream",
     "text": [
      "Epoch 11 \t T. Loss = 0.0150, V. Loss = 0.0255, T. Accuracy 0.765, V. Accuracy 0.602.\n"
     ]
    },
    {
     "data": {
      "application/vnd.jupyter.widget-view+json": {
       "model_id": "",
       "version_major": 2,
       "version_minor": 0
      },
      "text/plain": [
       "Epoch 12/20 (TRAIN):   0%|          | 0/250 [00:00<?, ?it/s]"
      ]
     },
     "metadata": {},
     "output_type": "display_data"
    },
    {
     "data": {
      "application/vnd.jupyter.widget-view+json": {
       "model_id": "",
       "version_major": 2,
       "version_minor": 0
      },
      "text/plain": [
       "Epoch 12/20 (VALID):   0%|          | 0/32 [00:00<?, ?it/s]"
      ]
     },
     "metadata": {},
     "output_type": "display_data"
    },
    {
     "name": "stdout",
     "output_type": "stream",
     "text": [
      "Epoch 12 \t T. Loss = 0.0140, V. Loss = 0.0243, T. Accuracy 0.794, V. Accuracy 0.605.\n"
     ]
    },
    {
     "data": {
      "application/vnd.jupyter.widget-view+json": {
       "model_id": "",
       "version_major": 2,
       "version_minor": 0
      },
      "text/plain": [
       "Epoch 13/20 (TRAIN):   0%|          | 0/250 [00:00<?, ?it/s]"
      ]
     },
     "metadata": {},
     "output_type": "display_data"
    },
    {
     "data": {
      "application/vnd.jupyter.widget-view+json": {
       "model_id": "",
       "version_major": 2,
       "version_minor": 0
      },
      "text/plain": [
       "Epoch 13/20 (VALID):   0%|          | 0/32 [00:00<?, ?it/s]"
      ]
     },
     "metadata": {},
     "output_type": "display_data"
    },
    {
     "name": "stdout",
     "output_type": "stream",
     "text": [
      "Epoch 13 \t T. Loss = 0.0130, V. Loss = 0.0262, T. Accuracy 0.809, V. Accuracy 0.591.\n"
     ]
    },
    {
     "data": {
      "application/vnd.jupyter.widget-view+json": {
       "model_id": "",
       "version_major": 2,
       "version_minor": 0
      },
      "text/plain": [
       "Epoch 14/20 (TRAIN):   0%|          | 0/250 [00:00<?, ?it/s]"
      ]
     },
     "metadata": {},
     "output_type": "display_data"
    },
    {
     "data": {
      "application/vnd.jupyter.widget-view+json": {
       "model_id": "",
       "version_major": 2,
       "version_minor": 0
      },
      "text/plain": [
       "Epoch 14/20 (VALID):   0%|          | 0/32 [00:00<?, ?it/s]"
      ]
     },
     "metadata": {},
     "output_type": "display_data"
    },
    {
     "name": "stdout",
     "output_type": "stream",
     "text": [
      "Epoch 14 \t T. Loss = 0.0119, V. Loss = 0.0283, T. Accuracy 0.835, V. Accuracy 0.578.\n"
     ]
    },
    {
     "data": {
      "application/vnd.jupyter.widget-view+json": {
       "model_id": "",
       "version_major": 2,
       "version_minor": 0
      },
      "text/plain": [
       "Epoch 15/20 (TRAIN):   0%|          | 0/250 [00:00<?, ?it/s]"
      ]
     },
     "metadata": {},
     "output_type": "display_data"
    },
    {
     "data": {
      "application/vnd.jupyter.widget-view+json": {
       "model_id": "",
       "version_major": 2,
       "version_minor": 0
      },
      "text/plain": [
       "Epoch 15/20 (VALID):   0%|          | 0/32 [00:00<?, ?it/s]"
      ]
     },
     "metadata": {},
     "output_type": "display_data"
    },
    {
     "name": "stdout",
     "output_type": "stream",
     "text": [
      "Epoch 15 \t T. Loss = 0.0108, V. Loss = 0.0299, T. Accuracy 0.850, V. Accuracy 0.589.\n"
     ]
    },
    {
     "data": {
      "application/vnd.jupyter.widget-view+json": {
       "model_id": "",
       "version_major": 2,
       "version_minor": 0
      },
      "text/plain": [
       "Epoch 16/20 (TRAIN):   0%|          | 0/250 [00:00<?, ?it/s]"
      ]
     },
     "metadata": {},
     "output_type": "display_data"
    },
    {
     "data": {
      "application/vnd.jupyter.widget-view+json": {
       "model_id": "",
       "version_major": 2,
       "version_minor": 0
      },
      "text/plain": [
       "Epoch 16/20 (VALID):   0%|          | 0/32 [00:00<?, ?it/s]"
      ]
     },
     "metadata": {},
     "output_type": "display_data"
    },
    {
     "name": "stdout",
     "output_type": "stream",
     "text": [
      "Epoch 16 \t T. Loss = 0.0096, V. Loss = 0.0336, T. Accuracy 0.871, V. Accuracy 0.604.\n"
     ]
    },
    {
     "data": {
      "application/vnd.jupyter.widget-view+json": {
       "model_id": "",
       "version_major": 2,
       "version_minor": 0
      },
      "text/plain": [
       "Epoch 17/20 (TRAIN):   0%|          | 0/250 [00:00<?, ?it/s]"
      ]
     },
     "metadata": {},
     "output_type": "display_data"
    },
    {
     "data": {
      "application/vnd.jupyter.widget-view+json": {
       "model_id": "",
       "version_major": 2,
       "version_minor": 0
      },
      "text/plain": [
       "Epoch 17/20 (VALID):   0%|          | 0/32 [00:00<?, ?it/s]"
      ]
     },
     "metadata": {},
     "output_type": "display_data"
    },
    {
     "name": "stdout",
     "output_type": "stream",
     "text": [
      "Epoch 17 \t T. Loss = 0.0086, V. Loss = 0.0373, T. Accuracy 0.885, V. Accuracy 0.586.\n"
     ]
    },
    {
     "data": {
      "application/vnd.jupyter.widget-view+json": {
       "model_id": "",
       "version_major": 2,
       "version_minor": 0
      },
      "text/plain": [
       "Epoch 18/20 (TRAIN):   0%|          | 0/250 [00:00<?, ?it/s]"
      ]
     },
     "metadata": {},
     "output_type": "display_data"
    },
    {
     "data": {
      "application/vnd.jupyter.widget-view+json": {
       "model_id": "",
       "version_major": 2,
       "version_minor": 0
      },
      "text/plain": [
       "Epoch 18/20 (VALID):   0%|          | 0/32 [00:00<?, ?it/s]"
      ]
     },
     "metadata": {},
     "output_type": "display_data"
    },
    {
     "name": "stdout",
     "output_type": "stream",
     "text": [
      "Epoch 18 \t T. Loss = 0.0072, V. Loss = 0.0382, T. Accuracy 0.910, V. Accuracy 0.603.\n"
     ]
    },
    {
     "data": {
      "application/vnd.jupyter.widget-view+json": {
       "model_id": "",
       "version_major": 2,
       "version_minor": 0
      },
      "text/plain": [
       "Epoch 19/20 (TRAIN):   0%|          | 0/250 [00:00<?, ?it/s]"
      ]
     },
     "metadata": {},
     "output_type": "display_data"
    },
    {
     "data": {
      "application/vnd.jupyter.widget-view+json": {
       "model_id": "",
       "version_major": 2,
       "version_minor": 0
      },
      "text/plain": [
       "Epoch 19/20 (VALID):   0%|          | 0/32 [00:00<?, ?it/s]"
      ]
     },
     "metadata": {},
     "output_type": "display_data"
    },
    {
     "name": "stdout",
     "output_type": "stream",
     "text": [
      "Epoch 19 \t T. Loss = 0.0064, V. Loss = 0.0427, T. Accuracy 0.919, V. Accuracy 0.590.\n"
     ]
    },
    {
     "data": {
      "application/vnd.jupyter.widget-view+json": {
       "model_id": "",
       "version_major": 2,
       "version_minor": 0
      },
      "text/plain": [
       "Epoch 20/20 (TRAIN):   0%|          | 0/250 [00:00<?, ?it/s]"
      ]
     },
     "metadata": {},
     "output_type": "display_data"
    },
    {
     "data": {
      "application/vnd.jupyter.widget-view+json": {
       "model_id": "",
       "version_major": 2,
       "version_minor": 0
      },
      "text/plain": [
       "Epoch 20/20 (VALID):   0%|          | 0/32 [00:00<?, ?it/s]"
      ]
     },
     "metadata": {},
     "output_type": "display_data"
    },
    {
     "name": "stdout",
     "output_type": "stream",
     "text": [
      "Epoch 20 \t T. Loss = 0.0053, V. Loss = 0.0500, T. Accuracy 0.935, V. Accuracy 0.591.\n",
      "Training finished.\n"
     ]
    }
   ],
   "source": [
    "train_path = 'data/train.jsonl'\n",
    "dev_path = 'data/dev.jsonl'\n",
    "\n",
    "word_index, vectors_store = index_dictionary(word_vectors)\n",
    "\n",
    "marker = ''.join(random.choices(string.ascii_lowercase, k=20))\n",
    "\n",
    "train_dataset = IndicesDataset(train_path, marker, None)\n",
    "val_dataset = IndicesDataset(dev_path, marker, None)\n",
    "\n",
    "train_loader = torch.utils.data.DataLoader(train_dataset, batch_size=32, shuffle=True, collate_fn=rnn_collate_fn)\n",
    "val_loader = torch.utils.data.DataLoader(val_dataset, batch_size=32, shuffle=False, collate_fn=rnn_collate_fn)\n",
    "\n",
    "device = 'cuda' if torch.cuda.is_available() else 'cpu'\n",
    "criterion = nn.BCELoss()\n",
    "\n",
    "model = LSTMClassifier(vectors_store, 512).to(device)\n",
    "\n",
    "optimizer = torch.optim.Adam(model.parameters(), lr=0.0001, weight_decay=0.0001)\n",
    "\n",
    "checkpoint = Checkpoint(path='checkpoints/rnn')\n",
    "\n",
    "epochs = 20\n",
    "\n",
    "set_seeds()\n",
    "losses, accuracies = fit(epochs, model, criterion, optimizer, train_loader, val_loader, None)"
   ]
  }
 ],
 "metadata": {
  "kernelspec": {
   "display_name": "Python 3",
   "language": "python",
   "name": "python3"
  },
  "language_info": {
   "codemirror_mode": {
    "name": "ipython",
    "version": 3
   },
   "file_extension": ".py",
   "mimetype": "text/x-python",
   "name": "python",
   "nbconvert_exporter": "python",
   "pygments_lexer": "ipython3",
   "version": "3.7.10"
  }
 },
 "nbformat": 4,
 "nbformat_minor": 5
}
