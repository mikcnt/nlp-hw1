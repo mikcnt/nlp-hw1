{
 "cells": [
  {
   "cell_type": "code",
   "execution_count": 8,
   "id": "569b36cf",
   "metadata": {
    "execution": {
     "iopub.execute_input": "2021-04-08T18:41:39.817341Z",
     "iopub.status.busy": "2021-04-08T18:41:39.817181Z",
     "iopub.status.idle": "2021-04-08T18:41:39.820546Z",
     "shell.execute_reply": "2021-04-08T18:41:39.819988Z",
     "shell.execute_reply.started": "2021-04-08T18:41:39.817322Z"
    },
    "tags": []
   },
   "outputs": [],
   "source": [
    "import json\n",
    "import pandas as pd\n",
    "import numpy as np\n",
    "import torch\n",
    "from pprint import pprint\n",
    "import jsonlines\n",
    "import os\n",
    "import re\n",
    "from tqdm.notebook import tqdm\n",
    "import pickle\n",
    "\n",
    "from typing import *"
   ]
  },
  {
   "cell_type": "code",
   "execution_count": 2,
   "id": "220b11a8",
   "metadata": {
    "execution": {
     "iopub.execute_input": "2021-04-08T18:40:21.875563Z",
     "iopub.status.busy": "2021-04-08T18:40:21.875310Z",
     "iopub.status.idle": "2021-04-08T18:40:21.879287Z",
     "shell.execute_reply": "2021-04-08T18:40:21.878545Z",
     "shell.execute_reply.started": "2021-04-08T18:40:21.875537Z"
    },
    "tags": []
   },
   "outputs": [],
   "source": [
    "train_path = 'data/train.jsonl'\n",
    "dev_path = 'data/dev.jsonl'"
   ]
  },
  {
   "cell_type": "markdown",
   "id": "7ff99d46",
   "metadata": {},
   "source": [
    "# Utils"
   ]
  },
  {
   "cell_type": "code",
   "execution_count": 9,
   "id": "cee97ca3",
   "metadata": {
    "execution": {
     "iopub.execute_input": "2021-04-08T18:43:20.939417Z",
     "iopub.status.busy": "2021-04-08T18:43:20.939065Z",
     "iopub.status.idle": "2021-04-08T18:43:20.945492Z",
     "shell.execute_reply": "2021-04-08T18:43:20.944440Z",
     "shell.execute_reply.started": "2021-04-08T18:43:20.939374Z"
    },
    "tags": []
   },
   "outputs": [],
   "source": [
    "def save_dictionary(dictionary, path):\n",
    "    with open(path, 'wb') as f:\n",
    "        pickle.dump(dictionary, f, protocol=pickle.HIGHEST_PROTOCOL)\n",
    "\n",
    "def load_dictionary(path):\n",
    "    with open(path, 'rb') as f:\n",
    "        return pickle.load(f)"
   ]
  },
  {
   "cell_type": "markdown",
   "id": "82de25dc",
   "metadata": {},
   "source": [
    "# Create word embedding with GloVe"
   ]
  },
  {
   "cell_type": "code",
   "execution_count": 5,
   "id": "29701553",
   "metadata": {
    "execution": {
     "iopub.execute_input": "2021-04-08T18:40:55.185145Z",
     "iopub.status.busy": "2021-04-08T18:40:55.185008Z",
     "iopub.status.idle": "2021-04-08T18:40:55.223292Z",
     "shell.execute_reply": "2021-04-08T18:40:55.222678Z",
     "shell.execute_reply.started": "2021-04-08T18:40:55.185127Z"
    },
    "tags": []
   },
   "outputs": [],
   "source": [
    "def sentence2vector(sentence: str) -> Optional[torch.Tensor]:\n",
    "    sentences_word_vector = [word_vectors[w] for w in sentence.split(' ') if w in word_vectors]\n",
    "    \n",
    "    if len(sentences_word_vector) == 0:\n",
    "        return None\n",
    "\n",
    "    sentences_word_vector = torch.stack(sentences_word_vector)  # tensor shape: (#words X #features)\n",
    "    return torch.mean(sentences_word_vector, dim=0)"
   ]
  },
  {
   "cell_type": "code",
   "execution_count": 4,
   "id": "e4a9f699",
   "metadata": {
    "execution": {
     "iopub.execute_input": "2021-04-08T18:40:55.181289Z",
     "iopub.status.busy": "2021-04-08T18:40:55.181151Z",
     "iopub.status.idle": "2021-04-08T18:40:55.184408Z",
     "shell.execute_reply": "2021-04-08T18:40:55.183844Z",
     "shell.execute_reply.started": "2021-04-08T18:40:55.181270Z"
    },
    "tags": []
   },
   "outputs": [],
   "source": [
    "def cosine_similarity(v1: torch.Tensor, v2: torch.Tensor) -> float:\n",
    "    num = torch.sum(v1 * v2)\n",
    "    den = torch.linalg.norm(v1) * torch.linalg.norm(v2)\n",
    "    return (num / den).item()"
   ]
  },
  {
   "cell_type": "code",
   "execution_count": 3,
   "id": "9b425c2a",
   "metadata": {
    "execution": {
     "iopub.execute_input": "2021-04-08T18:40:21.880566Z",
     "iopub.status.busy": "2021-04-08T18:40:21.880378Z",
     "iopub.status.idle": "2021-04-08T18:40:55.180542Z",
     "shell.execute_reply": "2021-04-08T18:40:55.180003Z",
     "shell.execute_reply.started": "2021-04-08T18:40:21.880548Z"
    },
    "tags": []
   },
   "outputs": [
    {
     "data": {
      "application/vnd.jupyter.widget-view+json": {
       "model_id": "f8f6788de66240da9ea71aa7c88a2a60",
       "version_major": 2,
       "version_minor": 0
      },
      "text/plain": [
       "  0%|          | 0/400000 [00:00<?, ?it/s]"
      ]
     },
     "metadata": {},
     "output_type": "display_data"
    }
   ],
   "source": [
    "word_vectors = dict()\n",
    "n_words = 400_000\n",
    "with open('embeddings/glove.6B.300d.txt') as f:\n",
    "    for i, line in tqdm(enumerate(f), total=n_words):\n",
    "\n",
    "        word, *vector = line.strip().split(' ')\n",
    "        vector = torch.tensor([float(c) for c in vector])\n",
    "        \n",
    "        word_vectors[word] = vector"
   ]
  },
  {
   "cell_type": "markdown",
   "id": "55764443",
   "metadata": {},
   "source": [
    "# Dataset class using GloVe"
   ]
  },
  {
   "cell_type": "code",
   "execution_count": 6,
   "id": "6106cc9a",
   "metadata": {
    "execution": {
     "iopub.execute_input": "2021-04-08T18:40:55.224082Z",
     "iopub.status.busy": "2021-04-08T18:40:55.223957Z",
     "iopub.status.idle": "2021-04-08T18:40:55.240282Z",
     "shell.execute_reply": "2021-04-08T18:40:55.239810Z",
     "shell.execute_reply.started": "2021-04-08T18:40:55.224065Z"
    },
    "tags": []
   },
   "outputs": [],
   "source": [
    "class WiCDataset(torch.utils.data.Dataset):\n",
    "    def __init__(self, dataset_path: str):\n",
    "        self.data = []\n",
    "        self.create_dataset(dataset_path)\n",
    "    \n",
    "    def create_dataset(self, dataset_path: str) -> None:\n",
    "        with jsonlines.open(dataset_path, 'r') as f:\n",
    "            for i, line in enumerate(f.iter()):\n",
    "                # s1 = sentence2vector(line['sentence1'])\n",
    "                # s2 = sentence2vector(line['sentence2'])\n",
    "                sentence = f\"{line['sentence1']} {line['sentence2']}\"\n",
    "                sentence_vector = sentence2vector(sentence)\n",
    "                \n",
    "                label = True if line['label'] == 'True' else False\n",
    "                self.data.append((sentence_vector, label))\n",
    "\n",
    "\n",
    "    def __len__(self) -> int:\n",
    "        return len(self.data)\n",
    "\n",
    "    def __getitem__(self, idx: int) -> torch.Tensor:\n",
    "        return self.data[idx]"
   ]
  },
  {
   "cell_type": "code",
   "execution_count": 7,
   "id": "03704011",
   "metadata": {
    "execution": {
     "iopub.execute_input": "2021-04-08T18:40:55.241463Z",
     "iopub.status.busy": "2021-04-08T18:40:55.241317Z",
     "iopub.status.idle": "2021-04-08T18:40:55.904502Z",
     "shell.execute_reply": "2021-04-08T18:40:55.904016Z",
     "shell.execute_reply.started": "2021-04-08T18:40:55.241443Z"
    },
    "tags": []
   },
   "outputs": [],
   "source": [
    "train_dataset = WiCDataset(train_path)"
   ]
  }
 ],
 "metadata": {
  "kernelspec": {
   "display_name": "Python 3",
   "language": "python",
   "name": "python3"
  },
  "language_info": {
   "codemirror_mode": {
    "name": "ipython",
    "version": 3
   },
   "file_extension": ".py",
   "mimetype": "text/x-python",
   "name": "python",
   "nbconvert_exporter": "python",
   "pygments_lexer": "ipython3",
   "version": "3.7.10"
  }
 },
 "nbformat": 4,
 "nbformat_minor": 5
}
